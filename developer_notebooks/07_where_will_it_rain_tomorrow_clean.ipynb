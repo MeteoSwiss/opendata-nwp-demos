{
  "cells": [
    {
      "cell_type": "markdown",
      "metadata": {
        "id": "rpH1nldjYtBf"
      },
      "source": [
        "[![Open In Colab](https://colab.research.google.com/assets/colab-badge.svg)](https://colab.research.google.com/github/MeteoSwiss/opendata-nwp-demos/blob/main/07_where_will_it_rain_tomorrow.ipynb)"
      ]
    },
    {
      "cell_type": "markdown",
      "metadata": {
        "id": "ycGG5RrpYtBj"
      },
      "source": [
        "# 🌧️ Where Will It Rain Tomorrow?\n",
        "\n",
        "Planning a hike or outdoor event? Knowing **where it might rain tomorrow** can make all the difference — and a **[probabilistic forecast](https://www.meteoswiss.admin.ch/weather/weather-and-climate-from-a-to-z/probability-in-forecasts.html)** gives more insight than a simple yes-no answer.\n",
        "\n",
        "This notebook uses the **ICON-CH1-EPS** ensemble system to map the probability that total precipitation will exceed **0.1 mm/day** over the next 24 hours across Switzerland and surrounding regions.\n",
        "\n",
        "\n",
        "### 🔍 What This Notebook Covers:\n",
        "- 📥 Fetch perturbed ICON-CH1-EPS forecast data using [meteodata-lab](https://meteoswiss.github.io/meteodata-lab/)'s `ogd_api` module\n",
        "- 🗺️ Visualize precipitation probabilities with [earthkit-plots](https://earthkit-plots.readthedocs.io/en/latest/examples/guide/01-introduction.html)\n",
        "\n",
        "Let’s explore the forecast and answer the question:  **Where will it rain tomorrow?**"
      ]
    },
    {
      "cell_type": "markdown",
      "metadata": {
        "id": "yRUMF21CYtBk"
      },
      "source": [
        "## 📦 Install Dependencies (Colab only)\n",
        "This cell installs all required dependencies if you're running the notebook in Google Colab. It is automatically skipped when running in a local Jupyter environment."
      ]
    },
    {
      "cell_type": "code",
      "execution_count": null,
      "metadata": {
        "colab": {
          "base_uri": "https://localhost:8080/"
        },
        "id": "TyD2g7SgYtBk",
        "outputId": "301f22d0-8133-401b-ef18-d268aa78b6a7"
      },
      "outputs": [],
      "source": [
        "# 📦 Google Colab Setup (skipped if not running in Colab)\n",
        "import sys\n",
        "\n",
        "def is_colab():\n",
        "    return \"google.colab\" in sys.modules\n",
        "\n",
        "if is_colab():\n",
        "    !git clone https://github.com/MeteoSwiss/opendata-nwp-demos.git\n",
        "    %cd opendata-nwp-demos\n",
        "    !pip install poetry && poetry config virtualenvs.in-project true && poetry install --no-ansi\n",
        "    import sys, os, pathlib\n",
        "    venv = pathlib.Path(\".venv\")\n",
        "    site = venv / \"lib\" / f\"python{sys.version_info.major}.{sys.version_info.minor}\" / \"site-packages\"\n",
        "    sys.path.insert(0, str(site))\n",
        "    os.environ[\"ECCODES_DEFINITION_PATH\"] = str((venv / \"share/eccodes-cosmo-resources/definitions\").resolve())"
      ]
    },
    {
      "cell_type": "markdown",
      "metadata": {
        "id": "YivQUAbZYtBl"
      },
      "source": [
        "## 📥 Retrieve ICON-CH1-EPS Data"
      ]
    },
    {
      "cell_type": "code",
      "execution_count": null,
      "metadata": {
        "colab": {
          "base_uri": "https://localhost:8080/",
          "height": 34,
          "referenced_widgets": [
            "096f9dba1acd42b4bfefa6dcbf9cbc6e",
            "0d5d4c7126cd4898a24971360826bd0e",
            "1b97c92ac51d4bbb95177a5942796832",
            "cf599cc4881947d3b6402872cb46807f",
            "8d88fb9bb12e4f44a9892a97724dce91",
            "79b780824adf46688aa86611b31022c9",
            "00378fba80c0415eb58c20b03db5333d",
            "40e0d876d36f42cd922b057fd5857d2c",
            "acb5ecb2f71d4784a5cce9751137688f",
            "6d2f8a02df1344b3add810c904169c20",
            "ff842e5e3d5540eab4c3d1949672ad59",
            "648de15083b14b7db65a09c955944e69",
            "ba35b13b434042cca664ac6b969cb374",
            "8085b0e345c54259b8b7f704e3caed88",
            "c5b6a84da9164a2094de8fe5fb5559cd",
            "7199d30c5e5448aba4b250af762a4ab5",
            "da235aedacf146999d205386f2315a80",
            "f0d57cd3de1345e2a45e7cdbaee205eb",
            "7a4891429ffc4c07b43c1161829ee599",
            "13ece608dde447db95a1a762b387924d",
            "4cf76d57187f43f69175fbd39fee0bc6",
            "f90aeaf4e5b04248ae9d8cbe5dd821f0"
          ]
        },
        "id": "9dKy61-YYtBm",
        "outputId": "118ef635-86dd-453d-e55e-30c5967baff1"
      },
      "outputs": [],
      "source": [
        "from meteodatalab import ogd_api\n",
        "from datetime import timedelta\n",
        "\n",
        "\n",
        "# Create request\n",
        "req = ogd_api.Request(\n",
        "    collection=\"ogd-forecasting-icon-ch1\",\n",
        "    variable=\"TOT_PREC\",\n",
        "    ref_time=\"latest\",\n",
        "    perturbed=True,           # ensemble mode\n",
        "    lead_time=timedelta(hours=24)\n",
        ")\n",
        "\n",
        "# Fetch data\n",
        "da = ogd_api.get_from_ogd(req)"
      ]
    },
    {
      "cell_type": "markdown",
      "metadata": {
        "id": "68zahvmPYtBn"
      },
      "source": [
        "### Regridding to Regular Grid (EPSG:4326)\n",
        "\n",
        "Model output is remapped to a regular lat/lon grid using `iconremap()` from `meteodatalab.regrid` for visualization."
      ]
    },
    {
      "cell_type": "code",
      "execution_count": null,
      "metadata": {
        "id": "bOZbWj6fYtBo"
      },
      "outputs": [],
      "source": [
        "from rasterio.crs import CRS\n",
        "from meteodatalab.operators import regrid\n",
        "\n",
        "# Define ~1 km target grid over ICON-CH1-EPS domain\n",
        "extent = (-0.817, 18.183, 41.183, 51.183)  # (xmin, xmax, ymin, ymax)\n",
        "nx, ny = 429, 295\n",
        "\n",
        "# Create regular lat/lon grid (EPSG:4326) and regrid\n",
        "destination = regrid.RegularGrid(CRS.from_epsg(4326), nx, ny, *extent)\n",
        "da_geo = regrid.iconremap(da, destination)\n"
      ]
    },
    {
      "cell_type": "markdown",
      "metadata": {
        "id": "q0cgYkZFYtBp"
      },
      "source": [
        "## 🎯 Compute Probability > 0.1 mm"
      ]
    },
    {
      "cell_type": "code",
      "execution_count": null,
      "metadata": {
        "id": "dq2RJTYCYtBp"
      },
      "outputs": [],
      "source": [
        "import numpy as np\n",
        "\n",
        "# Boolean mask where member values > 0.1 mm\n",
        "mask = (da_geo > 0.1)\n",
        "prob_prec = mask.mean(dim=\"eps\") * 100\n",
        "prob_prec.attrs = da.attrs\n",
        "prob_prec.attrs[\"long_name\"] = \"Probability of precipitation > 0.1 mm\"\n",
        "prob_prec.attrs[\"units\"] = \"%\""
      ]
    },
    {
      "cell_type": "markdown",
      "metadata": {
        "id": "lh80gPE0YtBr"
      },
      "source": [
        "## 🗺️ Plot Probability Map"
      ]
    },
    {
      "cell_type": "code",
      "execution_count": null,
      "metadata": {
        "colab": {
          "base_uri": "https://localhost:8080/",
          "height": 743
        },
        "id": "3SFlHaukvuGZ",
        "outputId": "e18859b7-e49f-4f1a-da44-7095328e9d78"
      },
      "outputs": [],
      "source": [
        "import pandas as pd\n",
        "import numpy as np\n",
        "import cartopy.crs as ccrs\n",
        "from earthkit.plots.geo import bounds, domains\n",
        "from earthkit.plots.styles import Style, Contour\n",
        "import earthkit\n",
        "\n",
        "\n",
        "# === Setup Domain (Switzerland) ===\n",
        "bbox = bounds.BoundingBox(5.7, 10.5, 45.6, 48, ccrs.Geodetic())\n",
        "domain = domains.Domain.from_bbox(bbox=bbox)\n",
        "\n",
        "# === Define Style ===\n",
        "levels = [5, 35, 65, 95, 100.01]  # Probability thresholds\n",
        "\n",
        "contourf_style = Style(\n",
        "    levels=levels,\n",
        "    colors=\"YlGnBu\",\n",
        "    legend_style=\"colorbar\",\n",
        ")\n",
        "\n",
        "\n",
        "contour_style = Contour(\n",
        "    levels=levels,\n",
        "    legend_style=None\n",
        ")\n",
        "\n",
        "# === Create Map ===\n",
        "chart = earthkit.plots.Map(domain=domain)\n",
        "\n",
        "# Plot filled contours and line contours\n",
        "chart.contourf(prob_prec, x=\"lon\", y=\"lat\", style=contourf_style)\n",
        "chart.contour(prob_prec, x=\"lon\", y=\"lat\", style=contour_style)\n",
        "\n",
        "# Add map features\n",
        "chart.borders()\n",
        "chart.cities(\"high\")\n",
        "chart.land()\n",
        "chart.legend(label=\"Total precipitation probability >0.1 mm/day (%)\")\n",
        "\n",
        "# === Title Setup ===\n",
        "# Extract reference and lead time\n",
        "ref_time = pd.to_datetime(prob_prec.coords[\"ref_time\"].values[0])\n",
        "lead_time = prob_prec.coords[\"lead_time\"].values[0]\n",
        "lead_hours = int(lead_time.astype(\"timedelta64[h]\") / np.timedelta64(1, \"h\"))\n",
        "valid_time = ref_time + pd.to_timedelta(lead_hours, unit=\"h\")\n",
        "\n",
        "# Format and apply title\n",
        "title_text = \"\\n\".join([\n",
        "    \"Probabilities: total precipitation (hour 0–24) - Total precipitation rate of at least 1 mm/day\",\n",
        "    f\"START TIME: {ref_time.strftime('%a %d %B %Y %H')} UTC\",\n",
        "    f\"VALID TIME: {valid_time.strftime('%a %d %B %Y %H')} UTC STEP: {lead_hours}\"\n",
        "])\n",
        "chart.title(text=title_text)\n",
        "\n",
        "# === Show Plot ===\n",
        "chart.show()\n"
      ]
    }
  ],
  "metadata": {
    "colab": {
      "provenance": []
    },
    "kernelspec": {
      "display_name": "Python (notebooks-nwp-env)",
      "language": "python",
      "name": "notebooks-nwp-env"
    },
    "language_info": {
      "codemirror_mode": {
        "name": "ipython",
        "version": 3
      },
      "file_extension": ".py",
      "mimetype": "text/x-python",
      "name": "python",
      "nbconvert_exporter": "python",
      "pygments_lexer": "ipython3",
      "version": "3.11.8"
    }
  },
  "nbformat": 4,
  "nbformat_minor": 0
}
