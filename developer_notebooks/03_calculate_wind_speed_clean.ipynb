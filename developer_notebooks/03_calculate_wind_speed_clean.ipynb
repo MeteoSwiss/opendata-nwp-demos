{
  "cells": [
    {
      "cell_type": "markdown",
      "metadata": {},
      "source": [
        "[![Open In Colab](https://colab.research.google.com/assets/colab-badge.svg)](https://colab.research.google.com/github/MeteoSwiss/opendata-nwp-demos/blob/main/03_calculate_wind_speed.ipynb)"
      ]
    },
    {
      "cell_type": "markdown",
      "metadata": {},
      "source": [
        "# Derive Wind Speed from the Direct Model Outputs of ICON-CH1-EPS\n",
        "\n",
        "This notebook demonstrates the full workflow for accessing perturbed ICON-CH1-EPS wind forecast data, calculating wind speed and visualizing the results. The data is provided by MeteoSwiss as part of Switzerland’s [Open Government Data (OGD) initiative](https://www.meteoswiss.admin.ch/services-and-publications/service/open-data.html).\n",
        "\n",
        "While ICON-CH1-EPS provides wind as eastward and northward components, users are typically more interested in the **horizontal wind speed**. In this notebook, you'll see how to compute it in a single line using the [meteodata-lab](https://meteoswiss.github.io/meteodata-lab/) library. You will also learn how to retrieve the **maximum wind speed across the ensemble members** from the perturbed forecast.\n",
        "\n",
        "The core functionality is powered by the [meteodata-lab](https://meteoswiss.github.io/meteodata-lab/) library — developed in-house to simplify working with numerical weather model data. It includes the `ogd_api` module for data access, along with utilities for applying temporal and spatial operators to model output, such as calculating wind speed and regridding.\n",
        "\n",
        "For visualization, this notebook uses the [Matplotlib](https://matplotlib.org/stable/index.html) library, a well-known visualization tool in Python. \n",
        "\n",
        "---\n",
        "\n",
        "## 🔍 **What You’ll Do in This Notebook**\n",
        "\n",
        " 🛰️  **Retrieve**  \n",
        "    Fetch perturbed ICON-CH1-EPS forecast data (here the 10m eastward and 10m northward wind) via the `ogd_api` module.\n",
        "\n",
        " 📐  **Calculate**  \n",
        "    Calculate horizontal wind speed using [meteodata-lab](https://meteoswiss.github.io/meteodata-lab/)'s `wind` module and apply ensemble statistics.\n",
        "\n",
        " 🧭  **Regrid**  \n",
        "    Interpolate ICON-CH1-EPS data from its native, icosahedral grid to the regular Swiss grid [LV95 (EPSG:2056)](https://epsg.io/2056).\n",
        "\n",
        " 🌍  **Visualize**  \n",
        "    Plot each ensemble member on a map using [Matplotlib](https://matplotlib.org/stable/index.html).\n",
        "\n",
        "---"
      ]
    },
    {
      "cell_type": "markdown",
      "metadata": {},
      "source": [
        "## Retrieving Forecasts\n",
        "In this first part, we retrieve perturbed eastward and northward wind forecast data produced by ICON-CH1-EPS. To access this data, we use the `ogd_api` module from the [meteodata-lab](https://meteoswiss.github.io/meteodata-lab/) library — a convenient interface for accessing numerical weather forecasts via the [STAC (SpatioTemporal Asset Catalog) API](https://data.geo.admin.ch/api/stac/static/spec/v1/apitransactional.html#tag/Data/operation/getAsset), which provides structured access to Switzerland’s open geospatial data."
      ]
    },
    {
      "cell_type": "markdown",
      "metadata": {},
      "source": [
        "#### 📁  Browsing the STAC Catalog (Optional)\n",
        "\n",
        "If you'd like to explore the ICON-CH1/2-EPS forecast datasets interactively before writing code, you can browse them directly in the STAC catalog:\n",
        "\n",
        "&nbsp;&nbsp;&nbsp;&nbsp;🔗  [Browse the ICON-CH1-EPS collection](https://data.geo.admin.ch/browser/#/collections/ch.meteoschweiz.ogd-forecasting-icon-ch1?.language=en)\n",
        "\n",
        "&nbsp;&nbsp;&nbsp;&nbsp;🔗  [Browse the ICON-CH2-EPS collection](https://data.geo.admin.ch/browser/#/collections/ch.meteoschweiz.ogd-forecasting-icon-ch2?.language=en)\n",
        "\n",
        "\n",
        "Below is a screenshot of the ICON-CH2-EPS collection as seen in the STAC browser interface.\n"
      ]
    },
    {
      "cell_type": "markdown",
      "metadata": {},
      "source": [
        "![browser-ch2.png](./images/browser-ch2.png)"
      ]
    },
    {
      "cell_type": "markdown",
      "metadata": {},
      "source": [
        "⚙️ **Google Colab Setup**  \n",
        "This cell installs all required dependencies if you're running the notebook in **Google Colab**.  \n",
        "It is automatically skipped when running in a local Jupyter environment."
      ]
    },
    {
      "cell_type": "code",
      "execution_count": null,
      "metadata": {},
      "outputs": [],
      "source": [
        "# 📦 Google Colab Setup (skipped if not running in Colab)\n",
        "import sys\n",
        "\n",
        "def is_colab():\n",
        "    return \"google.colab\" in sys.modules\n",
        "\n",
        "if is_colab():\n",
        "    !git clone https://github.com/MeteoSwiss/opendata-nwp-demos.git\n",
        "    %cd opendata-nwp-demos\n",
        "    !pip install poetry && poetry config virtualenvs.in-project true && poetry install --no-ansi\n",
        "    import sys, os, pathlib\n",
        "    venv = pathlib.Path(\".venv\")\n",
        "    site = venv / \"lib\" / f\"python{sys.version_info.major}.{sys.version_info.minor}\" / \"site-packages\"\n",
        "    sys.path.insert(0, str(site))\n",
        "    os.environ[\"ECCODES_DEFINITION_PATH\"] = str((venv / \"share/eccodes-cosmo-resources/definitions\").resolve())"
      ]
    },
    {
      "cell_type": "markdown",
      "metadata": {},
      "source": [
        "### Creating Requests\n",
        "To retrieve the forecast data, we first define API requests using the `ogd_api.Request` class. In this example, two requests are made: one for the eastward wind at 10 meters above the surface (`U_10M`) and one for the northward wind at the same height (`V_10M`). Each request targets perturbed data at the initialization time of the forecast.\n",
        "\n",
        ">⏰ **Forecast Availability**: Forecast data will typically be available a couple of hours after the reference time — due to the model runtime and subsequent upload time. The data remains accessible for 24 hours after upload."
      ]
    },
    {
      "cell_type": "code",
      "execution_count": null,
      "metadata": {},
      "outputs": [],
      "source": [
        "from datetime import datetime, timezone\n",
        "from meteodatalab import ogd_api\n",
        "\n",
        "# Set default date of today midnight in UTC\n",
        "today_midnight_utc = datetime.now(timezone.utc).replace(hour=0, minute=0, second=0, microsecond=0)\n",
        "\n",
        "# retrieve eastward wind at 10m\n",
        "req_U10 = ogd_api.Request(\n",
        "    collection=\"ogd-forecasting-icon-ch1\",\n",
        "    variable=\"U_10M\",\n",
        "    reference_datetime=today_midnight_utc,\n",
        "    perturbed=True,\n",
        "    horizon=\"P0DT0H\",\n",
        ")\n",
        "\n",
        "# retrieve northward wind at 10m\n",
        "req_V10 = ogd_api.Request(\n",
        "    collection=\"ogd-forecasting-icon-ch1\",\n",
        "    variable=\"V_10M\",\n",
        "    reference_datetime=today_midnight_utc,\n",
        "    perturbed=True,\n",
        "    horizon=\"P0DT0H\",\n",
        ")"
      ]
    },
    {
      "cell_type": "markdown",
      "metadata": {},
      "source": [
        "Each argument in the request serves the following purpose:\n",
        "\n",
        "| Argument             | Description |\n",
        "|----------------------|-------------|\n",
        "| `collection`         | Forecast collection to use (e.g., `ogd-forecasting-icon-ch1`). |\n",
        "| `variable`           | Meteorological variable of interest (`U_10M` = eastward wind at 10m and `V_10M` = northward wind at 10m). |\n",
        "| `reference_datetime` | Initialization time of the forecast in **UTC**, provided as either:<br>- [datetime.datetime](https://docs.python.org/3/library/datetime.html#datetime-objects) object (e.g.,<br> &nbsp; `datetime.datetime(2025, 5, 22, 9, 0, 0, tzinfo=datetime.timezone.utc)`) <br>- [ISO 8601](https://en.wikipedia.org/wiki/ISO_8601#Combined_date_and_time_representations) date string (e.g., `\"2025-05-22T09:00:00Z\"`)|\n",
        "| `perturbed`          | If `True`, retrieves ensemble forecast members; if `False`, returns the deterministic forecast. |\n",
        "| `horizon`            | Forecast lead time, provided as either:<br>– [datetime.timedelta](https://docs.python.org/3/library/datetime.html#timedelta-objects) object (e.g., `datetime.timedelta(hours=0)`) <br>– [ISO 8601](https://en.wikipedia.org/wiki/ISO_8601#Durations) duration string (e.g., `\"P0DT0H\"`)|"
      ]
    },
    {
      "cell_type": "markdown",
      "metadata": {},
      "source": [
        "### Retrieving Data\n",
        "We now send our requests to the API and retrieve the resulting datasets using the `get_from_ogd()` function.\n",
        "Each response is returned as an **[xarray.DataArray](https://docs.xarray.dev/en/stable/generated/xarray.DataArray.html)**, which is efficient for handling multi-dimensional data.\n",
        "\n",
        "> 💡 **Tip**: Use temporary caching with earthkit-data to skip repeated downloads — it's auto-cleaned after the session.\n",
        "> *For more details, see the [earthkit-data caching docs](https://earthkit-data.readthedocs.io/en/latest/examples/cache.html)*.\n",
        "\n",
        "> 💡 **Hint**: If you get an error message containing `HTTPError: 403 Client Error: Forbidden for url`, you may be trying to retrieve data older than 24h hours! Please adjust your requests."
      ]
    },
    {
      "cell_type": "code",
      "execution_count": null,
      "metadata": {},
      "outputs": [],
      "source": [
        "from earthkit.data import config\n",
        "config.set(\"cache-policy\", \"temporary\")\n",
        "\n",
        "da_U = ogd_api.get_from_ogd(req_U10)\n",
        "da_V = ogd_api.get_from_ogd(req_V10)"
      ]
    },
    {
      "cell_type": "markdown",
      "metadata": {},
      "source": [
        "## Data Preprocessing"
      ]
    },
    {
      "cell_type": "markdown",
      "metadata": {},
      "source": [
        "Once the data has been loaded, continue with the preprocessing of the data. The following preprocessing steps\n",
        "are summarized here:\n",
        "- Calculate horizontal wind speed\n",
        "- Determine the maximum wind speed across all ensemble members\n",
        "- Regrid the data to the regular Swiss grid EPSG:2056"
      ]
    },
    {
      "cell_type": "markdown",
      "metadata": {},
      "source": [
        "### Calculating Wind Speed\n",
        "The horizontal wind speed can be computed using the `speed()` function provided by the `wind` module in [meteodata-lab](https://meteoswiss.github.io/meteodata-lab/). This function takes two [xarray.DataArray](https://docs.xarray.dev/en/stable/generated/xarray.DataArray.html) objects as input: the eastward (`da_U`) and northward (`da_V`) wind component."
      ]
    },
    {
      "cell_type": "code",
      "execution_count": null,
      "metadata": {},
      "outputs": [],
      "source": [
        "from meteodatalab.operators import wind\n",
        "\n",
        "wind_speed = wind.speed(da_U, da_V)\n",
        "wind_speed"
      ]
    },
    {
      "cell_type": "markdown",
      "metadata": {},
      "source": [
        "The resulting `xarray.DataArray` has the following dimensions:\n",
        "\n",
        "- `eps` (ensemble members): 10 members (for perturbed data)\n",
        "- `ref_time`: single reference time (e.g. default date of today midnight)\n",
        "- `lead_time`: single lead time (e.g +0 hours)\n",
        "- `z`: vertical level (e.g. 10m above ground)\n",
        "- `cell`: 1,147,980 spatial grid points\n",
        "\n",
        "It includes attributes specifying some meta data such as:\n",
        "\n",
        "- `parameter`: information on the meteorogical parameter (e.g. name, units etc.)\n",
        "- `vcoord_type`: information of the vertical coordinate type, here `heightAboveGround`\n",
        "\n",
        "> &#x1F525; **Expert users:** If you are interested in detailed meta data information, i.e. the GRIB encodings, you can retrieve it from the `metadata` attribute.\n",
        "Please refer to the [earthkit-data metadata documentation](https://earthkit-data.readthedocs.io/en/latest/examples/metadata.html)."
      ]
    },
    {
      "cell_type": "markdown",
      "metadata": {},
      "source": [
        "### Maximum Wind Speed Across All Ensemble Members \n",
        "To determine the highest possible wind speed predicted by the model, we compute the maximum value across all ensemble members. This can be done in a single line using xarray’s `.max()` operator. Below, we demonstrate this using the previously calculated 10m wind speed at the initialization time of the forecast."
      ]
    },
    {
      "cell_type": "code",
      "execution_count": null,
      "metadata": {},
      "outputs": [],
      "source": [
        "wind_max = wind_speed.max(dim='eps', keep_attrs=True)"
      ]
    },
    {
      "cell_type": "markdown",
      "metadata": {},
      "source": [
        "### Regridding to the Regular Swiss Grid [LV95](https://epsg.io/2056)\n",
        "To visualize or compare ICON-CH1-EPS model outputs with other datasets, it is often necessary to regrid the data from its native unstructured grid to a regular grid.\n",
        "\n",
        "This can be done using the `regrid` utilities provided by [meteodata-lab](https://meteoswiss.github.io/meteodata-lab/).\n",
        "\n",
        "We begin by defining a **target grid**, starting with its **spatial extent**, also known as the bounding box. This is specified by the minimum and maximum coordinate values along the x and y axes.\n",
        "\n",
        "In this example, we use the `regrid.iconremap()` function to perform the regridding. Depending on how the target grid's spatial extent is defined, it can fall into one of the following cases:\n",
        "  - ✅ **Fully overlap** the ICON-CH1/CH2-EPS domain: all target grid points are interpolated.\n",
        "  - ⚠️ **Partially overlap**: only the overlapping area will contain valid values; other points are filled with `NaN`.\n",
        "  - ❌ **Lie completely outside** the ICON-CH1/CH2-EPS domain: all target grid values will be `NaN`.\n",
        "\n",
        "📌 For this example, we define an area covering Switzerland.\n"
      ]
    },
    {
      "cell_type": "code",
      "execution_count": null,
      "metadata": {},
      "outputs": [],
      "source": [
        "# Define the target grid extent\n",
        "xmin, xmax = 2439000, 2867000 # east-west limits in meters\n",
        "ymin, ymax = 1040500, 1334500 # north-south limits in meters"
      ]
    },
    {
      "cell_type": "markdown",
      "metadata": {},
      "source": [
        "Next, we define the **number of grid points** (`nx`, `ny`) to control the resolution of the regular grid. We computed `nx` and `ny` to match the resolution of the ICON-CH1-EPS domain (≈ **1 km**).\n",
        "\n",
        "> 🔢 [How to compute nx, ny for a custom resolution](./computing_nx_ny.md)"
      ]
    },
    {
      "cell_type": "code",
      "execution_count": null,
      "metadata": {},
      "outputs": [],
      "source": [
        "# Compute the number of grid points to match ~1 km resolution\n",
        "nx, ny = 429, 295             # Number of grid points in x and y"
      ]
    },
    {
      "cell_type": "markdown",
      "metadata": {},
      "source": [
        "The parameters `nx` and `ny` are passed to `regrid.RegularGrid`, which defines the spatial geometry of the output grid."
      ]
    },
    {
      "cell_type": "code",
      "execution_count": null,
      "metadata": {},
      "outputs": [],
      "source": [
        "from rasterio.crs import CRS\n",
        "from meteodatalab.operators import regrid\n",
        "\n",
        "# Create a regular lat/lon grid using the Swiss grid EPSG:2056\n",
        "destination = regrid.RegularGrid(\n",
        "    CRS.from_string(\"epsg:2056\"), nx, ny, xmin, xmax, ymin, ymax\n",
        ")"
      ]
    },
    {
      "cell_type": "markdown",
      "metadata": {},
      "source": [
        "Finally, regrid the data for each ensemble and for the maximum wind speed to the regular Swiss grid  LV95 (EPGS:2056).\n"
      ]
    },
    {
      "cell_type": "code",
      "execution_count": null,
      "metadata": {},
      "outputs": [],
      "source": [
        "wind_swiss_list = []\n",
        "\n",
        "for i in range(wind_speed.sizes[\"eps\"]):\n",
        "    wind_swiss = regrid.iconremap(wind_speed.isel(eps=i), destination)\n",
        "    wind_swiss_list.append(wind_swiss)\n",
        "\n",
        "wind_max_swiss = regrid.iconremap(wind_max, destination)\n",
        "wind_swiss_list.append(wind_max_swiss)"
      ]
    },
    {
      "cell_type": "markdown",
      "metadata": {},
      "source": [
        "## Visualizing Wind Speeds on the Swiss Grid\n",
        "We now visualize the predicted wind speeds for each ensemble member, along with the maximum wind speed on a map. We use [Matplotlib](https://matplotlib.org/stable/index.html), a wildly used visualization library in Python.\n",
        "\n",
        "> 💡 **Note**: This notebook uses [Matplotlib](https://matplotlib.org/stable/index.html) instead of [earthkit-plots](https://earthkit-plots.readthedocs.io/en/latest/examples/guide/01-introduction.html), as the regridded data on the Swiss grid LV95 lacks the metadata required for using earthkit-plots."
      ]
    },
    {
      "cell_type": "code",
      "execution_count": null,
      "metadata": {},
      "outputs": [],
      "source": [
        "import pandas as pd\n",
        "import matplotlib.pyplot as plt\n",
        "from matplotlib.colors import LinearSegmentedColormap\n",
        "from cartopy import crs as ccrs, feature as cfeature\n",
        "\n",
        "from plot_utils.load_colormaps import load_ncl_rgb_colors\n",
        "\n",
        "# === Config ===\n",
        "crs_epsg2056 = ccrs.epsg(2056)\n",
        "nrows, ncols = 4, 3\n",
        "figsize = (14, 14)\n",
        "\n",
        "\n",
        "# === Load Custom Colormap ===\n",
        "def get_custom_cmap(name=\"wind_17lev\"):\n",
        "    colors, levels = load_ncl_rgb_colors(name)\n",
        "    cmap = LinearSegmentedColormap.from_list(name, colors)\n",
        "    return cmap, levels\n",
        "\n",
        "cmap, cmap_levels = get_custom_cmap()\n",
        "\n",
        "# === Create Figure ===\n",
        "fig = plt.figure(figsize=figsize)\n",
        "last_index = len(wind_swiss_list) - 1\n",
        "\n",
        "# === Plot Each Wind Field ===\n",
        "for idx, wind_swiss in enumerate(wind_swiss_list):\n",
        "    ax = fig.add_subplot(nrows, ncols, idx + 1, projection=crs_epsg2056)\n",
        "    f = wind_swiss.squeeze()\n",
        "\n",
        "    c = ax.contourf(destination.x, destination.y, f.values, levels=cmap_levels, cmap=cmap, transform=crs_epsg2056)\n",
        "\n",
        "    title = \"Maximum Wind Speed\" if idx == last_index else f\"Ensemble {wind_swiss.coords['eps'].values}\"\n",
        "    ax.set_title(title)\n",
        "\n",
        "    ax.add_feature(cfeature.BORDERS)\n",
        "    ax.add_feature(cfeature.LAND)\n",
        "\n",
        "    gl = ax.gridlines(draw_labels=True)\n",
        "    gl.top_labels = False\n",
        "    gl.right_labels = False\n",
        "\n",
        "# === Colorbar & Annotations ===\n",
        "wind_param = wind_swiss_list[0].attrs[\"parameter\"]\n",
        "legend_label = f\"{wind_param['name']} ({wind_param['units']})\"\n",
        "\n",
        "# === Set colorbar axis ===\n",
        "cax = plt.axes((0.673, 0.19, ax.get_position().width, 0.01))\n",
        "fig.colorbar(c, cax=cax, orientation='horizontal', label=legend_label)\n",
        "\n",
        "# === Figure Title ===\n",
        "ref_time = pd.to_datetime(wind_swiss_list[0].coords[\"ref_time\"].values[0]).strftime(\"%Y-%m-%d %H:%M UTC\")\n",
        "lead_time = wind_swiss_list[0].coords[\"lead_time\"].values[0].astype('timedelta64[h]')\n",
        "title = f\"10 Meters Wind Speed | {ref_time} (+{lead_time})\"\n",
        "fig.suptitle(title)\n",
        "\n",
        "plt.show()"
      ]
    }
  ],
  "metadata": {
    "kernelspec": {
      "display_name": "Python (notebooks-nwp-env)",
      "language": "python",
      "name": "notebooks-nwp-env"
    },
    "language_info": {
      "codemirror_mode": {
        "name": "ipython",
        "version": 3
      },
      "file_extension": ".py",
      "mimetype": "text/x-python",
      "name": "python",
      "nbconvert_exporter": "python",
      "pygments_lexer": "ipython3",
      "version": "3.11.8"
    }
  },
  "nbformat": 4,
  "nbformat_minor": 2
}
