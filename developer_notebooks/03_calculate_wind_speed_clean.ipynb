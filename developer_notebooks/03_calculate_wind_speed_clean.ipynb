{
  "cells": [
    {
      "cell_type": "markdown",
      "metadata": {},
      "source": [
        "# Derive Wind Speed from the Direct Model Outputs of ICON-CH1-EPS\n",
        "\n",
        "This notebook demonstrates the full workflow for accessing perturbed ICON-CH1-EPS wind forecast data, calculating wind speed and visualizing the results. The data is provided by MeteoSwiss as part of Switzerland’s [Open Government Data (OGD) initiative](https://www.meteoswiss.admin.ch/services-and-publications/service/open-data.html).\n",
        "\n",
        "The core functionality is powered by the [meteodata-lab](https://meteoswiss.github.io/meteodata-lab/) library — developed in-house to simplify working with numerical weather model data. It includes the `ogd_api` module for data access, along with utilities for applying temporal and spatial operators to model output, such as calculating wind speed and regridding.\n",
        "\n",
        "For visualization, this notebook uses the [Matplotlib](https://matplotlib.org/stable/index.html) library, a well-known visualization tool in Python. \n",
        "\n",
        "---\n",
        "\n",
        "## 🔍 **What You’ll Do in This Notebook**\n",
        "\n",
        " 🛰️  **Retrieve**  \n",
        "    Fetch perturbed ICON-CH1-EPS forecast data (e.g., 10m eastward and 10m northward wind) via the `ogd_api` module.\n",
        "\n",
        " 📐  **Calculate**  \n",
        "    Calculate horizontal wind speed using [meteodata-lab](https://meteoswiss.github.io/meteodata-lab/)'s `wind` module and apply ensemble statistics..\n",
        "\n",
        " 🧭  **Regrid**  \n",
        "    Interpolate ICON-CH1-EPS data from its native, icosahedral grid to the regular [Swiss grid LV95+ EPSG:2056](https://epsg.io/2056).\n",
        "\n",
        " 🌍  **Visualize**  \n",
        "    Plot each ensemble member on a map with meteorological styling using [Matplotlib](https://matplotlib.org/stable/index.html).\n",
        "\n",
        "---"
      ]
    },
    {
      "cell_type": "markdown",
      "metadata": {},
      "source": [
        "## Retrieving Precipitation Forecast\n",
        "In this first part, we retrieve perturbed eastward and northward wind forecast data from the numerical weather model ICON-CH1-EPS. To access this data, we use the `ogd_api` module from the [meteodata-lab](https://meteoswiss.github.io/meteodata-lab/) library — a convenient interface for accessing numerical weather forecasts via the [STAC (SpatioTemporal Asset Catalog) API](https://data.geo.admin.ch/api/stac/static/spec/v1/apitransactional.html#tag/Data/operation/getAsset), which provides structured access to Switzerland’s open geospatial data."
      ]
    },
    {
      "cell_type": "markdown",
      "metadata": {},
      "source": [
        "#### 📁  Browsing the STAC Catalog (Optional)\n",
        "\n",
        "If you'd like to explore the ICON forecast datasets interactively before writing code, you can browse them directly in the STAC catalog:\n",
        "\n",
        "&nbsp;&nbsp;&nbsp;&nbsp;🔗  [Browse the ICON-CH1-EPS collection](https://data.geo.admin.ch/browser/#/collections/ch.meteoschweiz.ogd-forecasting-icon-ch1?.language=en)\n",
        "\n",
        "&nbsp;&nbsp;&nbsp;&nbsp;🔗  [Browse the ICON-CH2-EPS collection](https://data.geo.admin.ch/browser/#/collections/ch.meteoschweiz.ogd-forecasting-icon-ch2?.language=en)\n",
        "\n",
        "\n",
        "Below is a screenshot of the ICON-CH2-EPS collection as seen in the STAC browser interface.\n"
      ]
    },
    {
      "cell_type": "markdown",
      "metadata": {},
      "source": [
        "![browser-ch2-resized.PNG](./images/browser-ch2-resized.PNG)"
      ]
    },
    {
      "cell_type": "markdown",
      "metadata": {},
      "source": [
        "### Creating Requests\n",
        "To retrieve the forecast data, we first define API requests using the `ogd_api.Request` class. In this example, two requests are specified: one for accessing grid eastward wind 10 meter above the surface (`U_10M`) and the other for accessing grid northward wind 10 meter above the surface (`V_10M`). Each request targets perturbed data at the initialization time of the forecast.\n",
        "\n",
        ">⏰ **Forecast Availability**: Forecast data will typically be available a couple of hours after the reference time — due to the model runtime and subsequent upload time. The data remains accessible for 24 hours after upload."
      ]
    },
    {
      "cell_type": "code",
      "execution_count": null,
      "metadata": {},
      "outputs": [],
      "source": [
        "from datetime import datetime, timezone\n",
        "from meteodatalab import ogd_api\n",
        "\n",
        "# Set default date of today midnight in UTC\n",
        "today_midnight_utc = datetime.now(timezone.utc).replace(hour=0, minute=0, second=0, microsecond=0)\n",
        "\n",
        "# retrieve 10 meter eastward wind\n",
        "req_U10 = ogd_api.Request(\n",
        "    collection=\"ogd-forecasting-icon-ch1\",\n",
        "    variable=\"U_10M\",\n",
        "    reference_datetime=today_midnight_utc,\n",
        "    perturbed=True,\n",
        "    horizon=\"P0DT0H\",\n",
        ")\n",
        "\n",
        "# retrieve 10 meter northward wind\n",
        "req_V10 = ogd_api.Request(\n",
        "    collection=\"ogd-forecasting-icon-ch1\",\n",
        "    variable=\"V_10M\",\n",
        "    reference_datetime=today_midnight_utc,\n",
        "    perturbed=True,\n",
        "    horizon=\"P0DT0H\",\n",
        ")"
      ]
    },
    {
      "cell_type": "markdown",
      "metadata": {},
      "source": [
        "Each argument in the request serves the following purpose:\n",
        "\n",
        "| Argument             | Description |\n",
        "|----------------------|-------------|\n",
        "| `collection`         | Forecast collection to use (e.g., `ogd-forecasting-icon-ch1`). |\n",
        "| `variable`           | Meteorological variable of interest (`U_10M` = 10 meter grid eastward wind and `V_10M` = 10 meter grid northward wind). |\n",
        "| `reference_datetime` | Initialization time of the forecast in **UTC**, provided as either:<br>- [datetime.datetime](https://docs.python.org/3/library/datetime.html#datetime-objects) object (e.g.,<br> &nbsp; `datetime.datetime(2025, 5, 22, 9, 0, 0, tzinfo=datetime.timezone.utc)`) <br>- [ISO 8601](https://en.wikipedia.org/wiki/ISO_8601#Combined_date_and_time_representations) date string (e.g., `\"2025-05-22T09:00:00Z\"`)|\n",
        "| `perturbed`          | If `True`, retrieves ensemble forecast members; if `False`, returns the deterministic forecast. |\n",
        "| `horizon`            | Forecast lead time, provided as either:<br>– [datetime.timedelta](https://docs.python.org/3/library/datetime.html#timedelta-objects) object (e.g., `datetime.timedelta(hours=0)`) <br>– [ISO 8601](https://en.wikipedia.org/wiki/ISO_8601#Durations) duration string (e.g., `\"P0DT0H\"`)|"
      ]
    },
    {
      "cell_type": "markdown",
      "metadata": {},
      "source": [
        "### Retrieving Data\n",
        "We now send our requests to the API and retrieve the resulting datasets using the `get_from_ogd()` function.\n",
        "Each response is returned as an **[xarray.DataArray](https://docs.xarray.dev/en/stable/generated/xarray.DataArray.html)**, which is efficient for handling multi-dimensional data.\n",
        "\n",
        "> 💡 **Tip**: Use temporary caching with earthkit-data to skip repeated downloads — it's auto-cleaned after the session.\n",
        "> *For more details, see the [earthkit-data caching docs](https://earthkit-data.readthedocs.io/en/latest/examples/cache.html)*.\n",
        "\n",
        "> 💡 **Hint**: If you get an error message containing \"HTTPError: 403 Client Error: Forbidden for url\", you may be trying to retrieve data older than 24h hours! Please adjust your requests."
      ]
    },
    {
      "cell_type": "code",
      "execution_count": null,
      "metadata": {},
      "outputs": [],
      "source": [
        "from earthkit.data import config\n",
        "config.set(\"cache-policy\", \"temporary\")\n",
        "\n",
        "da_U = ogd_api.get_from_ogd(req_U10)\n",
        "da_V = ogd_api.get_from_ogd(req_V10)"
      ]
    },
    {
      "cell_type": "markdown",
      "metadata": {},
      "source": [
        "## Data Preprocessing"
      ]
    },
    {
      "cell_type": "markdown",
      "metadata": {},
      "source": [
        "Once the data has been loaded, continue with the preprocessing of the data if needed. The following preprocessing steps\n",
        "are described here:\n",
        "- Calculating horizontal wind speed\n",
        "- Regridding the data to the regular Swiss grid EPSG:2056"
      ]
    },
    {
      "cell_type": "markdown",
      "metadata": {},
      "source": [
        "### Calculating Wind Speed\n",
        "To calculate the horizontal wind speed with the `speed` function from [meteodata-lab](https://meteoswiss.github.io/meteodata-lab/), we need the eastward and northward wind [xarray.DataArray](https://docs.xarray.dev/en/stable/generated/xarray.DataArray.html) `da_U` and `da_V`."
      ]
    },
    {
      "cell_type": "code",
      "execution_count": null,
      "metadata": {},
      "outputs": [],
      "source": [
        "from meteodatalab.operators import wind\n",
        "\n",
        "wind_speed = wind.speed(da_U, da_V)\n",
        "wind_speed"
      ]
    },
    {
      "cell_type": "markdown",
      "metadata": {},
      "source": [
        "The resulting `xarray.DataArray` has the following dimensions:\n",
        "\n",
        "- `eps` (ensemble members): 10 members (for ICON-CH1-EPS data)\n",
        "- `ref_time`: Single reference time (e.g. default date of today midnight)\n",
        "- `lead_time`: Single lead time (e.g +0 hours)\n",
        "- `cell`: 1,147,980 spatial grid points\n",
        "\n",
        "It includes attributes specifying some meta data such as:\n",
        "\n",
        "- `parameter`: information on the meteorogical parameter, here wind speed\n",
        "- `vcoord_type`: information of the vertical coordinate type, here heightAboveGround\n",
        "\n",
        "> &#x1F525; **Expert users:** If you are interested in detailed meta data information, i.e. the GRIB encodings, you can retrieve it from the `metadata` attribute.\n",
        "Please refer to the [earthkit-data metadata documentation](https://earthkit-data.readthedocs.io/en/latest/examples/metadata.html)."
      ]
    },
    {
      "cell_type": "markdown",
      "metadata": {},
      "source": [
        "### Regridding to a Regular Grid\n",
        "To visualize or compare ICON model outputs with other datasets, it is often necessary to regrid the data from its native unstructured grid to a regular latitude/longitude grid.\n",
        "\n",
        "This can be done using the `regrid` utilities provided by [meteodata-lab](https://meteoswiss.github.io/meteodata-lab/).\n",
        "\n",
        "We begin by defining a **target grid**, starting with its **spatial extent**, also known as the bounding box. This is specified by the minimum and maximum coordinate values along the x and y axes.\n",
        "\n",
        "In this example, we use the `regrid.iconremap` function to perform the regridding. Depending on how the target grid's spatial extent is defined, it can fall into one of the following cases:\n",
        "  - ✅ **Fully overlap** the ICON-CH1/CH2-EPS domain: all target grid points are interpolated.\n",
        "  - ⚠️ **Partially overlap**: only the overlapping area will contain valid values; other points are filled with `NaN`.\n",
        "  - ❌ **Lie completely outside** the ICON-CH1/CH2-EPS domain: all target grid values will be `NaN`.\n",
        "\n",
        "📌 For this example, we define a square area covering Switzerland.\n"
      ]
    },
    {
      "cell_type": "code",
      "execution_count": null,
      "metadata": {},
      "outputs": [],
      "source": [
        "# Define the target grid extent and resolution\n",
        "xmin, xmax = 2439000, 2867000 # Meter bounds\n",
        "ymin, ymax = 1040500, 1334500 # Meter bounds"
      ]
    },
    {
      "cell_type": "markdown",
      "metadata": {},
      "source": [
        "Next, we define the **number of grid points** (`nx`, `ny`) to control the resolution of the regular grid. We computed `nx` and `ny` to match the resolution of the ICON-CH1-EPS domain (≈ **1 km**).\n",
        "\n",
        "> 🔢 [How to compute nx, ny for a custom resolution](./computing_nx_ny.md)"
      ]
    },
    {
      "cell_type": "code",
      "execution_count": null,
      "metadata": {},
      "outputs": [],
      "source": [
        "# Compute the number of grid points to match ~2 km resolution\n",
        "nx, ny = 429, 195             # Number of grid points in x and y"
      ]
    },
    {
      "cell_type": "markdown",
      "metadata": {},
      "source": [
        "The parameters n<sub>x</sub> and n<sub>y</sub> are passed to `regrid.RegularGrid`, which defines the spatial geometry of the output grid."
      ]
    },
    {
      "cell_type": "code",
      "execution_count": null,
      "metadata": {},
      "outputs": [],
      "source": [
        "from rasterio.crs import CRS\n",
        "from meteodatalab.operators import regrid\n",
        "\n",
        "# Create a regular lat/lon grid using the Swiss grid EPSG:2056\n",
        "destination = regrid.RegularGrid(\n",
        "    CRS.from_string(\"epsg:2056\"), nx, ny, xmin, xmax, ymin, ymax\n",
        ")"
      ]
    },
    {
      "cell_type": "markdown",
      "metadata": {},
      "source": [
        "Finally, remap the data for each ensemble to the regular Swiss grid EPGS:2056.\n"
      ]
    },
    {
      "cell_type": "code",
      "execution_count": null,
      "metadata": {},
      "outputs": [],
      "source": [
        "wind_geo_list = []\n",
        "num_of_eps = len(wind_speed.eps)\n",
        "\n",
        "for i in range(num_of_eps):\n",
        "    wind_geo = regrid.iconremap(wind_speed.isel(eps=i), destination)\n",
        "    wind_geo_list.append(wind_geo)"
      ]
    },
    {
      "cell_type": "markdown",
      "metadata": {},
      "source": [
        "## Visualizing Wind Speed on a Map\n",
        "We now visualize the predicted wind speeds for each of the ensemble members on a map. This uses [Matplotlib](https://matplotlib.org/stable/index.html), a wildly used visualization library in Python."
      ]
    },
    {
      "cell_type": "code",
      "execution_count": null,
      "metadata": {},
      "outputs": [],
      "source": [
        "from cartopy import crs as ccrs\n",
        "from cartopy import feature as cfeature\n",
        "import pandas as pd\n",
        "import matplotlib.pyplot as plt\n",
        "\n",
        "# Define the Coordinate Reference System (CRS)\n",
        "crs = ccrs.epsg(2056)\n",
        "\n",
        "# Create the figure instance\n",
        "figure = plt.figure(figsize=(14,14))\n",
        "\n",
        "# Plot the regridded wind speed for each subplot\n",
        "for idx, wind_geo in enumerate(wind_geo_list):\n",
        "\n",
        "    # Create a subplot\n",
        "    ax = figure.add_subplot(4, 3, idx + 1, projection=crs)\n",
        "\n",
        "    # Remove unnecessary dimensions\n",
        "    f = wind_geo.squeeze()\n",
        "\n",
        "    # Plot wind speed\n",
        "    c = ax.contourf(destination.x, destination.y, f.values, transform=crs)\n",
        "\n",
        "    # Set subplot title\n",
        "    eps = wind_geo.coords[\"eps\"].values\n",
        "\n",
        "    # Add features\n",
        "    ax.set_title(f\"Ensemble {eps}\")\n",
        "    ax.add_feature(cfeature.BORDERS)\n",
        "    ax.add_feature(cfeature.LAND)\n",
        "    gl = ax.gridlines(draw_labels=True)\n",
        "\n",
        "    # Ignore redundant lables\n",
        "    gl.top_labels = False\n",
        "    gl.right_labels = False\n",
        "\n",
        "# Prepare colorbar title and specify location\n",
        "wind_param = wind_geo_list[0].attrs[\"parameter\"]\n",
        "legend_label = f\"{wind_param['name']} ({wind_param['units']})\"\n",
        "cax = plt.axes((0.41, 0.17, 0.48, 0.03))\n",
        "\n",
        "# Prepare figure title\n",
        "ref_time = pd.to_datetime(wind_geo_list[0].coords[\"ref_time\"].values[0]).strftime(\"%Y-%m-%d %H UTC\")\n",
        "lead_time = wind_geo_list[0].coords[\"lead_time\"].values[0].astype('timedelta64[h]')\n",
        "title = f\"10 Meter Wind Speed | {ref_time} (+{lead_time})\"\n",
        "\n",
        "# Add figure title and colorbar\n",
        "figure.suptitle(title)\n",
        "figure.colorbar(c, cax=cax, orientation='horizontal', label=legend_label)\n"
      ]
    }
  ],
  "metadata": {
    "kernelspec": {
      "display_name": "Python (notebooks-nwp-env)",
      "language": "python",
      "name": "notebooks-nwp-env"
    },
    "language_info": {
      "codemirror_mode": {
        "name": "ipython",
        "version": 3
      },
      "file_extension": ".py",
      "mimetype": "text/x-python",
      "name": "python",
      "nbconvert_exporter": "python",
      "pygments_lexer": "ipython3",
      "version": "3.11.8"
    }
  },
  "nbformat": 4,
  "nbformat_minor": 2
}
