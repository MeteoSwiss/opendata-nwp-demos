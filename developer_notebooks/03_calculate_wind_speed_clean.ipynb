{
  "cells": [
    {
      "cell_type": "markdown",
      "metadata": {},
      "source": [
        "# Retrieving, Calculating, and Visualizing Perturbed Wind ICON Forecast Data\n",
        "\n",
        "This notebook demonstrates the full workflow for accessing, calculating, and visualizing perturbed wind forecast data from the ICON numerical weather model. The data is provided by MeteoSwiss as part of Switzerland’s Open Government Data (OGD) initiative.\n",
        "\n",
        "The core functionality is powered by the [meteodata-lab](https://meteoswiss.github.io/meteodata-lab/) library — developed in-house to simplify working with numerical weather model data. It includes the `ogd_api` module for data access, along with utilities for applying temporal and spatial operators to model output, such as calculating wind speed and regridding.\n",
        "\n",
        "For visualization, this notebook uses the [earthkit-plots](https://earthkit-plots.readthedocs.io/en/latest/examples/guide/01-introduction.html) library developed by ECMWF, which offers intuitive plotting tools for meteorological data.\n",
        "\n",
        "---\n",
        "\n",
        "## 🔍 **What You’ll Do in This Notebook**\n",
        "\n",
        " 🛰️  **Retrieve**  \n",
        "    Fetch perturbed ICON-CH1-EPS forecast data (e.g., 10m grid eastward and 10m grid northward wind) via the `ogd_api` module.\n",
        "\n",
        " 📐  **Calculate**  \n",
        "    Calculate horizontal wind speed using [meteodata-lab](https://meteoswiss.github.io/meteodata-lab/)'s `operator` class.\n",
        "\n",
        " 🧭  **Regrid**  \n",
        "    Interpolate ICON data from its native, icosahedral grid to a regular latitude/longitude grid.\n",
        "\n",
        " 🌍  **Visualize**  \n",
        "    Plot each ensemble member on a map with meteorological styling using [earthkit-plots](https://earthkit-plots.readthedocs.io/en/latest/examples/guide/01-introduction.html).\n",
        "\n",
        "---"
      ]
    },
    {
      "cell_type": "markdown",
      "metadata": {},
      "source": [
        "## Retrieving Precipitation Forecast\n",
        "In this first part, we retrieve perturbed eastward and northward wind forecast data from the numerical weather model ICON-CH1-EPS. To access this data, we use the `ogd_api` module from the [meteodata-lab](https://meteoswiss.github.io/meteodata-lab/) library — a convenient interface for accessing numerical weather forecasts via the [STAC (SpatioTemporal Asset Catalog) API](https://data.geo.admin.ch/api/stac/static/spec/v1/apitransactional.html#tag/Data/operation/getAsset), which provides structured access to Switzerland’s open geospatial data."
      ]
    },
    {
      "cell_type": "markdown",
      "metadata": {},
      "source": [
        "#### 📁  Browsing the STAC Catalog (Optional)\n",
        "\n",
        "If you'd like to explore the ICON forecast datasets interactively before writing code, you can browse them directly in the STAC catalog:\n",
        "\n",
        "&nbsp;&nbsp;&nbsp;&nbsp;🔗  [Browse the ICON-CH1-EPS collection](https://data.geo.admin.ch/browser/#/collections/ch.meteoschweiz.ogd-forecasting-icon-ch1?.language=en)\n",
        "\n",
        "&nbsp;&nbsp;&nbsp;&nbsp;🔗  [Browse the ICON-CH2-EPS collection](https://data.geo.admin.ch/browser/#/collections/ch.meteoschweiz.ogd-forecasting-icon-ch2?.language=en)\n",
        "\n",
        "\n",
        "Below is a screenshot of the ICON-CH2-EPS collection as seen in the STAC browser interface.\n"
      ]
    },
    {
      "cell_type": "markdown",
      "metadata": {},
      "source": [
        "![browser-ch2-resized.PNG](./images/browser-ch2-resized.PNG)"
      ]
    },
    {
      "cell_type": "markdown",
      "metadata": {},
      "source": [
        "### Creating Requests\n",
        "To retrieve the forecast data, we first define two API requests using the `ogd_api.Request` class. One for accessing grid eastward wind 10 meter above the surface (`U_10M`) and one for requesting grid northward wind 10 meter above the surface (`V_10M`). Each request targets perturbed data at the initialization time of the forecast.\n",
        "\n",
        ">⏰ **Forecast Availability**: Forecast data will typically be available a couple of hours after the reference time — due to the model runtime and subsequent upload time. The data remains accessible for 24 hours after upload."
      ]
    },
    {
      "cell_type": "code",
      "execution_count": null,
      "metadata": {},
      "outputs": [],
      "source": [
        "from datetime import datetime, timezone\n",
        "from meteodatalab import ogd_api\n",
        "\n",
        "# Set default date of today midnight in UTC\n",
        "today_midnight_utc = datetime.now(timezone.utc).replace(hour=0, minute=0, second=0, microsecond=0)\n",
        "\n",
        "# retrieve 10 meter eastward wind\n",
        "req_U10 = ogd_api.Request(\n",
        "    collection=\"ogd-forecasting-icon-ch1\",\n",
        "    variable=\"U_10M\",\n",
        "    reference_datetime=today_midnight_utc,\n",
        "    perturbed=True,\n",
        "    horizon=\"P0DT0H\",\n",
        ")\n",
        "\n",
        "# retrieve 10 meter northward wind\n",
        "req_V10 = ogd_api.Request(\n",
        "    collection=\"ogd-forecasting-icon-ch1\",\n",
        "    variable=\"V_10M\",\n",
        "    reference_datetime=today_midnight_utc,\n",
        "    perturbed=True,\n",
        "    horizon=\"P0DT0H\",\n",
        ")"
      ]
    },
    {
      "cell_type": "markdown",
      "metadata": {},
      "source": [
        "Each argument in the request serves the following purpose:\n",
        "\n",
        "| Argument             | Description |\n",
        "|----------------------|-------------|\n",
        "| `collection`         | Forecast collection to use (e.g., `ogd-forecasting-icon-ch1`). |\n",
        "| `variable`           | Meteorological variable of interest (`U_10M` = 10 meter grid eastward wind and `V_10M` = 10 meter grid northward wind). |\n",
        "| `reference_datetime` | Initialization time of the forecast in **UTC**, provided as either:<br>- [datetime.datetime](https://docs.python.org/3/library/datetime.html#datetime-objects) object (e.g.,<br> &nbsp; `datetime.datetime(2025, 5, 22, 9, 0, 0, tzinfo=datetime.timezone.utc)`) <br>- [ISO 8601](https://en.wikipedia.org/wiki/ISO_8601#Combined_date_and_time_representations) date string (e.g., `\"2025-05-22T09:00:00Z\"`)|\n",
        "| `perturbed`          | If `True`, retrieves ensemble forecast members; if `False`, returns the deterministic forecast. |\n",
        "| `horizon`            | Forecast lead time, provided as either:<br>– [datetime.timedelta](https://docs.python.org/3/library/datetime.html#timedelta-objects) object (e.g., `datetime.timedelta(hours=0)`) <br>– [ISO 8601](https://en.wikipedia.org/wiki/ISO_8601#Durations) duration string (e.g., `\"P0DT0H\"`)|"
      ]
    },
    {
      "cell_type": "markdown",
      "metadata": {},
      "source": [
        "### Retrieving Data\n",
        "We now send our requests to the API and retrieve the resulting datasets using the `get_from_ogd()` function.\n",
        "Each response is returned as an **[xarray.DataArray](https://docs.xarray.dev/en/stable/generated/xarray.DataArray.html)**, which is efficient for handling multi-dimensional data.\n",
        "\n",
        "> 💡 **Tip**: Use temporary caching with earthkit-data to skip repeated downloads — it's auto-cleaned after the session.\n",
        "> *For more details, see the [earthkit-data caching docs](https://earthkit-data.readthedocs.io/en/latest/examples/cache.html)*.\n",
        "\n",
        "> 💡 **Hint**: If you get an error message containing \"HTTPError: 403 Client Error: Forbidden for url\", you may be trying to retrieve data older than 24h hours! Please adjust your requests."
      ]
    },
    {
      "cell_type": "code",
      "execution_count": null,
      "metadata": {},
      "outputs": [],
      "source": [
        "from earthkit.data import config\n",
        "config.set(\"cache-policy\", \"temporary\")\n",
        "\n",
        "da_U = ogd_api.get_from_ogd(req_U10)\n",
        "da_V = ogd_api.get_from_ogd(req_V10)"
      ]
    },
    {
      "cell_type": "markdown",
      "metadata": {},
      "source": [
        "## Data Preprocessing"
      ]
    },
    {
      "cell_type": "markdown",
      "metadata": {},
      "source": [
        "Once the data has been loaded, continue with the preprocessing of the data if needed. The following preprocessing steps\n",
        "are described here:\n",
        "- Calculating horizontal wind speed\n",
        "- Regridding the data to a regular latitude/longitude grid"
      ]
    },
    {
      "cell_type": "markdown",
      "metadata": {},
      "source": [
        "### Calculating Wind Speed\n",
        "To calculate the horizontal wind speed with the `speed` function from [meteodata-lab](https://meteoswiss.github.io/meteodata-lab/), we need the eastward and northward wind [xarray.DataArray](https://docs.xarray.dev/en/stable/generated/xarray.DataArray.html) `da_U` and `da_V`."
      ]
    },
    {
      "cell_type": "code",
      "execution_count": null,
      "metadata": {},
      "outputs": [],
      "source": [
        "from meteodatalab.operators import wind\n",
        "\n",
        "wind_speed = wind.speed(da_U, da_V)\n",
        "wind_speed"
      ]
    },
    {
      "cell_type": "markdown",
      "metadata": {},
      "source": [
        "The resulting `xarray.DataArray` has the following dimensions:\n",
        "\n",
        "- `eps` (ensemble members): 10 members (for ICON-CH1-EPS data)\n",
        "- `ref_time`: Single reference time (e.g. default date of today midnight)\n",
        "- `lead_time`: Single lead time (e.g +0 hours)\n",
        "- `cell`: 1,147,980 spatial grid points\n",
        "\n",
        "It includes attributes specifying some meta data such as:\n",
        "\n",
        "- `parameter`: information on the meteorogical parameter, here wind speed\n",
        "- `vcoord_type`: information of the vertical coordinate type, here heightAboveGround\n",
        "\n",
        "> &#x1F525; **Expert users:** If you are interested in detailed meta data information, i.e. the GRIB encodings, you can retrieve it from the `metadata` attribute.\n",
        "Please refer to the [earthkit-data metadata documentation](https://earthkit-data.readthedocs.io/en/latest/examples/metadata.html)."
      ]
    },
    {
      "cell_type": "markdown",
      "metadata": {},
      "source": [
        "### Regridding to a Regular Grid\n",
        "To enable visualization or comparison with other geospatial datasets, you may want to regrid the ICON data from its native, unstructured grid onto a regular latitude/longitude grid. This can be done using the `regrid` utilities provided by [meteodata-lab](https://meteoswiss.github.io/meteodata-lab/).\n",
        "\n",
        "Below, we define the target grid using a bounding box over the area of interest, specify the output resolution, and apply the remapping on each of the 10 ensemble members.\n"
      ]
    },
    {
      "cell_type": "code",
      "execution_count": null,
      "metadata": {},
      "outputs": [],
      "source": [
        "from rasterio.crs import CRS\n",
        "from meteodatalab.operators import regrid\n",
        "\n",
        "# Define the target grid extent and resolution\n",
        "xmin, xmax = -0.817, 18.183   # Longitude bounds\n",
        "ymin, ymax = 41.183, 51.183   # Latitude bounds\n",
        "nx, ny = 950, 500             # Number of grid points in x and y\n",
        "\n",
        "# Create a regular lat/lon grid using EPSG:4326\n",
        "destination = regrid.RegularGrid(\n",
        "    CRS.from_string(\"epsg:4326\"), nx, ny, xmin, xmax, ymin, ymax\n",
        ")\n",
        "\n",
        "# Remap ICON native grid data to the regular grid for each ensemble member\n",
        "wind_geo_list = []\n",
        "num_of_eps = len(wind_speed.eps)\n",
        "\n",
        "for i in range(num_of_eps):\n",
        "    wind_geo = regrid.iconremap(wind_speed.isel(eps=i), destination)\n",
        "    wind_geo_list.append(wind_geo)"
      ]
    },
    {
      "cell_type": "markdown",
      "metadata": {},
      "source": [
        "## Visualizing Wind Speed\n",
        "We now visualize the predicted wind speeds for each of the ensemble members on a map. This uses [earthkit-plots](https://earthkit-plots.readthedocs.io/en/latest/examples/guide/01-introduction.html), the visualization component of [Earthkit](https://earthkit.readthedocs.io/en/latest/) — a suite of tools designed to simplify access, processing, and visualization of weather and climate data in Python."
      ]
    },
    {
      "cell_type": "code",
      "execution_count": null,
      "metadata": {},
      "outputs": [],
      "source": [
        "from earthkit.plots.geo import domains\n",
        "import earthkit\n",
        "import pandas as pd\n",
        "import matplotlib.pyplot as plt\n",
        "\n",
        "# Define the map domain using the regridded data's bounding box\n",
        "domain = domains.Domain.from_bbox(\n",
        "    bbox=[xmin, xmax, ymin, ymax],\n",
        "    name=\"CH1\"\n",
        ")\n",
        "\n",
        "# Create the figure instance including subplots\n",
        "figure = earthkit.plots.Figure(domain=domain, size=(9, 7), rows=4, columns=3)\n",
        "\n",
        "for i in range(num_of_eps):\n",
        "\n",
        "    # Plot the rigridded wind speed for each subplot\n",
        "    wind_geo = wind_geo_list[i]\n",
        "    subplot = figure.add_map(i//3, i%3)\n",
        "    subplot.grid_cells(wind_geo, x=\"lon\", y=\"lat\")\n",
        "\n",
        "    # Extract forecast metadata from subplot\n",
        "    ref_time = pd.to_datetime(wind_geo.coords[\"ref_time\"].values[0]).strftime(\"%Y-%m-%d %H UTC\")\n",
        "    lead_time = wind_geo.coords[\"lead_time\"].values[0].astype('timedelta64[h]')\n",
        "    eps = wind_geo.coords[\"eps\"].values\n",
        "\n",
        "    # Prepare subplot title\n",
        "    parameter = wind_geo.attrs[\"parameter\"]\n",
        "    title = f\"Ensemble {eps}: {ref_time} (+{lead_time})\"\n",
        "\n",
        "    # Add subplot title\n",
        "    subplot.title(title)\n",
        "\n",
        "# Add standard figure features\n",
        "figure.land()\n",
        "figure.coastlines()\n",
        "figure.borders()\n",
        "figure.gridlines()\n",
        "\n",
        "# Prepare figure legend\n",
        "wind_param = wind_geo_list[0].attrs[\"parameter\"]\n",
        "legend_label = f\"{wind_param['name']} ({wind_param['units']})\"\n",
        "ax = plt.axes((0.35, 0.14, 0.6, 0.02))\n",
        "\n",
        "# Add figure title and legend\n",
        "figure.title(\"10 Meter Wind Speed\")\n",
        "figure.legend(label=legend_label, ax=ax)\n",
        "\n",
        "# Display the figure\n",
        "figure.show()"
      ]
    }
  ],
  "metadata": {
    "kernelspec": {
      "display_name": "Python (notebooks-nwp-env)",
      "language": "python",
      "name": "notebooks-nwp-env"
    },
    "language_info": {
      "codemirror_mode": {
        "name": "ipython",
        "version": 3
      },
      "file_extension": ".py",
      "mimetype": "text/x-python",
      "name": "python",
      "nbconvert_exporter": "python",
      "pygments_lexer": "ipython3",
      "version": "3.11.8"
    }
  },
  "nbformat": 4,
  "nbformat_minor": 2
}
