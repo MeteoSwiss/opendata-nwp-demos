{
  "cells": [
    {
      "cell_type": "markdown",
      "metadata": {},
      "source": [
        "[![Open In Colab](https://colab.research.google.com/assets/colab-badge.svg)](https://colab.research.google.com/github/MeteoSwiss/opendata-nwp-demos/blob/main/05_interpolate_to_pressure_levels.ipynb)"
      ]
    },
    {
      "cell_type": "markdown",
      "metadata": {},
      "source": [
        "# Interpolating ICON-CH2-EPS Temperature Forecasts to Pressure Levels\n",
        "\n",
        "This notebook demonstrates the full workflow for accessing ICON-CH2-EPS temperature forecasts and performing vertical interpolation from model levels to pressure levels. The data is provided by MeteoSwiss as part of Switzerland’s [Open Government Data (OGD) initiative](https://www.meteoswiss.admin.ch/services-and-publications/service/open-data.html).\n",
        "\n",
        "The core functionality is powered by the [meteodata-lab](https://meteoswiss.github.io/meteodata-lab/) library — developed by MeteoSwiss to simplify working with numerical weather model data. It includes the [ogd_api](https://meteoswiss.github.io/meteodata-lab/generated/meteodatalab.ogd_api.html) module for data access, along with utilities for applying temporal and spatial operators to model output, such as horizontal or vertical interpolation.\n",
        "\n",
        "The ICON-CH1/2-EPS data is typically provided on terrain-following vertical model levels, which do not correspond directly to atmospheric pressure levels. However, for consistent comparison and analysis, it is often necessary to interpolate forecast data to these pressure levels. The [meteodata-lab](https://meteoswiss.github.io/meteodata-lab/) library includes the function [interpolate_k2p()](https://meteoswiss.github.io/meteodata-lab/generated/meteodatalab.operators.vertical_interpolation.html#meteodatalab.operators.vertical_interpolation.interpolate_k2p), which interpolates a field from model levels to pressure coordinates.\n",
        "\n",
        "---\n",
        "\n",
        "## 🔍 **What You’ll Do in This Notebook**\n",
        "\n",
        " 🛰️  **Retrieve**  \n",
        "    Fetch deterministic ICON-CH2-EPS forecast data (here temperature (`T`) and pressure (`P`)) using meteodata-lab's [ogd_api](https://meteoswiss.github.io/meteodata-lab/generated/meteodatalab.ogd_api.html) module.\n",
        "\n",
        " 📈  **Interpolate to pressure levels**  \n",
        "    Interpolate ICON-CH2-EPS forecast data to pressure levels using meteodata-lab's [vertical_interpolation](https://meteoswiss.github.io/meteodata-lab/generated/meteodatalab.operators.vertical_interpolation.html#) module.\n",
        "\n",
        "---"
      ]
    },
    {
      "cell_type": "markdown",
      "metadata": {},
      "source": [
        "## Retrieving Forecasts\n",
        "In this first part, we retrieve deterministic ICON-CH2-EPS temperature and pressure forecast data. To access this data, we use the [ogd_api](https://meteoswiss.github.io/meteodata-lab/generated/meteodatalab.ogd_api.html) module from the [meteodata-lab](https://meteoswiss.github.io/meteodata-lab/) library — a convenient interface for accessing numerical weather forecasts via the [STAC (SpatioTemporal Asset Catalog) API](https://data.geo.admin.ch/api/stac/static/spec/v1/apitransactional.html#tag/Data/operation/getAsset), which provides structured access to Switzerland’s open geospatial data."
      ]
    },
    {
      "cell_type": "markdown",
      "metadata": {},
      "source": [
        "#### 📁  Browsing the STAC Catalog (Optional)\n",
        "\n",
        "If you'd like to explore the ICON-CH1/2-EPS forecast datasets interactively before writing code, you can browse them directly in the STAC catalog:\n",
        "\n",
        "&nbsp;&nbsp;&nbsp;&nbsp;🔗  [Browse the ICON-CH1-EPS collection](https://data.geo.admin.ch/browser/#/collections/ch.meteoschweiz.ogd-forecasting-icon-ch1?.language=en)\n",
        "\n",
        "&nbsp;&nbsp;&nbsp;&nbsp;🔗  [Browse the ICON-CH2-EPS collection](https://data.geo.admin.ch/browser/#/collections/ch.meteoschweiz.ogd-forecasting-icon-ch2?.language=en)\n",
        "\n",
        "\n",
        "Below is a screenshot of the ICON-CH2-EPS collection as seen in the STAC browser interface.\n"
      ]
    },
    {
      "cell_type": "markdown",
      "metadata": {},
      "source": [
        "![browser-ch2.png](./images/browser-ch2.png)"
      ]
    },
    {
      "cell_type": "markdown",
      "metadata": {},
      "source": [
        "⚙️ **Google Colab Setup**  \n",
        "This cell installs all required dependencies if you're running the notebook in **Google Colab**.  \n",
        "It is automatically skipped when running in a local Jupyter environment."
      ]
    },
    {
      "cell_type": "code",
      "execution_count": null,
      "metadata": {},
      "outputs": [],
      "source": [
        "# 📦 Google Colab Setup (skipped if not running in Colab)\n",
        "import sys\n",
        "\n",
        "def is_colab():\n",
        "    return \"google.colab\" in sys.modules\n",
        "\n",
        "if is_colab():\n",
        "    !git clone https://github.com/MeteoSwiss/opendata-nwp-demos.git\n",
        "    %cd opendata-nwp-demos\n",
        "    !pip install poetry && poetry config virtualenvs.in-project true && poetry install --no-ansi\n",
        "    import sys, os, pathlib\n",
        "    venv = pathlib.Path(\".venv\")\n",
        "    site = venv / \"lib\" / f\"python{sys.version_info.major}.{sys.version_info.minor}\" / \"site-packages\"\n",
        "    sys.path.insert(0, str(site))\n",
        "    os.environ[\"ECCODES_DEFINITION_PATH\"] = str((venv / \"share/eccodes-cosmo-resources/definitions\").resolve())"
      ]
    },
    {
      "cell_type": "markdown",
      "metadata": {},
      "source": [
        "### Creating Requests\n",
        "To retrieve the forecast data, we first define API requests using the [ogd_api.Request](https://meteoswiss.github.io/meteodata-lab/generated/meteodatalab.ogd_api.html#meteodatalab.ogd_api.Request) class. In this example, we create two requests: one to retrieve the temperature field (`T`), which we aim to interpolate, and another to obtain the pressure field (`P`) on model levels, required for the interpolation.\n",
        "\n",
        ">⏰ **Forecast Availability**: Forecast data will typically be available a couple of hours after the reference time — due to the model runtime and subsequent upload time. The data remains accessible for 24 hours after upload."
      ]
    },
    {
      "cell_type": "code",
      "execution_count": null,
      "metadata": {},
      "outputs": [],
      "source": [
        "from datetime import datetime, timezone\n",
        "from meteodatalab import ogd_api\n",
        "\n",
        "# Set default date of today midnight in UTC\n",
        "today_midnight_utc = datetime.now(timezone.utc).replace(hour=0, minute=0, second=0, microsecond=0)\n",
        "\n",
        "param_list = [\"T\", \"P\"]\n",
        "req_list = []\n",
        "\n",
        "for param in param_list:\n",
        "    req = ogd_api.Request(\n",
        "        collection=\"ogd-forecasting-icon-ch2\",\n",
        "        variable=param,\n",
        "        reference_datetime=today_midnight_utc,\n",
        "        perturbed=False,\n",
        "        horizon=f\"P0DT0H\",\n",
        "    )\n",
        "    req_list.append((param,req))\n"
      ]
    },
    {
      "cell_type": "markdown",
      "metadata": {},
      "source": [
        "Each argument in the request serves the following purpose:\n",
        "\n",
        "| Argument             | Description |\n",
        "|----------------------|-------------|\n",
        "| `collection`         | Forecast collection to use (e.g., `ogd-forecasting-icon-ch2` for ICON-CH2-EPS). |\n",
        "| `variable`           | Meteorological variable of interest (`T` = temperature and `P` = pressure). |\n",
        "| `reference_datetime` | Initialization time of the forecast in **UTC**, provided as either:<br>- [datetime.datetime](https://docs.python.org/3/library/datetime.html#datetime-objects) object (e.g.,<br> &nbsp; `datetime.datetime(2025, 5, 22, 9, 0, 0, tzinfo=datetime.timezone.utc)`) <br>- [ISO 8601](https://en.wikipedia.org/wiki/ISO_8601#Combined_date_and_time_representations) date string (e.g., `\"2025-05-22T09:00:00Z\"`)|\n",
        "| `perturbed`          | If `True`, retrieves ensemble forecast members; if `False`, returns the deterministic forecast. |\n",
        "| `horizon`            | Forecast lead time, provided as either:<br>– [datetime.timedelta](https://docs.python.org/3/library/datetime.html#timedelta-objects) object (e.g., `datetime.timedelta(hours=0)`) <br>– [ISO 8601](https://en.wikipedia.org/wiki/ISO_8601#Durations) duration string (e.g., `\"P0DT0H\"`)|"
      ]
    },
    {
      "cell_type": "markdown",
      "metadata": {},
      "source": [
        "### Retrieving Data\n",
        "We now send our list of requests to the API and retrieve the resulting datasets using the [get_from_ogd()](https://meteoswiss.github.io/meteodata-lab/generated/meteodatalab.ogd_api.html#meteodatalab.ogd_api.get_from_ogd) function.\n",
        "Each response is returned as an **[xarray.DataArray](https://docs.xarray.dev/en/stable/generated/xarray.DataArray.html)**, which is efficient for handling multi-dimensional data.\n",
        "\n",
        "> 💡 **Tip**: Use temporary caching with earthkit-data to skip repeated downloads — it's auto-cleaned after the session.\n",
        "> *For more details, see the [earthkit-data caching docs](https://earthkit-data.readthedocs.io/en/latest/examples/cache.html)*.\n",
        "\n",
        "> 💡 **Hint**: If you get an error message containing `HTTPError: 403 Client Error: Forbidden for url`, you may be trying to retrieve data older than 24h hours! Please adjust your requests."
      ]
    },
    {
      "cell_type": "code",
      "execution_count": null,
      "metadata": {},
      "outputs": [],
      "source": [
        "from earthkit.data import config\n",
        "config.set(\"cache-policy\", \"temporary\")\n",
        "\n",
        "da_dict = {}\n",
        "for param, req in req_list:\n",
        "    da = ogd_api.get_from_ogd(req)\n",
        "    da_dict[param]= da"
      ]
    },
    {
      "cell_type": "markdown",
      "metadata": {},
      "source": [
        "The result of each `ogd_api.get_from_ogd()` call is an `xarray.DataArray` with the following structure:\n",
        "\n",
        "**Dimensions**\n",
        "- `eps` (ensemble members): 1 member (for deterministic data)\n",
        "- `ref_time`: forecast init time (UTC)\n",
        "- `lead_time`: time offset from `ref_time`\n",
        "- `z`: **vertical model levels (80)**\n",
        "- `cell`: spatial grid points (~280k for ICON-CH2-EPS)\n",
        "\n",
        "**Coordinates**\n",
        "- `lon` / `lat`: longitude & latitude per `cell`\n",
        "- `valid_time`: `ref_time` + `lead_time`\n",
        "        \n",
        "**Attributes**\n",
        "- `parameter`: variable info (e.g., name, units)\n",
        "- `vcoord_type`: vertical coordinate type (e.g., `model_level`)\n",
        "- `geography`: grid structure metadata"
      ]
    },
    {
      "cell_type": "code",
      "execution_count": null,
      "metadata": {},
      "outputs": [],
      "source": [
        "da_dict[\"T\"]"
      ]
    },
    {
      "cell_type": "markdown",
      "metadata": {},
      "source": [
        "> &#x1F525; **Expert users:** If you are interested in detailed meta data information, i.e. the GRIB encodings, you can retrieve it from the `metadata` attribute.\n",
        "Please refer to the [earthkit-data metadata documentation](https://earthkit-data.readthedocs.io/en/latest/examples/metadata.html)."
      ]
    },
    {
      "cell_type": "markdown",
      "metadata": {},
      "source": [
        "💡 To prepare for interpolation, let's inspect the initial vertical coordinate, the **model levels**:"
      ]
    },
    {
      "cell_type": "code",
      "execution_count": null,
      "metadata": {},
      "outputs": [],
      "source": [
        "da_dict[\"T\"].coords[\"z\"].values"
      ]
    },
    {
      "cell_type": "markdown",
      "metadata": {},
      "source": [
        "### Model levels\n",
        "\n",
        "As shown in the output above, the parameter `T` includes temperature values on **80 model levels**. These model levels represent how the atmosphere is discretised from the Earth's surface up to the top of the model domain. In the numerical weather model ICON the 80 model levels correspond to the so-called **full levels** and are numbered top down. They are following the terrain and gradually change into levels of constant height as the distance from the surface increases (see the picture below). For more information about model levels, refer to the [model grid documentation](https://opendatadocs.meteoswiss.ch/e-forecast-data/e2-e3-numerical-weather-forecasting-model#vertical-grid)."
      ]
    },
    {
      "cell_type": "markdown",
      "metadata": {},
      "source": [
        "<div style=\"text-align: center;\">\n",
        "  <img src=\"./images/VerticalLayers.png\" width=\"50%\">\n",
        "</div>"
      ]
    },
    {
      "cell_type": "markdown",
      "metadata": {},
      "source": [
        "## Interpolation from Model to Pressure Levels\n",
        "\n",
        "Forecast data is typically stored on model (or hybrid) levels, on which the pressure varies with the atmospheric state. For comparison, plotting, or diagnostics, it's often meaningful to interpolate this data to **pressure levels**. The [`interpolate_k2p()`](https://meteoswiss.github.io/meteodata-lab/generated/meteodatalab.operators.vertical_interpolation.html#meteodatalab.operators.vertical_interpolation.interpolate_k2p) function from the **meteodata-lab** toolbox performs this transformation.\n",
        "\n",
        "---\n",
        "### How `interpolate_k2p()` Works\n",
        "\n",
        "To compute the interpolated value $f(p_t)$ at a target pressure $p_t$, the function `interpolate_k2p()`:\n",
        "\n",
        "1. **Identifies two adjacent model levels** $k$ and $k-1$ such that:\n",
        "   - $p_1 = \\text{pressure}[k-1]$ is just **above** $p_t$\n",
        "   - $p_2 = \\text{pressure}[k]$ is just **below** $p_t$\n",
        "\n",
        "2. **Retrieves the field values (here temperature)** at those levels:\n",
        "   - $f_1 = \\text{field}[k-1]$\n",
        "   - $f_2 = \\text{field}[k]$\n",
        "\n",
        "3. **Computes the interpolation ratio** $r$ depending on the selected method:\n",
        "\n",
        "    - **Linear Interpolation (`linear_in_p`)**\n",
        "    $$\n",
        "    r = \\frac{p_t - p_1}{p_2 - p_1}, \\quad f(p_t) = (1 - r) f_1 + r f_2\n",
        "    $$\n",
        "\n",
        "    - **Linear Interpolation w.r.t Log-Pressure (`linear_in_lnp`)**\n",
        "    $$\n",
        "    r = \\frac{\\ln(p_t) - \\ln(p_1)}{\\ln(p_2) - \\ln(p_1)}, \\quad f(p_t) = (1 - r) f_1 + r f_2\n",
        "    $$\n",
        "\n",
        "    - **Nearest Model Surface/Level (`nearest_sfc`)**\n",
        "    $$\n",
        "    f(p_t) =\n",
        "    \\begin{cases}\n",
        "    f_1 & \\text{if } |p_t - p_1| < |p_t - p_2| \\\\\n",
        "    f_2 & \\text{otherwise}\n",
        "    \\end{cases}\n",
        "    $$\n",
        "\n",
        "This logic is applied point-wise across the full 3D field."
      ]
    },
    {
      "cell_type": "markdown",
      "metadata": {},
      "source": [
        "### Comparison of Interpolation Methods\n",
        "\n",
        "Each interpolation method produces slightly different results. For example, if you have temperature values at model levels *k* and *k-1* and want to estimate the value at 600 hPa, the result will depend on the method used. The following example illustrates how each of the three methods generates different outputs."
      ]
    },
    {
      "cell_type": "markdown",
      "metadata": {},
      "source": [
        "<div style=\"text-align: center;\">\n",
        "  <img src=\"./images/interpolation.png\" width=\"50%\">\n",
        "</div>"
      ]
    },
    {
      "cell_type": "markdown",
      "metadata": {},
      "source": [
        "### Implementation\n",
        "The choice of interpolation method depends on the relationship between the variable's vertical gradient and the pressure profile. In this example, we use logarithmic interpolation (`linear_in_lnp`) for temperature data, which is appropriate for variables that vary approximately linearly with the logarithm of pressure.\n",
        "\n",
        "The `interpolate_k2p()` function requires the following arguments:\n",
        "- `field`: parameter to be interpolated\n",
        "- `mode`: interpolation method (`\"linear_in_p\"`, `\"linear_in_lnp\"` or `\"nearest_sfc\"`)\n",
        "- `p_field`: pressure field on model levels in Pa\n",
        "- `p_tc_values`: target pressure levels\n",
        "- `p_tc_units`: the unit of the target pressure levels (`\"Pa\"` or `\"hPa\"`)"
      ]
    },
    {
      "cell_type": "code",
      "execution_count": null,
      "metadata": {},
      "outputs": [],
      "source": [
        "from meteodatalab.operators.vertical_interpolation import interpolate_k2p\n",
        "\n",
        "target_levels = [500, 550, 600, 650, 700, 750, 800, 850]\n",
        "\n",
        "T_int = interpolate_k2p(\n",
        "    field=da_dict[\"T\"],\n",
        "    mode=\"linear_in_lnp\",\n",
        "    p_field=da_dict[\"P\"],\n",
        "    p_tc_values=target_levels,\n",
        "    p_tc_units='hPa'\n",
        "    )"
      ]
    },
    {
      "cell_type": "markdown",
      "metadata": {},
      "source": [
        "### Pressure Level Inspection\n",
        "After interpolation, the parameter now has updated vertical coordinates::\n",
        "- `z`: 50000 - 85000 Pa (vertical levels)\n",
        "- `vcoord_type`: pressure (type of vertical coordinates)"
      ]
    },
    {
      "cell_type": "code",
      "execution_count": null,
      "metadata": {},
      "outputs": [],
      "source": [
        "coords = T_int.coords[\"z\"]\n",
        "attrs = T_int.attrs[\"vcoord_type\"]\n",
        "print(f\"\\033[1mz \\033[0m(vertical levels): {coords.values}\")\n",
        "print(f\"\\033[1mvcoord_type \\033[0m(type of vertical coordinate): {attrs}\")"
      ]
    }
  ],
  "metadata": {
    "kernelspec": {
      "display_name": "Python (notebooks-nwp-env)",
      "language": "python",
      "name": "notebooks-nwp-env"
    },
    "language_info": {
      "codemirror_mode": {
        "name": "ipython",
        "version": 3
      },
      "file_extension": ".py",
      "mimetype": "text/x-python",
      "name": "python",
      "nbconvert_exporter": "python",
      "pygments_lexer": "ipython3",
      "version": "3.11.8"
    }
  },
  "nbformat": 4,
  "nbformat_minor": 2
}
