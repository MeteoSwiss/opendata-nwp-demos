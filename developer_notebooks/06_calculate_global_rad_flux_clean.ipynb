{
  "cells": [
    {
      "cell_type": "markdown",
      "metadata": {},
      "source": [
        "[![Open In Colab](https://colab.research.google.com/assets/colab-badge.svg)](https://colab.research.google.com/github/MeteoSwiss/opendata-nwp-demos/blob/main/06_calculate_global_rad_flux.ipynb)"
      ]
    },
    {
      "cell_type": "markdown",
      "metadata": {},
      "source": [
        "# Calculate Global Radiation Flux from the Direct Model Outputs of ICON-CH1-EPS\n",
        "\n",
        "This notebook demonstrates the full workflow for accessing ICON-CH1-EPS forecasts and computing the **global radiation flux**. The data is provided by MeteoSwiss as part of Switzerland’s [Open Government Data (OGD) initiative](https://www.meteoswiss.admin.ch/services-and-publications/service/open-data.html).\n",
        "\n",
        "The core functionality is powered by the [meteodata-lab](https://meteoswiss.github.io/meteodata-lab/) library — developed by MeteoSwiss to simplify working with numerical weather model data. It includes the [ogd_api](https://meteoswiss.github.io/meteodata-lab/generated/meteodatalab.ogd_api.html) module for data access, along with utilities for applying temporal and spatial operators to model output.\n",
        "\n",
        "Given that **Global Radiation Flux** `GLOB` is not available as a direct model output, it must be derived using the downward direct and diffusive short wave radiation fluxes at the surface (`ASWDIR_S` and `ASWDIFD_S`):\n",
        "\n",
        "<div align=\"center\"><code>globalRadiation = directRadiation + diffuseRadiation</code></div>\n",
        "\n",
        "Note that the direct model output available on the OGD platform is **aggregated since the initialization time of the forecast**. Therefore, if the desired output is an hourly average of the flux, a de-aggregation step is required.\n",
        "\n",
        "---\n",
        "\n",
        "## 🔍 **What You’ll Do in This Notebook**\n",
        "\n",
        " 🛰️  **Retrieve**  \n",
        "    Fetch deterministic ICON-CH1-EPS forecast data (downward direct and diffuse short wave radiation fluxes at the surface `ASWDIR_S` and `ASWDIFD_S`) using [meteodata-lab](https://meteoswiss.github.io/meteodata-lab/)'s [ogd_api](https://meteoswiss.github.io/meteodata-lab/generated/meteodatalab.ogd_api.html) module.\n",
        "\n",
        " ⚙️  **De-aggregate to obtain hourly average flux**  \n",
        "    The available flux data is aggregated since the forecast initialization. To get hourly averages, we use the [resample_average](https://meteoswiss.github.io/meteodata-lab/generated/meteodatalab.operators.time_operators.html#meteodatalab.operators.time_operators.resample_average) time operator from [meteodata-lab](https://meteoswiss.github.io/meteodata-lab/).\n",
        "\n",
        " 📈  **Compute Global Radiation Flux**  \n",
        "    Compute the Global Radiation Flux by combining the direct and diffuse shortwave radiation fluxes at the surface using the [compute_swdown](https://meteoswiss.github.io/meteodata-lab/generated/meteodatalab.operators.radiation.html#meteodatalab.operators.radiation.compute_swdown) operator from [meteodata-lab](https://meteoswiss.github.io/meteodata-lab/).\n",
        "\n",
        "---"
      ]
    },
    {
      "cell_type": "markdown",
      "metadata": {},
      "source": [
        "## Retrieving Forecasts\n",
        "In this first part, we retrieve deterministic ICON-CH1-EPS downward direct and diffuse short wave radiation fluxes forecasts. To access this data, we use the [ogd_api](https://meteoswiss.github.io/meteodata-lab/generated/meteodatalab.ogd_api.html) module from the [meteodata-lab](https://meteoswiss.github.io/meteodata-lab/) library — a convenient interface for accessing numerical weather forecasts via the [STAC (SpatioTemporal Asset Catalog) API](https://data.geo.admin.ch/api/stac/static/spec/v1/apitransactional.html#tag/Data/operation/getAsset), which provides structured access to Switzerland’s open geospatial data."
      ]
    },
    {
      "cell_type": "markdown",
      "metadata": {},
      "source": [
        "#### 📁  Browsing the STAC Catalog (Optional)\n",
        "\n",
        "If you'd like to explore the ICON-CH1/2-EPS forecast datasets interactively before writing code, you can browse them directly in the STAC catalog:\n",
        "\n",
        "&nbsp;&nbsp;&nbsp;&nbsp;🔗  [Browse the ICON-CH1-EPS collection](https://data.geo.admin.ch/browser/#/collections/ch.meteoschweiz.ogd-forecasting-icon-ch1?.language=en)\n",
        "\n",
        "&nbsp;&nbsp;&nbsp;&nbsp;🔗  [Browse the ICON-CH2-EPS collection](https://data.geo.admin.ch/browser/#/collections/ch.meteoschweiz.ogd-forecasting-icon-ch2?.language=en)\n",
        "\n",
        "\n",
        "Below is a screenshot of the ICON-CH2-EPS collection as seen in the STAC browser interface.\n"
      ]
    },
    {
      "cell_type": "markdown",
      "metadata": {},
      "source": [
        "![browser-ch2.png](./images/browser-ch2.png)"
      ]
    },
    {
      "cell_type": "markdown",
      "metadata": {},
      "source": [
        "> ⚙️ **Google Colab Setup**  \n",
        "> This cell installs all required dependencies if you're running the notebook in **Google Colab**.  \n",
        "> It is automatically skipped when running in a local Jupyter environment."
      ]
    },
    {
      "cell_type": "code",
      "execution_count": null,
      "metadata": {},
      "outputs": [],
      "source": [
        "# 📦 Google Colab Setup (skipped if not running in Colab)\n",
        "import sys\n",
        "\n",
        "def is_colab():\n",
        "    return \"google.colab\" in sys.modules\n",
        "\n",
        "if is_colab():\n",
        "    !git clone https://github.com/MeteoSwiss/opendata-nwp-demos.git\n",
        "    %cd opendata-nwp-demos\n",
        "    !pip install poetry && poetry config virtualenvs.in-project true && poetry install --no-ansi\n",
        "    import sys, os, pathlib\n",
        "    venv = pathlib.Path(\".venv\")\n",
        "    site = venv / \"lib\" / f\"python{sys.version_info.major}.{sys.version_info.minor}\" / \"site-packages\"\n",
        "    sys.path.insert(0, str(site))\n",
        "    os.environ[\"ECCODES_DEFINITION_PATH\"] = str((venv / \"share/eccodes-cosmo-resources/definitions\").resolve())"
      ]
    },
    {
      "cell_type": "markdown",
      "metadata": {},
      "source": [
        "### Creating Requests\n",
        "To retrieve the forecast data, we first define API requests using the [ogd_api.Request](https://meteoswiss.github.io/meteodata-lab/generated/meteodatalab.ogd_api.html#meteodatalab.ogd_api.Request) class. In this example, we create two requests: one to retrieve the direct short wave radiation flux (`ASWDIR_S`) and the diffuse short wave radiation flux (`ASWDIFD_S`) to obtain the global radiation flux `GLOB`.\n",
        "\n",
        ">⏰ **Forecast Availability**: Forecast data will typically be available a couple of hours after the reference time — due to the model runtime and subsequent upload time. The data remains accessible for 24 hours after upload.\n",
        "\n",
        ">ⓘ **Number of steps retrieved**: ICON-CH1-EPS provides 34 hourly steps (from hour 0 to +33), which typically takes around 3 minutes to retrieve. For the sake of this example, we limit the retrieval to 10 steps to save time."
      ]
    },
    {
      "cell_type": "code",
      "execution_count": null,
      "metadata": {},
      "outputs": [],
      "source": [
        "from datetime import datetime, timedelta, timezone\n",
        "from meteodatalab import ogd_api\n",
        "\n",
        "# Set default date of today midnight in UTC\n",
        "today_midnight_utc = datetime.now(timezone.utc).replace(hour=0, minute=0, second=0, microsecond=0)\n",
        "\n",
        "param_list = [\"ASWDIR_S\", \"ASWDIFD_S\"]\n",
        "req_list = []\n",
        "\n",
        "for param in param_list:\n",
        "    req = ogd_api.Request(\n",
        "        collection=\"ogd-forecasting-icon-ch1\",\n",
        "        variable=param,\n",
        "        ref_time=today_midnight_utc,\n",
        "        perturbed=False,\n",
        "        lead_time=[timedelta(hours=h) for h in range(10)], # Retrieve the first 10 hourly steps of ICON-CH1-EPS (from hour 0 to +9)\n",
        "    )\n",
        "    req_list.append((param,req))\n"
      ]
    },
    {
      "cell_type": "markdown",
      "metadata": {},
      "source": [
        "Each argument in the request serves the following purpose:\n",
        "\n",
        "| Argument             | Description |\n",
        "|----------------------|-------------|\n",
        "| `collection`         | Forecast collection to use (e.g., `ogd-forecasting-icon-ch1` for ICON-CH1-EPS). |\n",
        "| `variable`           | Meteorological variable of interest (`ASWDIR_S` = direct short wave radiation flux and `ASWDIFD_S` = diffuse short wave radiation flux). |\n",
        "| `ref_time` | Initialization time of the forecast in **UTC**, provided as either:<br>- [datetime.datetime](https://docs.python.org/3/library/datetime.html#datetime-objects) object (e.g.,<br> &nbsp; `datetime.datetime(2025, 5, 22, 9, 0, 0, tzinfo=datetime.timezone.utc)`) <br>- [ISO 8601](https://en.wikipedia.org/wiki/ISO_8601#Combined_date_and_time_representations) date string (e.g., `\"2025-05-22T09:00:00Z\"`)|\n",
        "| `perturbed`          | If `True`, retrieves ensemble forecast members; if `False`, returns the deterministic forecast. |\n",
        "| `lead_time`            | Forecast lead time, provided as either:<br>– [datetime.timedelta](https://docs.python.org/3/library/datetime.html#timedelta-objects) object (e.g., `datetime.timedelta(hours=0)`) <br>– [ISO 8601](https://en.wikipedia.org/wiki/ISO_8601#Durations) duration string (e.g., `\"P0DT0H\"`) <br>– A list of `datetime.timedelta` objects or of `ISO 8601` duration strings (e.g., `[datetime.timedelta(hours=h) for h in range(34)]` |"
      ]
    },
    {
      "cell_type": "markdown",
      "metadata": {},
      "source": [
        "### Retrieving Data\n",
        "We now send our list of requests to the API and retrieve the resulting datasets using the [get_from_ogd()](https://meteoswiss.github.io/meteodata-lab/generated/meteodatalab.ogd_api.html#meteodatalab.ogd_api.get_from_ogd) function.\n",
        "Each response is returned as an **[xarray.DataArray](https://docs.xarray.dev/en/stable/generated/xarray.DataArray.html)**, which is efficient for handling multi-dimensional data.\n",
        "\n",
        "> 💡 **Tip**: Use temporary caching with earthkit-data to skip repeated downloads — it's auto-cleaned after the session.\n",
        "> *For more details, see the [earthkit-data caching docs](https://earthkit-data.readthedocs.io/en/latest/examples/cache.html)*.\n",
        "\n",
        "> 💡 **Hint**: If you get an error message containing `HTTPError: 403 Client Error: Forbidden for url`, you may be trying to retrieve data older than 24h hours! Please adjust your requests."
      ]
    },
    {
      "cell_type": "code",
      "execution_count": null,
      "metadata": {},
      "outputs": [],
      "source": [
        "from earthkit.data import config\n",
        "config.set(\"cache-policy\", \"temporary\")\n",
        "\n",
        "da_dict = {}\n",
        "for param, req in req_list:\n",
        "    da = ogd_api.get_from_ogd(req)\n",
        "    da_dict[param]= da"
      ]
    },
    {
      "cell_type": "markdown",
      "metadata": {},
      "source": [
        "The result of each `ogd_api.get_from_ogd()` call is an `xarray.DataArray` with the following structure:\n",
        "\n",
        "**Dimensions**\n",
        "- `eps` (ensemble members): 1 member (for deterministic data)\n",
        "- `ref_time`: forecast init time (UTC)\n",
        "- `lead_time`: time offset from `ref_time`\n",
        "- `z`: vertical model levels (80)\n",
        "- `cell`: spatial grid points (1'147'980 for ICON-CH1-EPS)\n",
        "\n",
        "**Coordinates**\n",
        "- `lon` / `lat`: longitude & latitude per `cell`\n",
        "- `valid_time`: `ref_time + lead_time`\n",
        "        \n",
        "**Attributes**\n",
        "- `parameter`: variable info (e.g., name, units)\n",
        "- `vcoord_type`: vertical coordinate type (e.g., `surface`)\n",
        "- `geography`: grid structure metadata"
      ]
    },
    {
      "cell_type": "code",
      "execution_count": null,
      "metadata": {},
      "outputs": [],
      "source": [
        "da_dict[\"ASWDIR_S\"]"
      ]
    },
    {
      "cell_type": "markdown",
      "metadata": {},
      "source": [
        "> &#x1F525; **Expert users:** If you are interested in detailed metadata information, i.e. the GRIB encodings, you can retrieve it from the `metadata` attribute.\n",
        "Please refer to the [earthkit-data metadata documentation](https://earthkit-data.readthedocs.io/en/latest/examples/metadata.html)."
      ]
    },
    {
      "cell_type": "markdown",
      "metadata": {},
      "source": [
        "### De-aggregate to obtain hourly average flux  \n",
        "The flux data is aggregated from the forecast initialization time, meaning each value represents an average from hour 0 up to the given lead time. This aggregation behavior is defined in the metadata of the original files, known as GRIB keys.\n",
        "\n",
        "You can find this information in the list of parameters available for each collection. For each parameter, details such as the unit, level type, and temporal aggregation method are provided.  \n",
        "- 🔗 You can download the CSV file from the [ICON-CH1-EPS collection page](https://data.geo.admin.ch/browser/#/collections/ch.meteoschweiz.ogd-forecasting-icon-ch1?.language=en&.asset=asset-params.csv), using the section highlighted in the image below:\n",
        "\n"
      ]
    },
    {
      "cell_type": "markdown",
      "metadata": {},
      "source": [
        "\n",
        "<img src=\"./images/param_overview_browser.png\" alt=\"param_overview_browser\" width=\"600\"/>\n"
      ]
    },
    {
      "cell_type": "markdown",
      "metadata": {},
      "source": [
        "\n",
        "For example, here’s a sample row for the parameter `ASWDIFD_S`:\n",
        "| Parameter   | Longname                                      | Standard Unit | Level         | Vertical Coordinate       | Horizon | **Temporal Aggregation**              | **Start of Temporal Aggregation** |\n",
        "|-------------|-----------------------------------------------|----------------|----------------|----------------------------|---------|------------------------------------|-------------------------------|\n",
        "| ASWDIFD_S   | Downward diffuse short wave radiation flux at surface | W m⁻²        | Single Level   | Surface (no dimension)     | All     | **Average (mean over forecast time)** | **Reference Time**                |\n",
        "\n",
        "In this case, the parameter is provided as a mean over the entire forecast time. For `ASWDIR_S`, the aggregation method is even indicated in the parameter name itself:"
      ]
    },
    {
      "cell_type": "code",
      "execution_count": null,
      "metadata": {},
      "outputs": [],
      "source": [
        "da_dict[\"ASWDIR_S\"].attrs[\"parameter\"][\"name\"] "
      ]
    },
    {
      "cell_type": "markdown",
      "metadata": {},
      "source": [
        "\n",
        "\n",
        "However, for this example, we want to obtain **hourly average values** instead. To do this, we apply the [resample_average](https://meteoswiss.github.io/meteodata-lab/generated/meteodatalab.operators.time_operators.html#meteodatalab.operators.time_operators.resample_average) time operator from [meteodata-lab](https://meteoswiss.github.io/meteodata-lab/). This operator computes averages with respect to the given time interval for every lead time present in the input field.\n",
        "In our case, the interval is 1 hour, specified as `np.timedelta64(1, \"h\")`."
      ]
    },
    {
      "cell_type": "code",
      "execution_count": null,
      "metadata": {},
      "outputs": [],
      "source": [
        "import meteodatalab.operators.time_operators as time_ops\n",
        "import numpy as np\n",
        "\n",
        "direct_rad_resampled = time_ops.resample_average(da_dict[\"ASWDIR_S\"], np.timedelta64(1, \"h\"))\n",
        "diffuse_rad_resampled = time_ops.resample_average(da_dict[\"ASWDIFD_S\"], np.timedelta64(1, \"h\"))"
      ]
    },
    {
      "cell_type": "markdown",
      "metadata": {},
      "source": [
        "### Compute Global Radiation Flux  \n",
        "\n",
        "We compute `GLOB` using the resampled `ASWDIR_S` and `ASWDIFD_S` components, which share the same dimensions. To perform the calculation, we use the [compute_swdown](https://meteoswiss.github.io/meteodata-lab/generated/meteodatalab.operators.radiation.html#meteodatalab.operators.radiation.compute_swdown) function from [meteodata-lab](https://meteoswiss.github.io/meteodata-lab/).\n",
        "The result is a `xarray.DataArray` with the same dimensions."
      ]
    },
    {
      "cell_type": "code",
      "execution_count": null,
      "metadata": {},
      "outputs": [],
      "source": [
        "from meteodatalab.operators import radiation\n",
        "\n",
        "global_rad = radiation.compute_swdown(diffuse_rad_resampled, direct_rad_resampled)\n",
        "global_rad"
      ]
    },
    {
      "cell_type": "markdown",
      "metadata": {},
      "source": [
        "As we print the output array, we can also observe that its metadata has been updated.\n",
        "The new parameter name is stored in:"
      ]
    },
    {
      "cell_type": "code",
      "execution_count": null,
      "metadata": {},
      "outputs": [],
      "source": [
        "global_rad.attrs[\"parameter\"][\"name\"]"
      ]
    }
  ],
  "metadata": {
    "kernelspec": {
      "display_name": "Python (notebooks-nwp-env)",
      "language": "python",
      "name": "notebooks-nwp-env"
    },
    "language_info": {
      "codemirror_mode": {
        "name": "ipython",
        "version": 3
      },
      "file_extension": ".py",
      "mimetype": "text/x-python",
      "name": "python",
      "nbconvert_exporter": "python",
      "pygments_lexer": "ipython3",
      "version": "3.11.8"
    }
  },
  "nbformat": 4,
  "nbformat_minor": 2
}
