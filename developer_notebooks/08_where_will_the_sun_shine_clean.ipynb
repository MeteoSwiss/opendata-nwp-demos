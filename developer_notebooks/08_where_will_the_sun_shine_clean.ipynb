{
  "cells": [
    {
      "cell_type": "markdown",
      "metadata": {},
      "source": [
        "[![Open In Colab](https://colab.research.google.com/assets/colab-badge.svg)](https://colab.research.google.com/github/MeteoSwiss/opendata-nwp-demos/blob/main/08_where_will_the_sun_shine.ipynb)"
      ]
    },
    {
      "cell_type": "markdown",
      "metadata": {},
      "source": [
        "# ☀️ Where Will the Sun Shine the Day After Tomorrow?"
      ]
    },
    {
      "cell_type": "markdown",
      "metadata": {},
      "source": [
        "Planning a trip or event in Switzerland? Want to know where sunshine is almost guaranteed?\n",
        "\n",
        "This notebook visualizes regions with a **greater than 6-hour probability** of sunshine duration, based on the **ICON-CH2-EPS** ensemble forecast for the **day after tomorrow**.\n",
        "\n",
        "---\n",
        "\n",
        "### 🔍 What This Notebook Covers:\n",
        "- 📥 Fetch ICON-CH2-EPS ensemble forecast for sunshine duration using [meteodata-lab](https://meteoswiss.github.io/meteodata-lab/)'s `ogd_api` module\n",
        "- 📆 Aggregate values valid during the day after tomorrow\n",
        "- 🧮 Compute the probability of >6 hours of sunshine\n",
        "- 🗺️ Visualize the forecast with [earthkit-plots](https://earthkit-plots.readthedocs.io/en/latest/examples/guide/01-introduction.html)\n",
        "\n",
        "> **Note:** The **ICON-CH2-EPS** model allows forecasts up to **120 hours ahead**, enabling us to explore probabilities for the day after tomorrow. In contrast, **ICON-CH1-EPS** only provides lead times up to **33 hours**, which is too short for such analysis.  \n",
        "> 👉 [More on model specifications](https://opendatadocs.meteoswiss.ch/e-forecast-data/e2-e3-numerical-weather-forecasting-model#models-specifications)\n",
        "\n",
        "Let’s find out where you can expect plenty of sunshine!\n"
      ]
    },
    {
      "cell_type": "markdown",
      "metadata": {},
      "source": [
        "## 📦 Install Dependencies (Colab only)\n",
        "This cell installs all required dependencies if you're running the notebook in Google Colab.\n",
        "It is automatically skipped when running in a local Jupyter environment."
      ]
    },
    {
      "cell_type": "code",
      "execution_count": null,
      "metadata": {},
      "outputs": [],
      "source": [
        "\n",
        "import sys\n",
        "\n",
        "def is_colab():\n",
        "    return \"google.colab\" in sys.modules\n",
        "\n",
        "if is_colab():\n",
        "    !git clone https://github.com/MeteoSwiss/opendata-nwp-demos.git\n",
        "    %cd opendata-nwp-demos\n",
        "    !pip install poetry && poetry config virtualenvs.in-project true && poetry install --no-ansi\n",
        "    import os, pathlib\n",
        "    venv = pathlib.Path(\".venv\")\n",
        "    site = venv / \"lib\" / f\"python{sys.version_info.major}.{sys.version_info.minor}\" / \"site-packages\"\n",
        "    sys.path.insert(0, str(site))\n",
        "    os.environ[\"ECCODES_DEFINITION_PATH\"] = str((venv / \"share/eccodes-cosmo-resources/definitions\").resolve())\n"
      ]
    },
    {
      "cell_type": "markdown",
      "metadata": {},
      "source": [
        "## ☀️ Retrieve ICON-CH2-EPS Forecast (Sunshine Duration)\n",
        "> **Note:** The **ICON-CH2-EPS** model allows forecasts up to **120 hours ahead**, enabling us to explore probabilities for the day after tomorrow. In contrast, **ICON-CH1-EPS** only provides lead times up to **33 hours**, which is too short for such analysis.  \n",
        "> 👉 [More on model specifications](https://opendatadocs.meteoswiss.ch/e-forecast-data/e2-e3-numerical-weather-forecasting-model#models-specifications)\n"
      ]
    },
    {
      "cell_type": "code",
      "execution_count": null,
      "metadata": {},
      "outputs": [],
      "source": [
        "from meteodatalab import ogd_api\n",
        "from datetime import datetime, timedelta, timezone\n",
        "\n",
        "today_midnight_utc = datetime.now(timezone.utc).replace(hour=0, minute=0, second=0, microsecond=0)\n",
        "# Define lead time range to cover only D+2 (00:00 to 23:00)\n",
        "lead_times_day2 = [timedelta(hours=48), timedelta(hours=72)]\n",
        "\n",
        "# Create request\n",
        "req = ogd_api.Request(\n",
        "    collection=\"ogd-forecasting-icon-ch2\",\n",
        "    variable=\"DURSUN\",\n",
        "    ref_time=today_midnight_utc,\n",
        "    lead_time=lead_times_day2,\n",
        "    perturbed=True\n",
        ")\n",
        "\n",
        "da = ogd_api.get_from_ogd(req)"
      ]
    },
    {
      "cell_type": "markdown",
      "metadata": {},
      "source": [
        "## 🌍 Regrid to a Regular Grid\n",
        "Model output is remapped to a regular lat/lon grid using `iconremap()` from `meteodatalab.regrid` for visualization."
      ]
    },
    {
      "cell_type": "code",
      "execution_count": null,
      "metadata": {},
      "outputs": [],
      "source": [
        "from rasterio.crs import CRS\n",
        "from meteodatalab.operators import regrid\n",
        "\n",
        "xmin, xmax, ymin, ymax = -0.817, 18.183, 41.183, 51.183\n",
        "nx, ny = 732, 557 \n",
        "\n",
        "destination = regrid.RegularGrid(CRS.from_epsg(4326), nx, ny, xmin, xmax, ymin, ymax)\n",
        "da_geo = regrid.iconremap(da, destination)"
      ]
    },
    {
      "cell_type": "markdown",
      "metadata": {},
      "source": [
        "## 📆 Compute Sunshine Duration for the Day After Tomorrow"
      ]
    },
    {
      "cell_type": "code",
      "execution_count": null,
      "metadata": {},
      "outputs": [],
      "source": [
        "# Subtract cumulative value at start of D+2\n",
        "da_diff = da_geo.diff(dim=\"lead_time\")"
      ]
    },
    {
      "cell_type": "markdown",
      "metadata": {},
      "source": [
        "## 📊 Compute Probability of Sunshine > 6 Hours\n"
      ]
    },
    {
      "cell_type": "code",
      "execution_count": null,
      "metadata": {},
      "outputs": [],
      "source": [
        "threshold_seconds = 6 * 3600  # 6 hours in seconds\n",
        "mask = da_diff > threshold_seconds\n",
        "prob_sunshine = mask.mean(dim=\"eps\") * 100\n",
        "prob_sunshine.attrs = da_diff.attrs\n",
        "prob_sunshine.attrs[\"long_name\"] = \"Probability of sunshine > 6 hours\"\n",
        "prob_sunshine.attrs[\"units\"] = \"%\""
      ]
    },
    {
      "cell_type": "markdown",
      "metadata": {},
      "source": [
        "## 🗺️ Plot the Sunshine Probability Map\n"
      ]
    },
    {
      "cell_type": "code",
      "execution_count": null,
      "metadata": {},
      "outputs": [],
      "source": [
        "import cartopy.crs as ccrs\n",
        "from earthkit.plots.geo import bounds, domains\n",
        "from earthkit.plots.styles import Style, Contour\n",
        "import earthkit\n",
        "import numpy as np\n",
        "import pandas as pd\n",
        "\n",
        "bbox = bounds.BoundingBox(5.7, 10.5, 45.6, 48, ccrs.Geodetic())\n",
        "domain = domains.Domain.from_bbox(bbox=bbox)\n",
        "\n",
        "levels = [5, 35, 65, 90, 100.01]\n",
        "\n",
        "contourf_style = Style(\n",
        "    levels=levels,\n",
        "    colors=\"YlOrBr\",\n",
        "    legend_style=\"colorbar\",\n",
        ")\n",
        "\n",
        "contour_style = Contour(\n",
        "    levels=levels,\n",
        "    legend_style=None,\n",
        ")\n",
        "\n",
        "chart = earthkit.plots.Map(domain=domain)\n",
        "chart.contourf(prob_sunshine, x=\"lon\", y=\"lat\", style=contourf_style)\n",
        "chart.contour(prob_sunshine, x=\"lon\", y=\"lat\", style=contour_style)\n",
        "chart.borders()\n",
        "chart.cities(\"high\")\n",
        "chart.land()\n",
        "chart.legend(label=\"Sunshine probability >6h (%)\")\n",
        "\n",
        "# Extract reference and lead time\n",
        "ref_time = pd.to_datetime(prob_sunshine.coords[\"ref_time\"].values[0])\n",
        "lead_time = prob_sunshine.coords[\"lead_time\"].values[0]\n",
        "lead_hours = int(lead_time.astype(\"timedelta64[h]\") / np.timedelta64(1, \"h\"))\n",
        "valid_time = ref_time + pd.to_timedelta(lead_hours, unit=\"h\")\n",
        "title = \"\\n\".join([\n",
        "    \"Probability of Sunshine Duration >6h/day\",\n",
        "    f\"START TIME: {ref_time.strftime('%a %d %b %Y %H:%M')} UTC\",\n",
        "    f\"VALID TIME: {valid_time.strftime('%a %d %b %Y %H:%M')} UTC\"\n",
        "])\n",
        "chart.title(text=title)\n",
        "chart.show()"
      ]
    }
  ],
  "metadata": {
    "kernelspec": {
      "display_name": "Python (notebooks-nwp-env)",
      "language": "python",
      "name": "notebooks-nwp-env"
    },
    "language_info": {
      "codemirror_mode": {
        "name": "ipython",
        "version": 3
      },
      "file_extension": ".py",
      "mimetype": "text/x-python",
      "name": "python",
      "nbconvert_exporter": "python",
      "pygments_lexer": "ipython3",
      "version": "3.11.8"
    }
  },
  "nbformat": 4,
  "nbformat_minor": 2
}
