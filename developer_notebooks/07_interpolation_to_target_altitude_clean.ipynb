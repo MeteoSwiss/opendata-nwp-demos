{
  "cells": [
    {
      "cell_type": "code",
      "execution_count": null,
      "metadata": {},
      "outputs": [],
      "source": [
        "from datetime import datetime, timezone\n",
        "from meteodatalab import ogd_api\n",
        "\n",
        "# Set default date of today midnight in UTC\n",
        "today_midnight_utc = datetime.now(timezone.utc).replace(hour=0, minute=0, second=0, microsecond=0)\n",
        "\n",
        "\n",
        "req = ogd_api.Request(\n",
        "    collection=\"ogd-forecasting-icon-ch2\",\n",
        "    variable=\"T\",\n",
        "    reference_datetime=today_midnight_utc,\n",
        "    perturbed=False,\n",
        "    horizon=f\"P0DT0H\",\n",
        ")"
      ]
    },
    {
      "cell_type": "code",
      "execution_count": null,
      "metadata": {},
      "outputs": [],
      "source": [
        "from earthkit.data import config\n",
        "config.set(\"cache-policy\", \"temporary\")\n",
        "\n",
        "T = ogd_api.get_from_ogd(req)\n",
        "T"
      ]
    },
    {
      "cell_type": "code",
      "execution_count": null,
      "metadata": {},
      "outputs": [],
      "source": [
        "from meteodatalab import ogd_api\n",
        "from meteodatalab import grib_decoder, data_source\n",
        "from meteodatalab.operators.destagger import destagger\n",
        "from meteodatalab.operators.vertical_interpolation import interpolate_k2any, TargetCoordinates, TargetCoordinatesAttrs\n",
        "\n",
        "# access vertical constant\n",
        "url = ogd_api.get_collection_asset_url(\n",
        "    collection_id=\"ch.meteoschweiz.ogd-forecasting-icon-ch2\",\n",
        "    asset_id=\"vertical_constants_icon-ch2-eps.grib2\"\n",
        ")\n",
        "ds = grib_decoder.load(\n",
        "    source=data_source.URLDataSource(urls=[url]),\n",
        "    request={\"param\": \"HHL\"},\n",
        "    geo_coords=lambda uuid: {}\n",
        ")\n",
        "HFL = destagger(ds[\"HHL\"].squeeze(drop=True), \"z\")\n",
        "\n",
        "# interpolate to 1000 amsl\n",
        "attrs = TargetCoordinatesAttrs(\"height_above_mean_sea_level\", \"height above the mean sea level\", \"m\", \"up\")\n",
        "target_coords = TargetCoordinates(\"heightAboveSea\", [1000], attrs)\n",
        "\n",
        "T_int = interpolate_k2any(\n",
        "    field=T,\n",
        "    mode=\"high_fold\",\n",
        "    tc_field=HFL,\n",
        "    tc=target_coords,\n",
        "    h_field=HFL\n",
        "    )"
      ]
    },
    {
      "cell_type": "code",
      "execution_count": null,
      "metadata": {},
      "outputs": [],
      "source": [
        "coords = T_int.coords[\"z\"]\n",
        "attrs = T_int.attrs[\"vcoord_type\"]\n",
        "print(f\"\\033[1mz \\033[0m(vertical model levels): {coords.values}\")\n",
        "print(f\"\\033[1mvcoord_type \\033[0m(type of vertical coordinate): {attrs}\")\n",
        "T_int"
      ]
    }
  ],
  "metadata": {
    "kernelspec": {
      "display_name": "Python (notebooks-nwp-env)",
      "language": "python",
      "name": "notebooks-nwp-env"
    },
    "language_info": {
      "codemirror_mode": {
        "name": "ipython",
        "version": 3
      },
      "file_extension": ".py",
      "mimetype": "text/x-python",
      "name": "python",
      "nbconvert_exporter": "python",
      "pygments_lexer": "ipython3",
      "version": "3.11.8"
    }
  },
  "nbformat": 4,
  "nbformat_minor": 2
}
