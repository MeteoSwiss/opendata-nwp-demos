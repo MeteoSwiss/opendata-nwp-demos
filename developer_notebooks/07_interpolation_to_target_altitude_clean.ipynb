{
  "cells": [
    {
      "cell_type": "markdown",
      "metadata": {},
      "source": [
        "[![Open In Colab](https://colab.research.google.com/assets/colab-badge.svg)](https://colab.research.google.com/github/MeteoSwiss/opendata-nwp-demos/blob/main/07_interpolate_to_target_altitude.ipynb)"
      ]
    },
    {
      "cell_type": "markdown",
      "metadata": {},
      "source": [
        "# Interpolating ICON-CH2-EPS Temperature Forecasts\n",
        "\n",
        "This notebook demonstrates the full workflow for accessing ICON-CH2-EPS temperature forecasts and performing vertical interpolation from model levels to a target altitude. The data is provided by MeteoSwiss as part of Switzerland’s [Open Government Data (OGD) initiative](https://www.meteoswiss.admin.ch/services-and-publications/service/open-data.html).\n",
        "\n",
        "The core functionality is powered by the [meteodata-lab](https://meteoswiss.github.io/meteodata-lab/) library — developed in-house to simplify working with numerical weather model data. It includes the [ogd_api](https://meteoswiss.github.io/meteodata-lab/generated/meteodatalab.ogd_api.html) module for data access, along with utilities for applying temporal and spatial operators to model output, such as horizontal or vertical interpolation.\n",
        "\n",
        "The ICON-CH1/2-EPS data is typically provided on terrain-following vertical model levels, which do not correspond to height above sea. However, for consistent comparison and analysis, it is often necessary to interpolate forecast data to these specific target altitudes. The [meteodata-lab](https://meteoswiss.github.io/meteodata-lab/) library includes the function [interpolate_k2any()](https://meteoswiss.github.io/meteodata-lab/generated/meteodatalab.operators.vertical_interpolation.html#meteodatalab.operators.vertical_interpolation.interpolate_k2any), which interpolate a field from model levels to a target altitude.\n",
        "\n",
        "---\n",
        "\n",
        "## 🔍 **What You’ll Do in This Notebook**\n",
        "\n",
        " 🛰️  **Retrieve**  \n",
        "    Fetch deterministic ICON-CH2-EPS forecast data (here temperature (`T`) and pressure (`P`)) using meteodata-lab's [ogd_api](https://meteoswiss.github.io/meteodata-lab/generated/meteodatalab.ogd_api.html) module.\n",
        "\n",
        " 📉  **Interpolate to target altitude**  \n",
        "    Interpolate ICON-CH2-EPS forecast data to a specific target altitude using meteodata-lab's [vertical_interpolation](https://meteoswiss.github.io/meteodata-lab/generated/meteodatalab.operators.vertical_interpolation.html#) module.\n",
        "\n",
        "---"
      ]
    },
    {
      "cell_type": "markdown",
      "metadata": {},
      "source": [
        "## Retrieving Forecasts\n",
        "In this first part, we retrieve deterministic ICON-CH2-EPS temperature forecast data. To access this data, we use the [ogd_api](https://meteoswiss.github.io/meteodata-lab/generated/meteodatalab.ogd_api.html) module from the [meteodata-lab](https://meteoswiss.github.io/meteodata-lab/) library — a convenient interface for accessing numerical weather forecasts via the [STAC (SpatioTemporal Asset Catalog) API](https://data.geo.admin.ch/api/stac/static/spec/v1/apitransactional.html#tag/Data/operation/getAsset), which provides structured access to Switzerland’s open geospatial data."
      ]
    },
    {
      "cell_type": "markdown",
      "metadata": {},
      "source": [
        "### 📁  Browsing the STAC Catalog (Optional)\n",
        "\n",
        "If you'd like to explore the ICON-CH1/2-EPS forecast datasets interactively before writing code, you can browse them directly in the STAC catalog:\n",
        "\n",
        "&nbsp;&nbsp;&nbsp;&nbsp;🔗  [Browse the ICON-CH1-EPS collection](https://data.geo.admin.ch/browser/#/collections/ch.meteoschweiz.ogd-forecasting-icon-ch1?.language=en)\n",
        "\n",
        "&nbsp;&nbsp;&nbsp;&nbsp;🔗  [Browse the ICON-CH2-EPS collection](https://data.geo.admin.ch/browser/#/collections/ch.meteoschweiz.ogd-forecasting-icon-ch2?.language=en)\n",
        "\n",
        "\n",
        "Below is a screenshot of the ICON-CH2-EPS collection as seen in the STAC browser interface.\n"
      ]
    },
    {
      "cell_type": "markdown",
      "metadata": {},
      "source": [
        "![browser-ch2.png](./images/browser-ch2.png)"
      ]
    },
    {
      "cell_type": "markdown",
      "metadata": {},
      "source": [
        "⚙️ **Google Colab Setup**  \n",
        "This cell installs all required dependencies if you're running the notebook in **Google Colab**.  \n",
        "It is automatically skipped when running in a local Jupyter environment."
      ]
    },
    {
      "cell_type": "code",
      "execution_count": null,
      "metadata": {},
      "outputs": [],
      "source": [
        "# 📦 Google Colab Setup (skipped if not running in Colab)\n",
        "import sys\n",
        "\n",
        "def is_colab():\n",
        "    return \"google.colab\" in sys.modules\n",
        "\n",
        "if is_colab():\n",
        "    !git clone https://github.com/MeteoSwiss/opendata-nwp-demos.git\n",
        "    %cd opendata-nwp-demos\n",
        "    !pip install poetry && poetry config virtualenvs.in-project true && poetry install --no-ansi\n",
        "    import sys, os, pathlib\n",
        "    venv = pathlib.Path(\".venv\")\n",
        "    site = venv / \"lib\" / f\"python{sys.version_info.major}.{sys.version_info.minor}\" / \"site-packages\"\n",
        "    sys.path.insert(0, str(site))\n",
        "    os.environ[\"ECCODES_DEFINITION_PATH\"] = str((venv / \"share/eccodes-cosmo-resources/definitions\").resolve())"
      ]
    },
    {
      "cell_type": "markdown",
      "metadata": {},
      "source": [
        "### Creating Requests\n",
        "To retrieve the forecast data, we first define an API request using the [ogd_api.Request](https://meteoswiss.github.io/meteodata-lab/generated/meteodatalab.ogd_api.html#meteodatalab.ogd_api.Request) class. In this example, we create a request to retrieve the temperature field (`T`), which we aim to interpolate.\n",
        "\n",
        ">⏰ **Forecast Availability**: Forecast data will typically be available a couple of hours after the reference time — due to the model runtime and subsequent upload time. The data remains accessible for 24 hours after upload."
      ]
    },
    {
      "cell_type": "code",
      "execution_count": null,
      "metadata": {},
      "outputs": [],
      "source": [
        "from datetime import datetime, timezone\n",
        "from meteodatalab import ogd_api\n",
        "\n",
        "# Set default date of today midnight in UTC\n",
        "today_midnight_utc = datetime.now(timezone.utc).replace(hour=0, minute=0, second=0, microsecond=0)\n",
        "\n",
        "\n",
        "req = ogd_api.Request(\n",
        "    collection=\"ogd-forecasting-icon-ch2\",\n",
        "    variable=\"T\",\n",
        "    reference_datetime=today_midnight_utc,\n",
        "    perturbed=False,\n",
        "    horizon=f\"P0DT0H\",\n",
        ")"
      ]
    },
    {
      "cell_type": "markdown",
      "metadata": {},
      "source": [
        "Each argument in the request serves the following purpose:\n",
        "\n",
        "| Argument             | Description |\n",
        "|----------------------|-------------|\n",
        "| `collection`         | Forecast collection to use (e.g., `ogd-forecasting-icon-ch2` for ICON-CH2-EPS). |\n",
        "| `variable`           | Meteorological variable of interest (`T` = temperature). |\n",
        "| `reference_datetime` | Initialization time of the forecast in **UTC**, provided as either:<br>- [datetime.datetime](https://docs.python.org/3/library/datetime.html#datetime-objects) object (e.g.,<br> &nbsp; `datetime.datetime(2025, 5, 22, 9, 0, 0, tzinfo=datetime.timezone.utc)`) <br>- [ISO 8601](https://en.wikipedia.org/wiki/ISO_8601#Combined_date_and_time_representations) date string (e.g., `\"2025-05-22T09:00:00Z\"`)|\n",
        "| `perturbed`          | If `True`, retrieves ensemble forecast members; if `False`, returns the deterministic forecast. |\n",
        "| `horizon`            | Forecast lead time, provided as either:<br>– [datetime.timedelta](https://docs.python.org/3/library/datetime.html#timedelta-objects) object (e.g., `datetime.timedelta(hours=0)`) <br>– [ISO 8601](https://en.wikipedia.org/wiki/ISO_8601#Durations) duration string (e.g., `\"P0DT0H\"`)|"
      ]
    },
    {
      "cell_type": "markdown",
      "metadata": {},
      "source": [
        "### Retrieving Data\n",
        "We now send our request to the API and retrieve the resulting dataset using the [get_from_ogd()](https://meteoswiss.github.io/meteodata-lab/generated/meteodatalab.ogd_api.html#meteodatalab.ogd_api.get_from_ogd) function.\n",
        "The response is returned as an **[xarray.DataArray](https://docs.xarray.dev/en/stable/generated/xarray.DataArray.html)**, which is efficient for handling multi-dimensional data.\n",
        "\n",
        "> 💡 **Tip**: Use temporary caching with earthkit-data to skip repeated downloads — it's auto-cleaned after the session.\n",
        "> *For more details, see the [earthkit-data caching docs](https://earthkit-data.readthedocs.io/en/latest/examples/cache.html)*.\n",
        "\n",
        "> 💡 **Hint**: If you get an error message containing `HTTPError: 403 Client Error: Forbidden for url`, you may be trying to retrieve data older than 24h hours! Please adjust your requests."
      ]
    },
    {
      "cell_type": "code",
      "execution_count": null,
      "metadata": {},
      "outputs": [],
      "source": [
        "from earthkit.data import config\n",
        "config.set(\"cache-policy\", \"temporary\")\n",
        "\n",
        "T = ogd_api.get_from_ogd(req)"
      ]
    },
    {
      "cell_type": "markdown",
      "metadata": {},
      "source": [
        "The result of the `ogd_api.get_from_ogd()` call is an `xarray.DataArray` with the following structure:\n",
        "\n",
        "**Dimensions**\n",
        "- `eps` (ensemble members): 1 member (for deterministic data)\n",
        "- `ref_time`: forecast init time (UTC)\n",
        "- `lead_time`: time offset from `ref_time`\n",
        "- `z`: **vertical model levels (80)**\n",
        "- `cell`: spatial grid points (~280k for ICON-CH2-EPS)\n",
        "\n",
        "**Coordinates**\n",
        "- `lon` / `lat`: longitude & latitude per `cell`\n",
        "- `valid_time`: `ref_time` + `lead_time`\n",
        "        \n",
        "**Attributes**\n",
        "- `parameter`: variable info (e.g., name, units)\n",
        "- `vcoord_type`: vertical coordinate type (e.g., `model_level`)\n",
        "- `geography`: grid structure metadata"
      ]
    },
    {
      "cell_type": "code",
      "execution_count": null,
      "metadata": {},
      "outputs": [],
      "source": [
        "T"
      ]
    },
    {
      "cell_type": "markdown",
      "metadata": {},
      "source": [
        "> &#x1F525; **Expert users:** If you are interested in detailed metadata information, i.e. the GRIB encodings, you can retrieve it from the `metadata` attribute.\n",
        "Please refer to the [earthkit-data metadata documentation](https://earthkit-data.readthedocs.io/en/latest/examples/metadata.html)."
      ]
    },
    {
      "cell_type": "markdown",
      "metadata": {},
      "source": [
        "💡 To prepare for interpolation, let's inspect the initial vertical coordinate, the **model levels**:"
      ]
    },
    {
      "cell_type": "code",
      "execution_count": null,
      "metadata": {},
      "outputs": [],
      "source": [
        "T.coords[\"z\"].values"
      ]
    },
    {
      "cell_type": "markdown",
      "metadata": {},
      "source": [
        "### Model levels\n",
        "\n",
        "As shown in the output above, the parameter `T` includes temperature values on **80 model levels**. These model levels represent how the atmosphere is discretised from the Earth's surface up to the top of the model domain. In the numerical weather model ICON the 80 model levels correspond to the so-called **full levels** and are numbered top down. They are following the terrain and gradually change into levels of constant height as the distance from the surface increases (see the picture below). For more information about model levels, refer to the [model grid documentation](https://opendatadocs.meteoswiss.ch/e-forecast-data/e2-e3-numerical-weather-forecasting-model#vertical-grid)."
      ]
    },
    {
      "cell_type": "markdown",
      "metadata": {},
      "source": [
        "<div style=\"text-align: center;\">\n",
        "  <img src=\"./images/VerticalLayers.png\" width=\"50%\">\n",
        "</div>"
      ]
    },
    {
      "cell_type": "markdown",
      "metadata": {},
      "source": [
        "## Interpolation from Model Levels to Target Altitude\n",
        "\n",
        "Interpolating forecast data to a specific target altitude can be useful in certain applications. The transformation from model levels to a target altitude can be performed using meteodata-lab's [`interpolate_k2any()`](https://meteoswiss.github.io/meteodata-lab/generated/meteodatalab.operators.vertical_interpolation.html#meteodatalab.operators.vertical_interpolation.interpolate_k2any) function.\n",
        "\n",
        "---\n",
        "### How `interpolate_k2any()` Works\n",
        "\n",
        "To interpolate a field from model levels to any vertical level the function `interpolate_k2any()`:\n",
        "\n",
        "1. **Identifies all adjacent model levels** $k$ and $k-1$ such that:\n",
        "   - $t_1 = \\text{any\\_level}[k-1]$ is just **above** target level $t$\n",
        "   - $t_2 = \\text{any\\_level}[k]$ is just **below** target level $t$\n",
        "\n",
        "2. **Determines the index $k$** depending on the selected `mode`:\n",
        "    - \"low_fold\": Extracts the index $k$ of the highest matching target level along a coordinate\n",
        "    - \"high_fold\": Extracts the index $k$ of the lowest matching target level along a coordinated\n",
        "    \n",
        "3. **Retrieves the field values** at the extracted level $k$ and $k-1$:\n",
        "   - $f_1 = \\text{field}[k-1]$\n",
        "   - $f_2 = \\text{field}[k]$\n",
        "\n",
        "4. **Interpolates linearly**:\n",
        "\n",
        "    $$\n",
        "    r = \\frac{t - t_1}{t_2 - t_1}, \\quad f(t) = (1 - r) f_1 + r f_2\n",
        "    $$\n",
        "\n",
        "This logic is applied point-wise across the full 3D field."
      ]
    },
    {
      "cell_type": "markdown",
      "metadata": {},
      "source": [
        "### Implementation\n",
        "\n",
        "In this example, we demonstrate how to interpolate temperature data on model levels to a specific target altitude.\n",
        "\n",
        "The `interpolate_k2any()` function requires the following arguments:\n",
        "- `field`: parameter to be interpolated\n",
        "- `mode`: interpolation algorithm (`\"low_fold\"` or `\"high_fold\"`)\n",
        "- `tc_field`: target field on model levels\n",
        "- `tc`: target coordinates\n",
        "- `h_field`: height field on model levels\n",
        "\n",
        "In order to interpolate to a specific altitude the `tc_field` and `h_field` correspond to the same parameter: the height above sea level on **full model level (HFL)**. To derive the HFL data, we first retrieve the vertical grid parameters that provide the height above sea level at the **half levels (HHL)**. Next, we perform a destaggering operation on these half levels to compute the corresponding heights at the full levels."
      ]
    },
    {
      "cell_type": "code",
      "execution_count": null,
      "metadata": {},
      "outputs": [],
      "source": [
        "from meteodatalab import ogd_api\n",
        "from meteodatalab import grib_decoder, data_source\n",
        "from meteodatalab.operators.destagger import destagger\n",
        "from meteodatalab.operators.vertical_interpolation import TargetCoordinates, TargetCoordinatesAttrs\n",
        "\n",
        "# access vertical constant\n",
        "url = ogd_api.get_collection_asset_url(\n",
        "    collection_id=\"ch.meteoschweiz.ogd-forecasting-icon-ch2\",\n",
        "    asset_id=\"vertical_constants_icon-ch2-eps.grib2\"\n",
        ")\n",
        "ds = grib_decoder.load(\n",
        "    source=data_source.URLDataSource(urls=[url]),\n",
        "    request={\"param\": \"HHL\"},\n",
        "    geo_coords=lambda uuid: {}\n",
        ")\n",
        "HFL = destagger(ds[\"HHL\"].squeeze(drop=True), \"z\")"
      ]
    },
    {
      "cell_type": "markdown",
      "metadata": {},
      "source": [
        "Once retrieved the HFL data, continue with the interpolation.\n",
        "\n",
        "> 💡 **Note**: The `mode` argument is not relevant for temperature data, as temperature decreases with height. However, when working with a target field that is non-monotonic, the choice of `mode`becomes important. Use \"high_fold\" to always select the highest matching target level along a coordinate, or \"low_fold\" to select the lowest."
      ]
    },
    {
      "cell_type": "code",
      "execution_count": null,
      "metadata": {},
      "outputs": [],
      "source": [
        "from meteodatalab.operators.vertical_interpolation import interpolate_k2any\n",
        "\n",
        "# Define target coordinates\n",
        "attrs = TargetCoordinatesAttrs(\"height_above_mean_sea_level\", \"height above the mean sea level\", \"m\", \"up\")\n",
        "target_coords = TargetCoordinates(\"heightAboveSea\", [1000], attrs)\n",
        "\n",
        "T_int = interpolate_k2any(\n",
        "    field=T,\n",
        "    mode=\"high_fold\",\n",
        "    tc_field=HFL,\n",
        "    tc=target_coords,\n",
        "    h_field=HFL\n",
        "    )"
      ]
    },
    {
      "cell_type": "markdown",
      "metadata": {},
      "source": [
        "### Target Altitude Inspection\n",
        "After interpolation, the parameter now has updated vertical coordinates:\n",
        "- `z`: 1000 masl (1 vertical level)\n",
        "- `vcoord_type`: heightAboveSea (type of vertical coordinates)"
      ]
    },
    {
      "cell_type": "code",
      "execution_count": null,
      "metadata": {},
      "outputs": [],
      "source": [
        "coords = T_int.coords[\"z\"]\n",
        "attrs = T_int.attrs[\"vcoord_type\"]\n",
        "print(f\"\\033[1mz \\033[0m(vertical levels): {coords.values}\")\n",
        "print(f\"\\033[1mvcoord_type \\033[0m(type of vertical coordinate): {attrs}\")"
      ]
    }
  ],
  "metadata": {
    "kernelspec": {
      "display_name": "Python (notebooks-nwp-env)",
      "language": "python",
      "name": "notebooks-nwp-env"
    },
    "language_info": {
      "codemirror_mode": {
        "name": "ipython",
        "version": 3
      },
      "file_extension": ".py",
      "mimetype": "text/x-python",
      "name": "python",
      "nbconvert_exporter": "python",
      "pygments_lexer": "ipython3",
      "version": "3.11.8"
    }
  },
  "nbformat": 4,
  "nbformat_minor": 2
}
