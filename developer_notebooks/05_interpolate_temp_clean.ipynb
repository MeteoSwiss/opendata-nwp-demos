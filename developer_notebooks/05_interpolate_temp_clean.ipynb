{
  "cells": [
    {
      "cell_type": "markdown",
      "metadata": {},
      "source": [
        "# Interpolating ICON-CH2-EPS Temperature Forecasts to Pressure Levels\n",
        "\n",
        "This notebook demonstrates the full workflow for accessing ICON-CH2-EPS temperature forecasts and performing vertical interpolation from model levels to pressure levels. The data is provided by MeteoSwiss as part of Switzerland’s [Open Government Data (OGD) initiative](https://www.meteoswiss.admin.ch/services-and-publications/service/open-data.html).\n",
        "\n",
        "The core functionality is powered by the [meteodata-lab](https://meteoswiss.github.io/meteodata-lab/) library — developed in-house to simplify working with numerical weather model data. It includes the `ogd_api` module for data access, along with utilities for applying temporal and spatial operators to model output, such as horizontal or vertical interpolation.\n",
        "\n",
        "The ICON-CH1/2-EPS data is typically provided on terrain-following vertical model levels, which do not correspond directly to atmospheric pressure levels. However, for consistent comparison and analysis, it is often necessary to interpolate forecast data to these pressure levels. The [meteodata-lab](https://meteoswiss.github.io/meteodata-lab/) library includes the function [interpolate_k2p](https://meteoswiss.github.io/meteodata-lab/generated/meteodatalab.operators.vertical_interpolation.html#meteodatalab.operators.vertical_interpolation.interpolate_k2p), which interpolates a field from model levels to pressure coordinates.\n",
        "\n",
        "---\n",
        "\n",
        "## 🔍 **What You’ll Do in This Notebook**\n",
        "\n",
        " 🛰️  **Retrieve**  \n",
        "    Fetch deterministic ICON-CH2-EPS forecast data (e.g., temperature (`T`) and pressure (`P`)) using meteodata-lab's [ogd_api](https://meteoswiss.github.io/meteodata-lab/generated/meteodatalab.ogd_api.html)` module.\n",
        "\n",
        " 📈  **Interpolate to pressure levels**  \n",
        "    Interpolate ICON-CH2-EPS forecast data to pressure levels using meteodata-lab's [vertical_interpolation](https://meteoswiss.github.io/meteodata-lab/generated/meteodatalab.operators.vertical_interpolation.html#) module.\n",
        "\n",
        "---"
      ]
    },
    {
      "cell_type": "markdown",
      "metadata": {},
      "source": [
        "## Retrieving Forecasts\n",
        "In this first part, we retrieve deterministic ICON-CH2-EPS temperature and pressure forecast data. To access this data, we use the [ogd_api](https://meteoswiss.github.io/meteodata-lab/generated/meteodatalab.ogd_api.html) module from the [meteodata-lab](https://meteoswiss.github.io/meteodata-lab/) library — a convenient interface for accessing numerical weather forecasts via the [STAC (SpatioTemporal Asset Catalog) API](https://data.geo.admin.ch/api/stac/static/spec/v1/apitransactional.html#tag/Data/operation/getAsset), which provides structured access to Switzerland’s open geospatial data."
      ]
    },
    {
      "cell_type": "markdown",
      "metadata": {},
      "source": [
        "#### 📁  Browsing the STAC Catalog (Optional)\n",
        "\n",
        "If you'd like to explore the ICON-CH1/2-EPS forecast datasets interactively before writing code, you can browse them directly in the STAC catalog:\n",
        "\n",
        "&nbsp;&nbsp;&nbsp;&nbsp;🔗  [Browse the ICON-CH1-EPS collection](https://data.geo.admin.ch/browser/#/collections/ch.meteoschweiz.ogd-forecasting-icon-ch1?.language=en)\n",
        "\n",
        "&nbsp;&nbsp;&nbsp;&nbsp;🔗  [Browse the ICON-CH2-EPS collection](https://data.geo.admin.ch/browser/#/collections/ch.meteoschweiz.ogd-forecasting-icon-ch2?.language=en)\n",
        "\n",
        "\n",
        "Below is a screenshot of the ICON-CH2-EPS collection as seen in the STAC browser interface.\n"
      ]
    },
    {
      "cell_type": "markdown",
      "metadata": {},
      "source": [
        "![browser-ch2-resized.PNG](./images/browser-ch2-resized.PNG)"
      ]
    },
    {
      "cell_type": "markdown",
      "metadata": {},
      "source": [
        "### Creating Requests\n",
        "To retrieve the forecast data, we first define API requests using the [ogd_api.Request](https://meteoswiss.github.io/meteodata-lab/generated/meteodatalab.ogd_api.html#meteodatalab.ogd_api.Request) class. In this example, we create two requests: one to retrieve the temperature field (`T`), which we aim to interpolate, and another to obtain the pressure field (`P`) on model levels, required for the interpolation.\n",
        "\n",
        ">⏰ **Forecast Availability**: Forecast data will typically be available a couple of hours after the reference time — due to the model runtime and subsequent upload time. The data remains accessible for 24 hours after upload."
      ]
    },
    {
      "cell_type": "code",
      "execution_count": null,
      "metadata": {},
      "outputs": [],
      "source": [
        "from datetime import datetime, timezone\n",
        "from meteodatalab import ogd_api\n",
        "\n",
        "# Set default date of today midnight in UTC\n",
        "today_midnight_utc = datetime.now(timezone.utc).replace(hour=0, minute=0, second=0, microsecond=0)\n",
        "\n",
        "param_list = [\"T\", \"P\"]\n",
        "req_list = []\n",
        "\n",
        "for param in param_list:\n",
        "    req = ogd_api.Request(\n",
        "        collection=\"ogd-forecasting-icon-ch2\",\n",
        "        variable=param,\n",
        "        reference_datetime=today_midnight_utc,\n",
        "        perturbed=False,\n",
        "        horizon=f\"P0DT0H\",\n",
        "    )\n",
        "    req_list.append((param,req))\n"
      ]
    },
    {
      "cell_type": "markdown",
      "metadata": {},
      "source": [
        "Each argument in the request serves the following purpose:\n",
        "\n",
        "| Argument             | Description |\n",
        "|----------------------|-------------|\n",
        "| `collection`         | Forecast collection to use (e.g., `ogd-forecasting-icon-ch2` for ICON-CH2-EPS). |\n",
        "| `variable`           | Meteorological variable of interest (`T` = temperature and `P` = pressure). |\n",
        "| `reference_datetime` | Initialization time of the forecast in **UTC**, provided as either:<br>- [datetime.datetime](https://docs.python.org/3/library/datetime.html#datetime-objects) object (e.g.,<br> &nbsp; `datetime.datetime(2025, 5, 22, 9, 0, 0, tzinfo=datetime.timezone.utc)`) <br>- [ISO 8601](https://en.wikipedia.org/wiki/ISO_8601#Combined_date_and_time_representations) date string (e.g., `\"2025-05-22T09:00:00Z\"`)|\n",
        "| `perturbed`          | If `True`, retrieves ensemble forecast members; if `False`, returns the deterministic forecast. |\n",
        "| `horizon`            | Forecast lead time, provided as either:<br>– [datetime.timedelta](https://docs.python.org/3/library/datetime.html#timedelta-objects) object (e.g., `datetime.timedelta(hours=0)`) <br>– [ISO 8601](https://en.wikipedia.org/wiki/ISO_8601#Durations) duration string (e.g., `\"P0DT0H\"`)|"
      ]
    },
    {
      "cell_type": "markdown",
      "metadata": {},
      "source": [
        "### Retrieving Data\n",
        "We now send our list of requests to the API and retrieve the resulting datasets using the [get_from_ogd()](https://meteoswiss.github.io/meteodata-lab/generated/meteodatalab.ogd_api.html#meteodatalab.ogd_api.get_from_ogd) function.\n",
        "Each response is returned as an **[xarray.DataArray](https://docs.xarray.dev/en/stable/generated/xarray.DataArray.html)**, which is efficient for handling multi-dimensional data.\n",
        "\n",
        "> 💡 **Tip**: Use temporary caching with earthkit-data to skip repeated downloads — it's auto-cleaned after the session.\n",
        "> *For more details, see the [earthkit-data caching docs](https://earthkit-data.readthedocs.io/en/latest/examples/cache.html)*.\n",
        "\n",
        "> 💡 **Hint**: If you get an error message containing `HTTPError: 403 Client Error: Forbidden for url`, you may be trying to retrieve data older than 24h hours! Please adjust your requests."
      ]
    },
    {
      "cell_type": "code",
      "execution_count": null,
      "metadata": {},
      "outputs": [],
      "source": [
        "from earthkit.data import config\n",
        "config.set(\"cache-policy\", \"temporary\")\n",
        "\n",
        "da_dict = {}\n",
        "for param, req in req_list:\n",
        "    da = ogd_api.get_from_ogd(req)\n",
        "    da_dict[param]= da"
      ]
    },
    {
      "cell_type": "code",
      "execution_count": null,
      "metadata": {},
      "outputs": [],
      "source": [
        "da_dict[\"T\"]"
      ]
    },
    {
      "cell_type": "markdown",
      "metadata": {},
      "source": [
        "The resulting `xarray.DataArray` has the following dimensions:\n",
        "\n",
        "- `eps` (ensemble members): 1 member (for deterministic data)\n",
        "- `ref_time`: single reference time (e.g. default date of today midnight)\n",
        "- `lead_time`: single lead time (e.g. +0 hours)\n",
        "- `z`: vertical levels (e.g. 80 model levels)\n",
        "- `cell`: 283,876 spatial grid points\n",
        "\n",
        "It includes attributes specifying some meta data such as:\n",
        "\n",
        "- `parameter`: information on the meteorogical parameter (e.g. name, units etc.)\n",
        "- `vcoord_type`: information of the vertical coordinate type, here `model_level`\n",
        "\n",
        "> &#x1F525; **Expert users:** If you are interested in detailed meta data information, i.e. the GRIB encodings, you can retrieve it from the `metadata` attribute.\n",
        "Please refer to the [earthkit-data metadata documentation](https://earthkit-data.readthedocs.io/en/latest/examples/metadata.html)."
      ]
    },
    {
      "cell_type": "markdown",
      "metadata": {},
      "source": [
        "## Data Interpolation\n",
        "\n",
        "Once the data has been loaded, continue with the interpolation process. The following steps are covered in this section:\n",
        "- Model level description\n",
        "- Interpolation from model to pressure levels\n",
        "    - Methods\n",
        "    - Comparison\n",
        "    - Implementation\n",
        "- Pressure level inspection"
      ]
    },
    {
      "cell_type": "markdown",
      "metadata": {},
      "source": [
        "### Model level description\n",
        "\n",
        "As shown in the output above, the parameter `T` includes **80 model levels**. These model levels represent how the atmosphere is divided from the Earth's surface up to the top of the model domain. In the numerical weather model ICON the 80 model levels correspond to the so-called full levels and are numbered top down. They are following the terrain and gradually change into levels of constant height as the distance from the surface increases (see the picture below). For more information about model levels, refer to the [model grid documentation](https://opendatadocs.meteoswiss.ch/e-forecast-data/e2-e3-numerical-weather-forecasting-model#vertical-grid)."
      ]
    },
    {
      "cell_type": "markdown",
      "metadata": {},
      "source": [
        "<div style=\"text-align: center;\">\n",
        "  <img src=\"./images/VerticalLayers.png\" width=\"50%\">\n",
        "</div>"
      ]
    },
    {
      "cell_type": "markdown",
      "metadata": {},
      "source": [
        "### Interpolation from model to pressure levels\n",
        "To compare and work with multi-leveled forecast data, it is useful to interpolate to standard pressure levels. The `interpolate_k2p` function included in [meteodata-lab](https://meteoswiss.github.io/meteodata-lab/) converts model level (k) to pressure level (p) weather data.\n",
        "\n",
        "\n",
        "#### Methods\n",
        "The function `interpolate_k2p` offers three different interpolation approaches.\n",
        "\n",
        "- linear:\n",
        "\n",
        "$$ f(x) = f_0 \\frac{f_1-f_0}{x_1 -x_0} + f_1 \\frac{x-f_0}{x_1 -x_0} $$\n",
        "\n",
        "- logarithmic:\n",
        "\n",
        "$$ f(x) = f_0 \\frac{(x - x_0)(ln f_1 - ln f_0)}{x_1 -x_0} $$\n",
        "\n",
        "- nearest surface:\n",
        "\n",
        "$$ \n",
        "f(x) = \n",
        "\\begin{cases} \n",
        "& f_0 \\, \\text{  if  } \\, |x_0 - x| < |x_1 - x|\\\\\n",
        "& f_1 \\, \\text{  if  } \\, |x_0 - x| \\geq |x_1 - x|\n",
        "\\end{cases}\n",
        "$$\n",
        "\n",
        "Where $f(x)$ is the interpolant, $(x_0, f_0)$ and $(x_1, f_1)$ two given data points and $x \\in (x_0, x_1)$."
      ]
    },
    {
      "cell_type": "markdown",
      "metadata": {},
      "source": [
        "#### Comparison of Interpolation Methods\n",
        "\n",
        "Each interpolation method produces slightly different results. For example, if you have temperature values at model levels *k* and *k-1* and want to estimate the value at 700 hPa, the result will depend on the method used. The following example illustrates how each of the three methods generates different outputs."
      ]
    },
    {
      "cell_type": "markdown",
      "metadata": {},
      "source": [
        "<div style=\"text-align: center;\">\n",
	        "  <img src=\"./images/interpolation.png\" width=\"50%\">\n",
	        "</div>"
      ]
    },
    {
      "cell_type": "markdown",
      "metadata": {},
      "source": [
        "#### Implementation\n",
        "The relationship between the gradient of the parameter to be interpolated and the pressure gradient, determines which interpolation methods is most suitable. In this example, we apply logarithmic interpolation to the temperature data. The `interpolate_k2p` function requires the following inputs:\n",
        "- `field`: parameter to be interpolated\n",
        "- `mode`: interpolation method ('linear_in_p', 'linear_in_lnp' or 'nearest_sfc')\n",
        "- `p_field`: predicted pressure values\n",
        "- `p_tc_values`: target pressure levels\n",
        "- `p_tc_units`: the unit of the target pressure levels ('Pa' or 'hPa')"
      ]
    },
    {
      "cell_type": "code",
      "execution_count": null,
      "metadata": {},
      "outputs": [],
      "source": [
        "from meteodatalab.operators.vertical_interpolation import interpolate_k2p\n",
        "\n",
        "target_levels = [500, 550, 600, 650, 700, 750, 800, 850]\n",
        "\n",
        "T_int = interpolate_k2p(field=da_dict[\"T\"], mode=\"linear_in_lnp\", p_field=da_dict[\"P\"], p_tc_values=target_levels, p_tc_units='hPa')"
      ]
    },
    {
      "cell_type": "markdown",
      "metadata": {},
      "source": [
        "### Pressure level inspection\n",
        "As demonstarted below, the interpolated parameter has now the following updated dimensions:\n",
        "- `z`: 50000 - 85000 Pa (vertical levels)\n",
        "- `vcoord_type`: pressure (type of vertical coordinates)"
      ]
    },
    {
      "cell_type": "code",
      "execution_count": null,
      "metadata": {},
      "outputs": [],
      "source": [
        "T_int"
      ]
    }
  ],
  "metadata": {
    "kernelspec": {
      "display_name": "Python (notebooks-nwp-env)",
      "language": "python",
      "name": "notebooks-nwp-env"
    },
    "language_info": {
      "codemirror_mode": {
        "name": "ipython",
        "version": 3
      },
      "file_extension": ".py",
      "mimetype": "text/x-python",
      "name": "python",
      "nbconvert_exporter": "python",
      "pygments_lexer": "ipython3",
      "version": "3.11.8"
    }
  },
  "nbformat": 4,
  "nbformat_minor": 2
}
