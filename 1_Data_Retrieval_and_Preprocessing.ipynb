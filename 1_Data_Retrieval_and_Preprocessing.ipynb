{
 "cells": [
  {
   "cell_type": "code",
   "execution_count": 1,
   "metadata": {},
   "outputs": [
    {
     "name": "stdout",
     "output_type": "stream",
     "text": [
      "ecCodes version: 2.35.1\n"
     ]
    }
   ],
   "source": [
    "import xarray\n",
    "import numpy\n",
    "import os\n",
    "os.environ[\"ECCODES_DIR\"] = \"/home/nen/micromamba/envs/eccodes_env\"\n",
    "\n",
    "from meteodatalab import data_source, grib_decoder\n",
    "import eccodes\n",
    "print(\"ecCodes version:\", eccodes.codes_get_api_version())\n"
   ]
  },
  {
   "cell_type": "code",
   "execution_count": 2,
   "metadata": {},
   "outputs": [
    {
     "data": {
      "text/plain": [
       "FileDataSource(request_template={}, datafiles=['precip_20250122_06.grib'])"
      ]
     },
     "execution_count": 2,
     "metadata": {},
     "output_type": "execute_result"
    }
   ],
   "source": [
    "source = data_source.FileDataSource(datafiles=[\"precip_20250122_06.grib\"])\n",
    "source"
   ]
  },
  {
   "cell_type": "code",
   "execution_count": 3,
   "metadata": {},
   "outputs": [
    {
     "data": {
      "text/plain": [
       "{'TOT_PREC': <xarray.DataArray (eps: 10, ref_time: 1, lead_time: 4, y: 786, x: 1170)> Size: 147MB\n",
       " array([[[[[0.00000000e+00, 0.00000000e+00, 0.00000000e+00, ...,\n",
       "            0.00000000e+00, 0.00000000e+00, 0.00000000e+00],\n",
       "           [0.00000000e+00, 0.00000000e+00, 0.00000000e+00, ...,\n",
       "            0.00000000e+00, 0.00000000e+00, 0.00000000e+00],\n",
       "           [0.00000000e+00, 0.00000000e+00, 0.00000000e+00, ...,\n",
       "            0.00000000e+00, 0.00000000e+00, 0.00000000e+00],\n",
       "           ...,\n",
       "           [0.00000000e+00, 0.00000000e+00, 0.00000000e+00, ...,\n",
       "            0.00000000e+00, 0.00000000e+00, 0.00000000e+00],\n",
       "           [0.00000000e+00, 0.00000000e+00, 0.00000000e+00, ...,\n",
       "            0.00000000e+00, 0.00000000e+00, 0.00000000e+00],\n",
       "           [0.00000000e+00, 0.00000000e+00, 0.00000000e+00, ...,\n",
       "            0.00000000e+00, 0.00000000e+00, 0.00000000e+00]],\n",
       " \n",
       "          [[0.00000000e+00, 0.00000000e+00, 0.00000000e+00, ...,\n",
       "            0.00000000e+00, 0.00000000e+00, 0.00000000e+00],\n",
       "           [0.00000000e+00, 0.00000000e+00, 0.00000000e+00, ...,\n",
       "            0.00000000e+00, 0.00000000e+00, 0.00000000e+00],\n",
       "           [0.00000000e+00, 0.00000000e+00, 0.00000000e+00, ...,\n",
       "            0.00000000e+00, 0.00000000e+00, 0.00000000e+00],\n",
       " ...\n",
       "            4.39453125e-02, 5.07812500e-02, 5.68847656e-02],\n",
       "           [3.17871094e-01, 3.51562500e-01, 3.81347656e-01, ...,\n",
       "            4.22363281e-02, 5.71289062e-02, 6.07910156e-02],\n",
       "           [3.41796875e-01, 3.95751953e-01, 4.08935547e-01, ...,\n",
       "            6.03027344e-02, 7.00683594e-02, 7.83691406e-02]],\n",
       " \n",
       "          [[0.00000000e+00, 0.00000000e+00, 0.00000000e+00, ...,\n",
       "            0.00000000e+00, 0.00000000e+00, 0.00000000e+00],\n",
       "           [0.00000000e+00, 0.00000000e+00, 0.00000000e+00, ...,\n",
       "            0.00000000e+00, 0.00000000e+00, 0.00000000e+00],\n",
       "           [0.00000000e+00, 0.00000000e+00, 0.00000000e+00, ...,\n",
       "            0.00000000e+00, 0.00000000e+00, 0.00000000e+00],\n",
       "           ...,\n",
       "           [2.93945312e-01, 3.54003906e-01, 4.77050781e-01, ...,\n",
       "            4.39453125e-02, 5.07812500e-02, 5.71289062e-02],\n",
       "           [4.26757812e-01, 4.78027344e-01, 5.33691406e-01, ...,\n",
       "            4.24804688e-02, 5.71289062e-02, 6.10351562e-02],\n",
       "           [4.58496094e-01, 5.46875000e-01, 5.75683594e-01, ...,\n",
       "            6.00585938e-02, 7.03125000e-02, 7.81250000e-02]]]]],\n",
       "       dtype=float32)\n",
       " Coordinates:\n",
       "   * eps         (eps) int64 80B 0 1 2 3 4 5 6 7 9 10\n",
       "   * ref_time    (ref_time) datetime64[ns] 8B 2025-01-22T06:00:00\n",
       "   * lead_time   (lead_time) timedelta64[ns] 32B 00:00:00 01:00:00 ... 03:00:00\n",
       "     lat         (y, x) float64 7MB 42.14 42.14 42.14 42.14 ... 50.16 50.16 50.16\n",
       "     lon         (y, x) float64 7MB 0.7593 0.7726 0.786 ... 17.51 17.52 17.54\n",
       "     valid_time  (ref_time, lead_time) datetime64[ns] 32B 2025-01-22T06:00:00 ...\n",
       " Dimensions without coordinates: y, x\n",
       " Attributes:\n",
       "     metadata:     <earthkit.data.readers.grib.metadata.StandAloneGribMetadata...\n",
       "     parameter:    {'centre': 'lssw', 'paramId': 500041, 'shortName': 'TOT_PRE...\n",
       "     geography:    {'Ni': 1170, 'Nj': 786, 'iScansNegatively': 0, 'jScansPosit...\n",
       "     vref:         geo\n",
       "     vcoord_type:  surface\n",
       "     origin_z:     0.0}"
      ]
     },
     "execution_count": 3,
     "metadata": {},
     "output_type": "execute_result"
    }
   ],
   "source": [
    "request = {\"param\":[\"TOT_PREC\"]}\n",
    "ds_in = grib_decoder.load(source,request)\n",
    "ds_in"
   ]
  }
 ],
 "metadata": {
  "kernelspec": {
   "display_name": "ogd-env-new",
   "language": "python",
   "name": "python3"
  },
  "language_info": {
   "codemirror_mode": {
    "name": "ipython",
    "version": 3
   },
   "file_extension": ".py",
   "mimetype": "text/x-python",
   "name": "python",
   "nbconvert_exporter": "python",
   "pygments_lexer": "ipython3",
   "version": "3.12.3"
  }
 },
 "nbformat": 4,
 "nbformat_minor": 2
}
