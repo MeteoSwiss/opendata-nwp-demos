{
 "cells": [
  {
   "cell_type": "markdown",
   "id": "e15fc18a",
   "metadata": {},
   "source": [
    "# Downloading ICON Forecast Data via Python API\n",
    "This notebook guides you through the download process of a forecast file from the ICON numerical weather model using the `ogd_api` module. The `ogd_api` module is part of the [meteodata-lab](https://meteoswiss.github.io/meteodata-lab/) library — an in-house developed toolkit designed to simplify working with numerical weather model data.\n",
    "\n",
    "The data you will access is provided by MeteoSwiss as part of Switzerland’s Open Government Data (OGD) initiative.\n",
    "\n",
    "---\n",
    "\n",
    "## 🔍 **What You’ll Do in This Notebook**\n",
    "\n",
    "⬇️  **Download Forecast Files**  \n",
    "    Retrieve and save the requested ICON forecast files (e.g. soil temperature) to disk for offline storage using `ogd_api.download_from_ogd`.\n",
    "\n",
    "✅  **(Optional) Verify Data Integrity**  \n",
    "    Ensure the downloaded files are complete and uncorrupted by checking their SHA-256 hashes.\n",
    "\n",
    "---"
   ]
  },
  {
   "cell_type": "markdown",
   "id": "d3618644",
   "metadata": {},
   "source": [
    "##  ⬇️ Downloading Forecast Files\n",
    "In this first part, we retrieve soil temperature forecast data from the ICON numerical weather model. To download this data, we use the `ogd_api` module from the [meteodata-lab](https://meteoswiss.github.io/meteodata-lab/) library which provides a convenient interface for accessing numerical weather forecasts via the [STAC (SpatioTemporal Asset Catalog) API](https://data.geo.admin.ch/api/stac/static/spec/v1/apitransactional.html#tag/Data/operation/getAsset)."
   ]
  },
  {
   "cell_type": "markdown",
   "id": "c72cce30",
   "metadata": {},
   "source": [
    "#### 📁  Browsing the STAC Catalog (Optional)\n",
    "\n",
    "If you'd like to explore the ICON forecast datasets interactively before downloading, you can browse them directly in the STAC catalog:\n",
    "\n",
    "&nbsp;&nbsp;&nbsp;&nbsp;🔗  [Browse the ICON-CH1-EPS collection](https://data.geo.admin.ch/browser/#/collections/ch.meteoschweiz.ogd-forecasting-icon-ch1?.language=en)\n",
    "\n",
    "&nbsp;&nbsp;&nbsp;&nbsp;🔗  [Browse the ICON-CH2-EPS collection](https://data.geo.admin.ch/browser/#/collections/ch.meteoschweiz.ogd-forecasting-icon-ch2?.language=en)\n",
    "\n",
    "\n",
    "Below is a screenshot of the ICON-CH2-EPS collection as seen in the STAC browser interface."
   ]
  },
  {
   "cell_type": "markdown",
   "id": "f37de595",
   "metadata": {},
   "source": [
    "![browser-ch2-resized.PNG](./images/browser-ch2-resized.PNG)"
   ]
  },
  {
   "cell_type": "markdown",
   "id": "fef1b98b",
   "metadata": {},
   "source": [
    "### Creating a Request\n",
    "To retrieve ICON-CH1-EPS soil temperature (`T_SO`), we first define an API request using the `ogd_api.Request` class.\n",
    "The request targets lead time zero - the forecast's initialization time.\n",
    "\n",
    ">⏰ **Forecast Availability**: Forecast data will typically be available a couple of hours after the reference time — due to the model runtime and subsequent upload time. The data remains accessible for 24 hours after upload."
   ]
  },
  {
   "cell_type": "code",
   "execution_count": 13,
   "id": "6e0c331b",
   "metadata": {},
   "outputs": [],
   "source": [
    "from datetime import datetime, timezone\n",
    "from meteodatalab import ogd_api\n",
    "\n",
    "today_midnight_utc = datetime.now(timezone.utc).replace(hour=0, minute=0, second=0, microsecond=0)\n",
    "\n",
    "req = ogd_api.Request(\n",
    "    collection=\"ogd-forecasting-icon-ch1\",\n",
    "    variable=\"T_SO\",\n",
    "    reference_datetime=today_midnight_utc,\n",
    "    perturbed=False,\n",
    "    horizon=\"P0DT0H\",\n",
    ")"
   ]
  },
  {
   "cell_type": "markdown",
   "id": "db08bf7c",
   "metadata": {},
   "source": [
    "Each argument in the request serves the following purpose:\n",
    "\n",
    "| Argument             | Description |\n",
    "|----------------------|-------------|\n",
    "| `collection`         | Forecast collection to use (e.g., `ogd-forecasting-icon-ch1`). |\n",
    "| `variable`           | Meteorological variable of interest (`T_SO` = soil temperature). |\n",
    "| `reference_datetime` | Initialization time of the forecast in **UTC**, provided as either:<br>- [datetime.datetime](https://docs.python.org/3/library/datetime.html#datetime-objects) object (e.g.,<br> &nbsp; `datetime.datetime(2025, 5, 22, 9, 0, 0, tzinfo=datetime.timezone.utc)`) <br>- [ISO 8601](https://en.wikipedia.org/wiki/ISO_8601#Combined_date_and_time_representations) date string (e.g., `\"2025-05-22T09:00:00Z\"`)|\n",
    "| `perturbed`          | If `True`, retrieves ensemble forecast members; if `False`, returns the deterministic forecast. |\n",
    "| `horizon`            | Forecast lead time, provided as either:<br>– [datetime.timedelta](https://docs.python.org/3/library/datetime.html#timedelta-objects) object (e.g., `datetime.timedelta(hours=0)`) <br>– [ISO 8601](https://en.wikipedia.org/wiki/ISO_8601#Durations) duration string (e.g., `\"P0DT0H\"`)|"
   ]
  },
  {
   "cell_type": "markdown",
   "id": "158d808d",
   "metadata": {},
   "source": [
    "### Downloading Data\n",
    "We now send our request to the API and download the resulting dataset using the `download_from_ogd()` function. The function expects a request and a path to a directory, where the data will be stored. In this example the forecast file is stored in the folder `forecast_files` within this directory.\n",
    "\n",
    "> 💡 **Hint**: If you get an error message containing \"HTTPError: 403 Client Error: Forbidden for url\", you may be trying to retrieve data older than 24h hours! Please adjust your requests."
   ]
  },
  {
   "cell_type": "code",
   "execution_count": 14,
   "id": "ac7599a2",
   "metadata": {},
   "outputs": [
    {
     "name": "stdout",
     "output_type": "stream",
     "text": [
      "\n",
      " Downloaded files:\n",
      " - horizontal_constants_icon-ch1-eps.grib2\n",
      " - horizontal_constants_icon-ch1-eps.sha256\n",
      " - icon-ch1-eps-202504290000-0-t_so-ctrl.grib2\n",
      " - icon-ch1-eps-202504290000-0-t_so-ctrl.sha256\n",
      " - vertical_constants_icon-ch1-eps.grib2\n",
      " - vertical_constants_icon-ch1-eps.sha256\n"
     ]
    }
   ],
   "source": [
    "from pathlib import Path\n",
    "\n",
    "# Define the target directory for saving the forecast files\n",
    "target_dir = Path.cwd() / \"forecast_files\"\n",
    "\n",
    "# Download the forecast files\n",
    "ogd_api.download_from_ogd(req, target_dir)\n",
    "\n",
    "# List all downloaded files in the target directory\n",
    "print(\"\\n Downloaded files:\")\n",
    "for file in sorted(target_dir.iterdir()):\n",
    "    print(f\" - {file.name}\")"
   ]
  },
  {
   "cell_type": "markdown",
   "id": "255e4276",
   "metadata": {},
   "source": [
    "After downloading, you should find the following files inside the `forecast_files/` directory:\n",
    "\n",
    "- `horizontal_constants_icon-ch1-eps.grib2`\n",
    "- `horizontal_constants_icon-ch1-eps.sha256`\n",
    "- `icon-ch1-eps-<today's-datetime>-0-t_so-ctrl.grib2`\n",
    "- `icon-ch1-eps-<today's-datetime>-0-t_so-ctrl.sha256`\n",
    "- `vertical_constants_icon-ch1-eps.grib2`\n",
    "- `vertical_constants_icon-ch1-eps.sha256`\n",
    "\n",
    "### 📦 Content of the 'forecast_files' Directory\n",
    "\n",
    "- **Main forecast file** (`icon-ch1-eps-<datetime>-0-t_so-ctrl.grib2`)  \n",
    "  Contains the forecast data, e.g., soil temperature at lead time +0h.\n",
    "\n",
    "- **Horizontal constants** (`horizontal_constants_icon-ch1-eps.grib2`)  \n",
    "  Contains the longitude and latitude for every grid point.\n",
    "\n",
    "- **Vertical constants** (`vertical_constants_icon-ch1-eps.grib2`)  \n",
    "  Contains the height of the vertical half levels.\n",
    "\n",
    "- **SHA-256 checksum files** (`*.sha256`)  \n",
    "  Used to verify the integrity of each corresponding GRIB2 file.\n",
    "\n",
    "> **Note:**  \n",
    "> Forecast GRIB files like `icon-ch1-eps-*.grib2` do **not** include geographic grid information (longitude, latitude, or height) internally.  \n",
    "> Therefore, the horizontal and vertical constants are provided as separate files to fully describe the forecast grid.  \n",
    ">  \n",
    "> Learn more about the data structure [here](https://opendatadocs.meteoswiss.ch/e-forecast-data/e2-e3-numerical-weather-forecasting-model#3d-grid-structure-and-representation)."
   ]
  },
  {
   "cell_type": "markdown",
   "id": "453611ee",
   "metadata": {},
   "source": [
    "## ✅ (Optional) Verify Data Integrity\n",
    "\n",
    "In the second part we ensure that the downloaded file is not corrupted, compute its SHA-256 hash and verify it against the checksum provided in the SHA256 file.\n",
    "\n",
    "Steps:\n",
    "\n",
    "1. Generate the SHA-256 checksum of the downloaded file:"
   ]
  },
  {
   "cell_type": "code",
   "execution_count": 15,
   "id": "c5a2d4c1",
   "metadata": {},
   "outputs": [
    {
     "name": "stdout",
     "output_type": "stream",
     "text": [
      "9a7e1243398e5d66311ee563539f1252e49ebad499f448c924b756b4ebd0aeee  forecast_files/horizontal_constants_icon-ch1-eps.grib2\n"
     ]
    }
   ],
   "source": [
    "!sha256sum forecast_files/horizontal_constants_icon-ch1-eps.grib2"
   ]
  },
  {
   "cell_type": "markdown",
   "id": "4ffbba39",
   "metadata": {},
   "source": [
    "2. Retrieve the checksum from the SHA256 file using the following command:"
   ]
  },
  {
   "cell_type": "code",
   "execution_count": 16,
   "id": "b4c7f087",
   "metadata": {},
   "outputs": [
    {
     "name": "stdout",
     "output_type": "stream",
     "text": [
      "9a7e1243398e5d66311ee563539f1252e49ebad499f448c924b756b4ebd0aeee"
     ]
    }
   ],
   "source": [
    "cat forecast_files/horizontal_constants_icon-ch1-eps.sha256"
   ]
  },
  {
   "cell_type": "markdown",
   "id": "7d4336fa",
   "metadata": {},
   "source": [
    "3. Compare the two hash values. If they match, your forecast data file is safe to use."
   ]
  }
 ],
 "metadata": {
  "kernelspec": {
   "display_name": "Python (notebooks-nwp-env)",
   "language": "python",
   "name": "notebooks-nwp-env"
  },
  "language_info": {
   "codemirror_mode": {
    "name": "ipython",
    "version": 3
   },
   "file_extension": ".py",
   "mimetype": "text/x-python",
   "name": "python",
   "nbconvert_exporter": "python",
   "pygments_lexer": "ipython3",
   "version": "3.11.8"
  }
 },
 "nbformat": 4,
 "nbformat_minor": 5
}
