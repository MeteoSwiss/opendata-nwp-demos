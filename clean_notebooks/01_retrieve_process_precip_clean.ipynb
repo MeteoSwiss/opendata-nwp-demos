{
  "cells": [
    {
      "cell_type": "markdown",
      "metadata": {},
      "source": [
        "# Retrieving, Processing, and Visualizing Deterministic Precipitation Forecasts from ICON\n",
        "\n",
        "This notebook demonstrates the full workflow for accessing, processing, and visualizing determinstic precipitation forecast data from the ICON numerical weather model. The data is provided by MeteoSwiss as part of Switzerland’s Open Government Data (OGD) initiative.\n",
        "\n",
        "The core functionality is powered by the [meteodata-lab](https://meteoswiss.github.io/meteodata-lab/) library — developed in-house to simplify working with numerical weather model data. It includes the `ogd_api` module for data access, along with utilities for applying temporal and spatial operators to model output, such as deaccumulation and regridding.\n",
        "\n",
        "For visualization, this notebook uses the [earthkit-plots](https://earthkit-plots.readthedocs.io/en/latest/examples/guide/01-introduction.html) library developed by ECMWF, which offers intuitive plotting tools for meteorological data.\n",
        "\n",
        "---\n",
        "\n",
        "## 🔍 **What You’ll Do in This Notebook**\n",
        "\n",
        "1. 🛰️  **Retrieve**  \n",
        "    Fetch deterministic forecast data (e.g., total precipitation from ICON) via the `ogd_api` module.\n",
        "\n",
        "2. 🧪  **Deaggregate**  \n",
        "    Convert cumulative precipitation into hourly step values.\n",
        "\n",
        "3. 🧭  **Regrid**  \n",
        "    Interpolate ICON data from its native grid to a regular latitude/longitude grid.\n",
        "\n",
        "4. 🌍  **Visualize**  \n",
        "    Plot the processed data with geographic context and meteorological styling using [earthkit-plots](https://earthkit-plots.readthedocs.io/en/latest/examples/guide/01-introduction.html).\n",
        "\n",
        "---"
      ]
    },
    {
      "cell_type": "markdown",
      "metadata": {},
      "source": [
        "## Retrieving Precipitation Forecast\n",
        "In this first part, we retrieve precipitation forecast data from the ICON numerical weather model. To access this data, we use the `ogd_api` module from the [meteodata-lab](https://meteoswiss.github.io/meteodata-lab/) library — a convenient interface for accessing numerical weather forecasts via the [STAC (SpatioTemporal Asset Catalog) API](https://sys-data.int.bgdi.ch/api/stac/static/spec/v1/apitransactional.html#tag/Data/operation/getAsset), which provides structured access to Switzerland’s open geospatial data."
      ]
    },
    {
      "cell_type": "markdown",
      "metadata": {},
      "source": [
        "#### 📁  Browsing the STAC Catalog (Optional)\n",
        "\n",
        "If you'd like to explore the ICON forecast datasets interactively before writing code, you can browse them directly in the STAC catalog:\n",
        "\n",
        "&nbsp;&nbsp;&nbsp;&nbsp;🔗  [Browse the ICON-CH1 collection](https://sys-data.int.bgdi.ch/browser/#/collections/ch.meteoschweiz.ogd-forecasting-icon-ch1?.language=en)\n",
        "\n",
        "&nbsp;&nbsp;&nbsp;&nbsp;🔗  [Browse the ICON-CH2 collection](https://sys-data.int.bgdi.ch/browser/#/collections/ch.meteoschweiz.ogd-forecasting-icon-ch2?.language=en)\n",
        "\n",
        "\n",
        "Below is a screenshot of the ICON-CH2 collection as seen in the STAC browser interface.\n"
      ]
    },
    {
      "cell_type": "markdown",
      "metadata": {},
      "source": [
        "![browser-ch2-resized.PNG](./images/browser-ch2-resized.PNG)"
      ]
    },
    {
      "cell_type": "markdown",
      "metadata": {},
      "source": [
        "⚠️ **Temporary Setup Notice**\n",
        "\n",
        "We currently use **ecCodes 2.36.0**, which requires manually setting the `ECCODES_DIR` environment variable to locate the binary library.\n",
        "The [install_eccodes.sh](./install_eccodes.sh) script prints the full path to the installed environment — use that path here.\n",
        "\n",
        "From **ecCodes 2.37.0** onwards, this step won't be needed as the Python wheel will include the binary automatically."
      ]
    },
    {
      "cell_type": "code",
      "execution_count": null,
      "metadata": {},
      "outputs": [],
      "source": [
        "from pathlib import Path\n",
        "import os\n",
        "\n",
        "# Replace this with the actual environment path if different\n",
        "os.environ[\"ECCODES_DIR\"] = str(Path.home()) + \"/miniconda3/envs/eccodes_env\""
      ]
    },
    {
      "cell_type": "markdown",
      "metadata": {},
      "source": [
        "### Creating Requests\n",
        "To retrieve the forecast data, we first define a set of API requests using the `ogd_api.Request` class.\n",
        "Each request targets a different **lead time**, representing the forecasted time interval after the reference datetime.\n",
        "In this example, we retrieve hourly precipitation accumulations (`TOT_PREC`) over three lead times. Each forecast value is aggregated from the reference time up to the corresponding hour.\n",
        "\n",
        ">⏰**Forecast Availability**: Forecast data will typically be available a couple of hours after the reference time — due to the model runtime and subsequent upload time. The data remains accessible for 24 hours after upload."
      ]
    },
    {
      "cell_type": "code",
      "execution_count": null,
      "metadata": {},
      "outputs": [],
      "source": [
        "from meteodatalab import ogd_api\n",
        "\n",
        "amount_of_lead_times = 3\n",
        "reqlist = []\n",
        "\n",
        "for i in range(amount_of_lead_times):\n",
        "    req = ogd_api.Request(\n",
        "        collection=\"ogd-forecasting-icon-ch2\",\n",
        "        variable=\"TOT_PREC\",\n",
        "        reference_datetime=\"2025-04-02T12:00:00Z\", # make sure to change the date\n",
        "        perturbed=False,\n",
        "        horizon=f\"P0DT{i}H\",\n",
        "    )\n",
        "    reqlist.append(req)"
      ]
    },
    {
      "cell_type": "markdown",
      "metadata": {},
      "source": [
        "Each argument in the request serves the following purpose:\n",
        "\n",
        "| Argument             | Description |\n",
        "|----------------------|-------------|\n",
        "| `collection`         | Forecast collection to use (e.g., `ogd-forecasting-icon-ch2`). |\n",
        "| `variable`           | Meteorological variable of interest (`TOT_PREC` = total precipitation). |\n",
        "| `reference_datetime` | Initialization time of the forecast in **UTC** (e.g., `2025-03-26T06:00:00Z`). |\n",
        "| `perturbed`          | If `True`, retrieves ensemble forecast members; if `False`, returns the deterministic forecast. |\n",
        "| `horizon`            | Forecast lead time, provided as either:<br>– `ISO 8601` duration string (e.g., `P0DT2H`)<br>– `datetime.timedelta` object (e.g., `datetime.timedelta(hours=2)`) |"
      ]
    },
    {
      "cell_type": "markdown",
      "metadata": {},
      "source": [
        "### Retrieving Data\n",
        "We now send our list of requests to the API and retrieve the resulting datasets using the `get_from_ogd()` function.\n",
        "Each response is returned as an **xarray.DataArray**, which is efficient for handling multi-dimensional data.\n",
        "\n",
        "> 💡 **Tip**: Use temporary caching with earthkit-data to skip repeated downloads — it's auto-cleaned after the session.\n",
        "> *For more details, see the [earthkit-data caching docs](https://earthkit-data.readthedocs.io/en/latest/examples/cache.html)*."
      ]
    },
    {
      "cell_type": "code",
      "execution_count": null,
      "metadata": {},
      "outputs": [],
      "source": [
        "from earthkit.data import config\n",
        "config.set(\"cache-policy\", \"temporary\")\n",
        "\n",
        "ds_list = []\n",
        "for req in reqlist:\n",
        "    ds = ogd_api.get_from_ogd(req)\n",
        "    ds_list.append(ds)"
      ]
    },
    {
      "cell_type": "markdown",
      "metadata": {},
      "source": [
        "## Data Preprocessing"
      ]
    },
    {
      "cell_type": "markdown",
      "metadata": {},
      "source": [
        "Once the data has been loaded, continue with the preprocessing of the data."
      ]
    },
    {
      "cell_type": "markdown",
      "metadata": {},
      "source": [
        "### Merging Lead Times\n",
        "To work with a continuous time series, we concatenate forecast data across different lead times into a single `xarray.DataArray`."
      ]
    },
    {
      "cell_type": "code",
      "execution_count": null,
      "metadata": {},
      "outputs": [],
      "source": [
        "import xarray as xr\n",
        "tot_prec_ds = xr.concat(ds_list, dim=\"lead_time\")\n",
        "tot_prec_ds"
      ]
    },
    {
      "cell_type": "markdown",
      "metadata": {},
      "source": [
        "The resulting `xarray.DataArray` has the following dimensions:\n",
        "\n",
        "- `eps` (ensemble members): 1 member (for deterministic data)\n",
        "- `ref_time`: Single reference time (e.g. 2025-04-02)\n",
        "- `lead_time`: 3 hourly intervals\n",
        "- `cell`: 283,876 spatial grid points\n",
        "\n",
        "It includes attributes such as:\n",
        "- `parameter`: Total Precipitation\n",
        "- `vcoord_type`: Surface"
      ]
    },
    {
      "cell_type": "markdown",
      "metadata": {},
      "source": [
        "### Disaggregating Precipitation\n",
        "Convert accumulated precipitation into one-hour intervals by differencing consecutive lead times. This is done using the `delta()` function from [meteodatalab](https://meteoswiss.github.io/meteodata-lab/), which simplifies the operation."
      ]
    },
    {
      "cell_type": "code",
      "execution_count": null,
      "metadata": {},
      "outputs": [],
      "source": [
        "from meteodatalab.operators import time_operators as time_ops\n",
        "import numpy as np\n",
        "\n",
        "prec_1h = time_ops.delta(tot_prec_ds, np.timedelta64(1,\"h\"))"
      ]
    },
    {
      "cell_type": "markdown",
      "metadata": {},
      "source": [
        "### Lead Time Selection\n",
        "Use xarray's `.isel()` function to select the precipitation data at a given lead time."
      ]
    },
    {
      "cell_type": "code",
      "execution_count": null,
      "metadata": {},
      "outputs": [],
      "source": [
        "prec = prec_1h.isel(lead_time=2).clip(min=0)"
      ]
    },
    {
      "cell_type": "markdown",
      "metadata": {},
      "source": [
        "### Regridding to a Regular Grid\n",
        "To enable visualization or comparison with other geospatial datasets, you may want to regrid the unstructured data onto a regular (lat/lon) grid. This can be done using the `regrid` utilities provided by [meteodata-lab](https://meteoswiss.github.io/meteodata-lab/).\n",
        "\n",
        "Below, we define the target grid using a bounding box over the area of interest, specify the output resolution, and apply the remapping:\n"
      ]
    },
    {
      "cell_type": "code",
      "execution_count": null,
      "metadata": {},
      "outputs": [],
      "source": [
        "from rasterio.crs import CRS\n",
        "from meteodatalab.operators import regrid\n",
        "\n",
        "# Define the target grid extent and resolution\n",
        "xmin, xmax = -0.817, 18.183   # Longitude bounds\n",
        "ymin, ymax = 41.183, 51.183   # Latitude bounds\n",
        "nx, ny = 950, 500             # Number of grid points in x and y\n",
        "\n",
        "# Create a regular lat/lon grid using EPSG:4326\n",
        "destination = regrid.RegularGrid(\n",
        "    CRS.from_string(\"epsg:4326\"), nx, ny, xmin, xmax, ymin, ymax\n",
        ")\n",
        "\n",
        "# Remap ICON native grid data to the regular grid\n",
        "prec_geo = regrid.iconremap(prec, destination)"
      ]
    },
    {
      "cell_type": "markdown",
      "metadata": {},
      "source": [
        "## Visualizing Precipitation on a Map\n",
        "We now visualize the 1-hour precipitation on a map. This uses [earthkit-plots](https://earthkit-plots.readthedocs.io/en/latest/examples/guide/01-introduction.html), the visualization component of [Earthkit](https://earthkit.readthedocs.io/en/latest/) — a suite of tools designed to simplify access, processing, and visualization of weather and climate data in Python."
      ]
    },
    {
      "cell_type": "code",
      "execution_count": null,
      "metadata": {},
      "outputs": [],
      "source": [
        "from earthkit.plots.geo import domains\n",
        "import earthkit\n",
        "import numpy as np\n",
        "import pandas as pd\n",
        "\n",
        "# Define the map domain using the regridded data's bounding box\n",
        "domain = domains.Domain.from_bbox(\n",
        "    bbox=[xmin, xmax, ymin, ymax],\n",
        "    name=\"CH2\"\n",
        ")\n",
        "\n",
        "# Create the map instance\n",
        "chart = earthkit.plots.Map(domain=domain)\n",
        "\n",
        "# Plot the regridded precipitation field\n",
        "chart.block(prec_geo, x=\"lon\", y=\"lat\")\n",
        "\n",
        "# Add standard map features\n",
        "chart.land()\n",
        "chart.coastlines()\n",
        "chart.borders()\n",
        "chart.gridlines()\n",
        "\n",
        "# Extract forecast metadata\n",
        "ref_time = pd.to_datetime(prec_geo.coords[\"ref_time\"].values[0]).strftime(\"%Y-%m-%d %H:%M UTC\")\n",
        "lead_ns = prec_geo.coords[\"lead_time\"].values\n",
        "lead_hours = pd.to_timedelta(lead_ns).total_seconds() / 3600\n",
        "lead_time = f\"{lead_hours:.0f}h\"\n",
        "\n",
        "# Prepare title and legend labels\n",
        "parameter = prec_geo.attrs[\"parameter\"]\n",
        "title = f\"{parameter['name']} | Ref: {ref_time} | Lead Time: {lead_time}\"\n",
        "legend_label = f\"{parameter['name']} ({parameter['units']})\"\n",
        "\n",
        "# Add title and legend to the map\n",
        "chart.title(title)\n",
        "chart.legend(label=legend_label)\n",
        "\n",
        "# Display the map\n",
        "chart.show()"
      ]
    }
  ],
  "metadata": {
    "kernelspec": {
      "display_name": "Python (notebooks-nwp-env)",
      "language": "python",
      "name": "notebooks-nwp-env"
    },
    "language_info": {
      "codemirror_mode": {
        "name": "ipython",
        "version": 3
      },
      "file_extension": ".py",
      "mimetype": "text/x-python",
      "name": "python",
      "nbconvert_exporter": "python",
      "pygments_lexer": "ipython3",
      "version": "3.11.8"
    }
  },
  "nbformat": 4,
  "nbformat_minor": 2
}
