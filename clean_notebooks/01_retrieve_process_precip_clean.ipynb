{
  "cells": [
    {
      "cell_type": "markdown",
      "metadata": {},
      "source": [
        "# Retrieving, Processing, and Visualizing Deterministic Precipitation Forecasts from ICON\n",
        "\n",
        "This notebook demonstrates the full workflow for accessing, processing, and visualizing determinstic precipitation forecast data from the ICON numerical weather model. The data is provided by MeteoSwiss as part of Switzerland’s Open Government Data (OGD) initiative.\n",
        "\n",
        "The core functionality is powered by the [meteodata-lab](https://meteoswiss.github.io/meteodata-lab/) library — developed in-house to simplify working with numerical weather model data. It includes the `ogd_api` module for data access, along with utilities for applying temporal and spatial operators to model output, such as deaccumulation and regridding.\n",
        "\n",
        "For visualization, this notebook uses the [earthkit-plots](https://earthkit-plots.readthedocs.io/en/latest/examples/guide/01-introduction.html) library developed by ECMWF, which offers intuitive plotting tools for meteorological data.\n",
        "\n",
        "---\n",
        "\n",
        "## 🔍 **What You’ll Do in This Notebook**\n",
        "\n",
        " 🛰️  **Retrieve**  \n",
        "    Fetch deterministic forecast data (e.g., total precipitation from ICON) via the `ogd_api` module.\n",
        "\n",
        " 🧪  **Deaggregate**  \n",
        "    Convert precipitation accumulated over the total forecast duration into hourly values.\n",
        "\n",
        " 🧭  **Regrid**  \n",
        "    Interpolate ICON data from its native, icosahedral grid to a regular latitude/longitude grid.\n",
        "\n",
        " 🌍  **Visualize**  \n",
        "    Plot the processed data on a map with meteorological styling using [earthkit-plots](https://earthkit-plots.readthedocs.io/en/latest/examples/guide/01-introduction.html).\n",
        "\n",
        "---"
      ]
    },
    {
      "cell_type": "markdown",
      "metadata": {},
      "source": [
        "## Retrieving Precipitation Forecast\n",
        "In this first part, we retrieve precipitation forecast data from the ICON numerical weather model. To access this data, we use the `ogd_api` module from the [meteodata-lab](https://meteoswiss.github.io/meteodata-lab/) library — a convenient interface for accessing numerical weather forecasts via the [STAC (SpatioTemporal Asset Catalog) API](https://data.geo.admin.ch/api/stac/static/spec/v1/apitransactional.html#tag/Data/operation/getAsset), which provides structured access to Switzerland’s open geospatial data."
      ]
    },
    {
      "cell_type": "markdown",
      "metadata": {},
      "source": [
        "#### 📁  Browsing the STAC Catalog (Optional)\n",
        "\n",
        "If you'd like to explore the ICON forecast datasets interactively before writing code, you can browse them directly in the STAC catalog:\n",
        "\n",
        "&nbsp;&nbsp;&nbsp;&nbsp;🔗  [Browse the ICON-CH1-EPS collection](https://data.geo.admin.ch/browser/#/collections/ch.meteoschweiz.ogd-forecasting-icon-ch1?.language=en)\n",
        "\n",
        "&nbsp;&nbsp;&nbsp;&nbsp;🔗  [Browse the ICON-CH2-EPS collection](https://data.geo.admin.ch/browser/#/collections/ch.meteoschweiz.ogd-forecasting-icon-ch2?.language=en)\n",
        "\n",
        "\n",
        "Below is a screenshot of the ICON-CH2-EPS collection as seen in the STAC browser interface.\n"
      ]
    },
    {
      "cell_type": "markdown",
      "metadata": {},
      "source": [
        "![browser-ch2-resized.PNG](./images/browser-ch2-resized.PNG)"
      ]
    },
    {
      "cell_type": "markdown",
      "metadata": {},
      "source": [
        "### Creating Requests\n",
        "To retrieve the forecast data, we first define a set of API requests using the `ogd_api.Request` class.\n",
        "Each request targets a different lead time, which is the elapsed time since the forecast's start time (reference or initialization datetime).\n",
        "In this example, we retrieve hourly precipitation accumulations (`TOT_PREC`) for three consecutive lead times: +0h, +1h and +2h. Each hourly forecast value includes all precipitation from the reference time up to the corresponding lead time.\n",
        "\n",
        ">⏰ **Forecast Availability**: Forecast data will typically be available a couple of hours after the reference time — due to the model runtime and subsequent upload time. The data remains accessible for 24 hours after upload."
      ]
    },
    {
      "cell_type": "code",
      "execution_count": null,
      "metadata": {},
      "outputs": [],
      "source": [
        "from datetime import datetime, timezone\n",
        "from meteodatalab import ogd_api\n",
        "\n",
        "amount_of_lead_times = 3\n",
        "reqlist = []\n",
        "\n",
        "# Set default date of today midnight in UTC\n",
        "today_midnight_utc = datetime.now(timezone.utc).replace(hour=0, minute=0, second=0, microsecond=0)\n",
        "\n",
        "for i in range(amount_of_lead_times):\n",
        "    req = ogd_api.Request(\n",
        "        collection=\"ogd-forecasting-icon-ch2\",\n",
        "        variable=\"TOT_PREC\",\n",
        "        reference_datetime=today_midnight_utc,\n",
        "        perturbed=False,\n",
        "        horizon=f\"P0DT{i}H\",\n",
        "    )\n",
        "    reqlist.append(req)"
      ]
    },
    {
      "cell_type": "markdown",
      "metadata": {},
      "source": [
        "Each argument in the request serves the following purpose:\n",
        "\n",
        "| Argument             | Description |\n",
        "|----------------------|-------------|\n",
        "| `collection`         | Forecast collection to use (e.g., `ogd-forecasting-icon-ch2`). |\n",
        "| `variable`           | Meteorological variable of interest (`TOT_PREC` = total precipitation). |\n",
        "| `reference_datetime` | Initialization time of the forecast in **UTC** (e.g., default date of today midnight). |\n",
        "| `perturbed`          | If `True`, retrieves ensemble forecast members; if `False`, returns the deterministic forecast. |\n",
        "| `horizon`            | Forecast lead time, provided as either:<br>– `ISO 8601` duration string (e.g., `P0DT2H`)<br>– `datetime.timedelta` object (e.g., `datetime.timedelta(hours=2)`) |"
      ]
    },
    {
      "cell_type": "markdown",
      "metadata": {},
      "source": [
        "### Retrieving Data\n",
        "We now send our list of requests to the API and retrieve the resulting datasets using the `get_from_ogd()` function.\n",
        "Each response is returned as an **[xarray.DataArray](https://docs.xarray.dev/en/stable/generated/xarray.DataArray.html)**, which is efficient for handling multi-dimensional data.\n",
        "\n",
        "> 💡 **Tip**: Use temporary caching with earthkit-data to skip repeated downloads — it's auto-cleaned after the session.\n",
        "> *For more details, see the [earthkit-data caching docs](https://earthkit-data.readthedocs.io/en/latest/examples/cache.html)*.\n",
        "\n",
        "> 💡 **Hint**: If you get an error message containing \"HTTPError: 403 Client Error: Forbidden for url\", you may be trying to retrieve data older than 24h hours! Please adjust your requests."
      ]
    },
    {
      "cell_type": "code",
      "execution_count": null,
      "metadata": {},
      "outputs": [],
      "source": [
        "from earthkit.data import config\n",
        "config.set(\"cache-policy\", \"temporary\")\n",
        "\n",
        "da_list = []\n",
        "for req in reqlist:\n",
        "    da = ogd_api.get_from_ogd(req)\n",
        "    da_list.append(da)"
      ]
    },
    {
      "cell_type": "markdown",
      "metadata": {},
      "source": [
        "## Data Preprocessing"
      ]
    },
    {
      "cell_type": "markdown",
      "metadata": {},
      "source": [
        "Once the data has been loaded, continue with the preprocessing of the data if needed. The following preprocessing steps\n",
        "are described here:\n",
        "- Merging the data array containing the different lead times into one array\n",
        "- Disaggregating the accumulated precipitation data\n",
        "- Regridding the data to a regular latitude/longitude grid"
      ]
    },
    {
      "cell_type": "markdown",
      "metadata": {},
      "source": [
        "### Merging Lead Times\n",
        "To work with a continuous time series, we concatenate forecast data for different lead times into a single `xarray.DataArray`."
      ]
    },
    {
      "cell_type": "code",
      "execution_count": null,
      "metadata": {},
      "outputs": [],
      "source": [
        "import xarray as xr\n",
        "tot_prec = xr.concat(da_list, dim=\"lead_time\")\n",
        "tot_prec"
      ]
    },
    {
      "cell_type": "markdown",
      "metadata": {},
      "source": [
        "The resulting `xarray.DataArray` has the following dimensions:\n",
        "\n",
        "- `eps` (ensemble members): 1 member (for deterministic data)\n",
        "- `ref_time`: Single reference time (e.g. default date of today midnight)\n",
        "- `lead_time`: 3 hourly intervals\n",
        "- `cell`: 283,876 spatial grid points\n",
        "\n",
        "It includes attributes specifying some meta data such as:\n",
        "\n",
        "- `parameter`: information on the meteorogical parameter, here total precipitation\n",
        "- `vcoord_type`: information of the vertical coordinate type, here surface field\n",
        "\n",
        "> &#x1F525; **Expert users:** If you are interested in detailed meta data information, i.e. the GRIB encodings, you can retrieve it from the `metadata` attribute.\n",
        "Please refer to the [earthkit-data metadata documentation](https://earthkit-data.readthedocs.io/en/latest/examples/metadata.html)."
      ]
    },
    {
      "cell_type": "markdown",
      "metadata": {},
      "source": [
        "### Disaggregating Precipitation\n",
        "Convert precipitation accumulated over the whole forecast time into one-hour precipitation by differencing consecutive lead times. This is done using the `delta()` function from [meteodatalab](https://meteoswiss.github.io/meteodata-lab/), which simplifies the operation."
      ]
    },
    {
      "cell_type": "code",
      "execution_count": null,
      "metadata": {},
      "outputs": [],
      "source": [
        "from meteodatalab.operators import time_operators as time_ops\n",
        "import numpy as np\n",
        "\n",
        "prec_1h = time_ops.delta(tot_prec, np.timedelta64(1,\"h\"))"
      ]
    },
    {
      "cell_type": "markdown",
      "metadata": {},
      "source": [
        "For the next steps, we'll work with a **single lead time** from the forecast.\n",
        "Xarray's `.isel()` method lets us easily select along a specific dimension — here, we use it to pick one lead time.\n"
      ]
    },
    {
      "cell_type": "code",
      "execution_count": null,
      "metadata": {},
      "outputs": [],
      "source": [
        "prec = prec_1h.isel(lead_time=2)"
      ]
    },
    {
      "cell_type": "markdown",
      "metadata": {},
      "source": [
        "### Regridding to a Regular Grid\n",
        "To enable visualization or comparison with other geospatial datasets, you may want to regrid the ICON data from its native, unstructured grid onto a regular latitude/longitude grid. This can be done using the `regrid` utilities provided by [meteodata-lab](https://meteoswiss.github.io/meteodata-lab/).\n",
        "\n",
        "Below, we define the target grid using a bounding box over the area of interest, specify the output resolution, and apply the remapping.\n"
      ]
    },
    {
      "cell_type": "code",
      "execution_count": null,
      "metadata": {},
      "outputs": [],
      "source": [
        "from rasterio.crs import CRS\n",
        "from meteodatalab.operators import regrid\n",
        "\n",
        "# Define the target grid extent and resolution\n",
        "xmin, xmax = -0.817, 18.183   # Longitude bounds\n",
        "ymin, ymax = 41.183, 51.183   # Latitude bounds\n",
        "nx, ny = 950, 500             # Number of grid points in x and y\n",
        "\n",
        "# Create a regular lat/lon grid using EPSG:4326\n",
        "destination = regrid.RegularGrid(\n",
        "    CRS.from_string(\"epsg:4326\"), nx, ny, xmin, xmax, ymin, ymax\n",
        ")\n",
        "\n",
        "# Remap ICON native grid data to the regular grid\n",
        "prec_geo = regrid.iconremap(prec, destination)"
      ]
    },
    {
      "cell_type": "markdown",
      "metadata": {},
      "source": [
        "## Visualizing Precipitation on a Map\n",
        "We now visualize the 1-hour precipitation on a map. This uses [earthkit-plots](https://earthkit-plots.readthedocs.io/en/latest/examples/guide/01-introduction.html), the visualization component of [Earthkit](https://earthkit.readthedocs.io/en/latest/) — a suite of tools designed to simplify access, processing, and visualization of weather and climate data in Python."
      ]
    },
    {
      "cell_type": "code",
      "execution_count": null,
      "metadata": {},
      "outputs": [],
      "source": [
        "from earthkit.plots.geo import domains\n",
        "import earthkit\n",
        "import pandas as pd\n",
        "\n",
        "# Define the map domain using the regridded data's bounding box\n",
        "domain = domains.Domain.from_bbox(\n",
        "    bbox=[xmin, xmax, ymin, ymax],\n",
        "    name=\"CH2\"\n",
        ")\n",
        "\n",
        "# Create the map instance\n",
        "chart = earthkit.plots.Map(domain=domain)\n",
        "\n",
        "# Plot the regridded precipitation field\n",
        "chart.grid_cells(prec_geo, x=\"lon\", y=\"lat\")\n",
        "\n",
        "# Add standard map features\n",
        "chart.land()\n",
        "chart.coastlines()\n",
        "chart.borders()\n",
        "chart.gridlines()\n",
        "\n",
        "# Extract forecast metadata\n",
        "ref_time = pd.to_datetime(prec_geo.coords[\"ref_time\"].values[0]).strftime(\"%Y-%m-%d %H:%M UTC\")\n",
        "lead_ns = prec_geo.coords[\"lead_time\"].values\n",
        "lead_hours = pd.to_timedelta(lead_ns).total_seconds() / 3600\n",
        "lead_time = f\"{lead_hours:.0f}h\"\n",
        "\n",
        "# Prepare title and legend labels\n",
        "parameter = prec_geo.attrs[\"parameter\"]\n",
        "title = f\"Hourly Precipitation | Ref: {ref_time} | Lead Time: {lead_time}\"\n",
        "legend_label = f\"{parameter['name']} ({parameter['units']})\"\n",
        "\n",
        "# Add title and legend to the map\n",
        "chart.title(title)\n",
        "chart.legend(label=legend_label)\n",
        "\n",
        "# Display the map\n",
        "chart.show()"
      ]
    }
  ],
  "metadata": {
    "kernelspec": {
      "display_name": "Python (notebooks-nwp-env)",
      "language": "python",
      "name": "notebooks-nwp-env"
    },
    "language_info": {
      "codemirror_mode": {
        "name": "ipython",
        "version": 3
      },
      "file_extension": ".py",
      "mimetype": "text/x-python",
      "name": "python",
      "nbconvert_exporter": "python",
      "pygments_lexer": "ipython3",
      "version": "3.11.7"
    }
  },
  "nbformat": 4,
  "nbformat_minor": 2
}
