{
    "cells": [
        {
            "cell_type": "markdown",
            "metadata": {},
            "source": [
                "# Retrieving, Processing, and Visualizing Ensemble Precipitation Forecasts from ICON\n",
                "\n",
                "This notebook walks through the full process of accessing, processing, and visualizing raw forecast data from the ICON numerical weather model, published by MeteoSwiss as part of Switzerland’s Open Government Data (OGD) initiative.\n",
                "\n",
                "---\n",
                "\n",
                "##  **What You’ll Do in This Notebook**\n",
                "\n",
                "1. ️  **Retrieve**  \n",
                "\n",
                "    Use the OGD API to fetch ensemble forecast data (e.g., total precipitation from the ICON model).\n",
                "\n",
                "2. 離  **Deaggregate**  \n",
                "\n",
                "    Convert accumulated precipitation into stepwise values — for example, calculate 1-hour totals from cumulative forecasts.\n",
                "\n",
                "3. 吝  **Regrid**  \n",
                "\n",
                "    Transform the data from ICON’s native grid to a regular latitude/longitude grid.\n",
                "\n",
                "4.   **Visualize**  \n",
                "\n",
                "    Use Earthkit-Plot to display the processed data on a map, with intuitive color scales and geographic context.\n",
                "\n",
                "---"
            ]
        },
        {
            "cell_type": "markdown",
            "metadata": {},
            "source": [
                "## Retrieving Precipitation Forecast\n",
                "In this first part, we retrieve precipitation forecast data from the ICON numerical weather model. To access this data, we use the `ogd_api` module from the [meteodata-lab](https://meteoswiss.github.io/meteodata-lab/) library — a convenient interface for accessing numerical weather forecasts via the [STAC (SpatioTemporal Asset Catalog) API](https://sys-data.int.bgdi.ch/api/stac/static/spec/v1/apitransactional.html#tag/Data/operation/getAsset), which provides structured access to Switzerland’s open geospatial data."
            ]
        },
        {
            "cell_type": "markdown",
            "metadata": {},
            "source": [
                "#### :folder emoticone: Browsing the STAC Catalog (Optional)\n",
                "\n",
                "If you'd like to explore the ICON forecast datasets interactively before writing code, you can browse them directly in the STAC catalog:\n",
                "\n",
                "&nbsp;&nbsp;&nbsp;&nbsp;:clip-emoticon: [ICON-CH1 collection](https://sys-data.int.bgdi.ch/browser/#/collections/ch.meteoschweiz.ogd-forecasting-icon-ch1?.language=en)  \n",
                "\n",
                "&nbsp;&nbsp;&nbsp;&nbsp;:clip-emoticon: [ICON-CH2 collection](https://sys-data.int.bgdi.ch/browser/#/collections/ch.meteoschweiz.ogd-forecasting-icon-ch2?.language=en)\n",
                "\n",
                "\n",
                "Below is a screenshot of the ICON-CH2 collection as seen in the STAC browser interface.\n"
            ]
        },
        {
            "cell_type": "code",
            "execution_count": null,
            "metadata": {},
            "outputs": [],
            "source": [
                "from pathlib import Path\n",
                "import os\n",
                "\n",
                "os.environ[\"ECCODES_DIR\"] = str(Path.home()) + \"/micromamba/envs/eccodes_env\""
            ]
        },
        {
            "cell_type": "markdown",
            "metadata": {},
            "source": [
                "### Creating Requests\n",
                "To retrieve the forecast data, we first define a set of API requests using the `ogd_api.Request` class.\n",
                "Each request targets a different **lead time**, representing the forecasted time interval after the reference datetime.\n",
                "In this example, we retrieve hourly precipitation accumulations (`TOT_PREC`) over three lead times. Each forecast value is aggregated from the reference time up to the corresponding hour.\n",
                "\n",
                ">❗**Forecast Availability**: Forecast data will typically be available a couple of hours after the reference time — due to the model runtime and subsequent upload time. The data remains accessible for 24 hours after upload."
            ]
        },
        {
            "cell_type": "code",
            "execution_count": null,
            "metadata": {},
            "outputs": [],
            "source": [
                "from meteodatalab import ogd_api\n",
                "\n",
                "amount_of_lead_times = 3\n",
                "reqlist = []\n",
                "\n",
                "for i in range(amount_of_lead_times):\n",
                "    req = ogd_api.Request(\n",
                "        collection=\"ogd-forecasting-icon-ch2\",\n",
                "        variable=\"TOT_PREC\",\n",
                "        reference_datetime=\"2025-03-24T00:00:00Z\",\n",
                "        perturbed=True,\n",
                "        horizon=f\"P0DT{i}H\", # ISO 8601 duration (e.g., P0DT1H = +1 hour)\n",
                "    )\n",
                "    reqlist.append(req)"
            ]
        },
        {
            "cell_type": "markdown",
            "metadata": {},
            "source": [
                "Each parameter in the request serves the following purpose:\n",
                "\n",
                "- `collection`: The forecast collection to use (e.g., `ogd-forecasting-icon-ch2`).\n",
                "- `variable`: Meteorological variable of interest (`TOT_PREC` = total precipitation).\n",
                "- `reference_datetime`: The initialization time of the forecast **in UTC** (e.g., `2025-03-20T00:00Z`).\n",
                "- `perturbed`: If `True`, retrieves ensemble forecast members; if `False`, returns deterministic forecast.\n",
                "- `horizon`: Forecast lead time in ISO 8601 format (e.g., `P0DT1H` = 1 hour after reference time)."
            ]
        },
        {
            "cell_type": "markdown",
            "metadata": {},
            "source": [
                "### Retrieving Data\n",
                "We now send our list of requests to the API and retrieve the resulting datasets using the `get_from_ogd()` function.\n",
                "Each response is returned as an **xarray.DataArray**, which is efficient for handling multi-dimensional data.\n",
                "> ℹ️ *Note: Earthkit recommends enabling caching to improve performance.*\n",
                "> *When the cache policy is set to `\"temporary\"`, files are stored in a session-specific temporary directory managed by `tempfile.TemporaryDirectory`, which is automatically cleaned up at the end of the session.*\n",
                ">\n",
                "> *You can enable it with:*\n",
                ">\n",
                "> `config.set(\"cache-policy\", \"temporary\")`  \n",
                "> `print(config.get(\"cache-policy\"))`\n",
                ">\n",
                "> *For more details, see the [Earthkit caching docs](https://earthkit-data.readthedocs.io/en/latest/examples/cache.html).*"
            ]
        },
        {
            "cell_type": "code",
            "execution_count": null,
            "metadata": {},
            "outputs": [],
            "source": [
                "ds_list = []\n",
                "\n",
                "for req in reqlist:\n",
                "    ds = ogd_api.get_from_ogd(req)\n",
                "    ds_list.append(ds)"
            ]
        },
        {
            "cell_type": "markdown",
            "metadata": {},
            "source": [
                "## Data Preprocessing"
            ]
        },
        {
            "cell_type": "markdown",
            "metadata": {},
            "source": [
                "Once the data has been loaded, continue with the preprocessing of the data."
            ]
        },
        {
            "cell_type": "markdown",
            "metadata": {},
            "source": [
                "### Merging Lead Times\n",
                "To work with a continuous time series, we concatenate forecast data across different lead times into a single `xarray.DataArray`."
            ]
        },
        {
            "cell_type": "code",
            "execution_count": null,
            "metadata": {},
            "outputs": [],
            "source": [
                "import xarray as xr\n",
                "tot_prec_ds = xr.concat(ds_list, dim=\"lead_time\")\n",
                "tot_prec_ds"
            ]
        },
        {
            "cell_type": "markdown",
            "metadata": {},
            "source": [
                "The resulting `xarray.DataArray` has the following dimensions:\n",
                "\n",
                "- `eps` (ensemble members): 20 members\n",
                "- `ref_time`: Single reference time (e.g. 2025-03-21)\n",
                "- `lead_time`: 3 hourly intervals\n",
                "- `cell`: 283,876 spatial grid points\n",
                "\n",
                "It includes attributes such as:\n",
                "- `parameter`: Total Precipitation\n",
                "- `vcoord_type`: Surface"
            ]
        },
        {
            "cell_type": "markdown",
            "metadata": {},
            "source": [
                "### Disaggregating Precipitation\n",
                "Convert accumulated precipitation into one-hour intervals by differencing consecutive lead times. This is done using the `delta()` function from [meteodatalab](https://meteoswiss.github.io/meteodata-lab/), which simplifies the operation."
            ]
        },
        {
            "cell_type": "code",
            "execution_count": null,
            "metadata": {},
            "outputs": [],
            "source": [
                "from meteodatalab.operators import time_operators as time_ops\n",
                "import numpy as np\n",
                "\n",
                "prec_eps_1h = time_ops.delta(tot_prec_ds, np.timedelta64(1,\"h\"))\n"
            ]
        },
        {
            "cell_type": "markdown",
            "metadata": {},
            "source": [
                "### Ensemble Aggregation\n",
                "To reduce noise and highlight the central tendency of the forecast, one common approach is to compute the median across ensemble members. This can be done in a single line using xarray’s `.median()` operator. Below, we demonstrate this applied to the 1-hour precipitation differences at a selected lead time."
            ]
        },
        {
            "cell_type": "code",
            "execution_count": null,
            "metadata": {},
            "outputs": [],
            "source": [
                "prec_avg = prec_eps_1h.isel(lead_time=2).median(dim=\"eps\").clip(min=0)\n",
                "prec_avg.attrs = prec_eps_1h.attrs\n"
            ]
        },
        {
            "cell_type": "markdown",
            "metadata": {},
            "source": [
                "### Regridding to a Regular Grid\n",
                "To enable visualization or comparison with other geospatial datasets, you may want to regrid the unstructured data onto a regular (lat/lon) grid. This can be done using the `regrid` utilities provided by [meteodata-lab](https://meteoswiss.github.io/meteodata-lab/).\n",
                "\n",
                "Below, we define the target grid using a bounding box over the area of interest, specify the output resolution, and apply the remapping:\n"
            ]
        },
        {
            "cell_type": "code",
            "execution_count": null,
            "metadata": {},
            "outputs": [],
            "source": [
                "from rasterio.crs import CRS\n",
                "from meteodatalab.operators import regrid\n",
                "\n",
                "# Define the target grid extent and resolution\n",
                "xmin, xmax = -0.817, 18.183   # Longitude bounds\n",
                "ymin, ymax = 41.183, 51.183   # Latitude bounds\n",
                "nx, ny = 950, 500             # Number of grid points in x and y\n",
                "\n",
                "# Create a regular lat/lon grid using EPSG:4326\n",
                "destination = regrid.RegularGrid(\n",
                "    CRS.from_string(\"epsg:4326\"), nx, ny, xmin, xmax, ymin, ymax\n",
                ")\n",
                "\n",
                "# Remap ICON native grid data to the regular grid\n",
                "prec_avg_geo = regrid.iconremap(prec_avg, destination)"
            ]
        },
        {
            "cell_type": "markdown",
            "metadata": {},
            "source": [
                "## Visualizing Precipitation on a Map\n",
                "We now visualize the 1-hour ensemble median precipitation on a map. This uses [earthkit-plots](https://earthkit-plots.readthedocs.io/en/latest/examples/guide/01-introduction.html), the visualization component of [Earthkit](https://earthkit.readthedocs.io/en/latest/)—a suite of tools designed to simplify access, processing, and visualization of weather and climate data in Python."
            ]
        },
        {
            "cell_type": "code",
            "execution_count": null,
            "metadata": {},
            "outputs": [],
            "source": [
                "from earthkit.plots.geo import domains\n",
                "import earthkit\n",
                "\n",
                "# Define map domain from the bounding box used in regridding\n",
                "icon_ch2_domain = domains.Domain.from_bbox(\n",
                "    bbox=[xmin, xmax, ymin, ymax],\n",
                "    name=\"CH2\"\n",
                ")\n",
                "\n",
                "# Create a map instance for the defined domain\n",
                "chart = earthkit.plots.Map(domain=icon_ch2_domain)\n",
                "\n",
                "# Plot the regridded precipitation data\n",
                "chart.block(prec_avg_geo, x=\"lon\", y=\"lat\")\n",
                "\n",
                "# Add helpful map features\n",
                "chart.land()\n",
                "chart.coastlines()\n",
                "chart.borders()\n",
                "chart.gridlines()\n",
                "\n",
                "# Display the map\n",
                "chart.show()\n"
            ]
        }
    ],
    "metadata": {
        "kernelspec": {
            "display_name": "ogd-env-new",
            "language": "python",
            "name": "python3"
        },
        "language_info": {
            "codemirror_mode": {
                "name": "ipython",
                "version": 3
            },
            "file_extension": ".py",
            "mimetype": "text/x-python",
            "name": "python",
            "nbconvert_exporter": "python",
            "pygments_lexer": "ipython3",
            "version": "3.12.3"
        }
    },
    "nbformat": 4,
    "nbformat_minor": 2
}
