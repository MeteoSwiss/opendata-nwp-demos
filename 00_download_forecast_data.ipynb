{
 "cells": [
  {
   "cell_type": "markdown",
   "id": "e15fc18a",
   "metadata": {},
   "source": [
    "# Downloading Forecast Data from ICON via Python API\n",
    "This notebook guides you through the download process of a forecast file from the ICON numerical weather model using the `ogd_api` module. The `ogd_api` module is part of the [meteodata-lab](https://meteoswiss.github.io/meteodata-lab/) library — an in-house developed toolkit designed to simplify working with numerical weather model data.\n",
    "\n",   
    "The data you will access is provided by MeteoSwiss as part of Switzerland’s Open Government Data (OGD) initiative.\n",
    "\n",
    "---\n",
    "\n",
    "## 🔍 **What You’ll Do in This Notebook**\n",
    "\n",
    "🛰️  **Download Forecast Files**  \n",
    "    Retrieve and save the requested ICON forecast files (e.g. soil temperature) to disk for offline storage using `ogd_api.download_from_ogd`.\n",
    "\n",
    "2. 🧭  **Explore**  \n",
    "    Use ecCodes to explore the forcast data file.\n",
    "---"
   ]
  },
  {
   "cell_type": "markdown",
   "id": "d3618644",
   "metadata": {},
   "source": [
    "## 1. Retrieving Forecast Data\n",
    "In this first part, we retrieve soil temperature forecast data from the ICON numerical weather model. To download this data, we use the `ogd_api` module from the [meteodata-lab](https://meteoswiss.github.io/meteodata-lab/) library — a convenient interface for accessing numerical weather forecasts via the [STAC (SpatioTemporal Asset Catalog) API](https://data.geo.admin.ch/api/stac/static/spec/v1/apitransactional.html#tag/Data/operation/getAsset), which provides structured access to Switzerland’s open geospatial data."
   ]
  },
  {
   "cell_type": "markdown",
   "id": "c72cce30",
   "metadata": {},
   "source": [
    "#### 📁  Browsing the STAC Catalog (Optional)\n",
    "\n",
    "If you'd like to explore the ICON forecast datasets interactively before downloading, you can browse them directly in the STAC catalog:\n",
    "\n",
    "&nbsp;&nbsp;&nbsp;&nbsp;🔗  [Browse the ICON-CH1-EPS collection](https://data.geo.admin.ch/browser/#/collections/ch.meteoschweiz.ogd-forecasting-icon-ch1?.language=en)\n",
    "\n",
    "&nbsp;&nbsp;&nbsp;&nbsp;🔗  [Browse the ICON-CH2-EPS collection](https://data.geo.admin.ch/browser/#/collections/ch.meteoschweiz.ogd-forecasting-icon-ch2?.language=en)\n",
    "\n",
    "\n",
    "Below is a screenshot of the ICON-CH2-EPS collection as seen in the STAC browser interface."
   ]
  },
  {
   "cell_type": "markdown",
   "id": "f37de595",
   "metadata": {},
   "source": [
    "![browser-ch2-resized.PNG](./images/browser-ch2-resized.PNG)"
   ]
  },
  {
   "cell_type": "markdown",
   "id": "fef1b98b",
   "metadata": {},
   "source": [
    "### Creating a Request\n",
    "To retrieve the forecast data, we first define an API request using the `ogd_api.Request` class.\n",
    "In this example the request targets lead time zero, which is the forecast's start time also called reference or initialization datetime.\n",
    "\n",
    ">⏰ **Forecast Availability**: Forecast data will typically be available a couple of hours after the reference time — due to the model runtime and subsequent upload time. The data remains accessible for 24 hours after upload."
   ]
  },
  {
   "cell_type": "code",
   "execution_count": 3,
   "id": "6e0c331b",
   "metadata": {},
   "outputs": [],
   "source": [
    "from datetime import datetime, timezone\n",
    "from meteodatalab import ogd_api\n",
    "\n",
    "today_midnight_utc = datetime.now(timezone.utc).replace(hour=0, minute=0, second=0, microsecond=0)\n",
    "\n",
    "req = ogd_api.Request(\n",
    "    collection=\"ogd-forecasting-icon-ch1\",\n",
    "    variable=\"T_SO\",\n",
    "    reference_datetime=today_midnight_utc,\n",
    "    perturbed=False,\n",
    "    horizon=\"P0DT0H\",\n",
    ")"
   ]
  },
  {
   "cell_type": "markdown",
   "id": "db08bf7c",
   "metadata": {},
   "source": [
    "Each argument in the request serves the following purpose:\n",
    "\n",
    "| Argument             | Description |\n",
    "|----------------------|-------------|\n",
    "| `collection`         | Forecast collection to use (e.g., `ogd-forecasting-icon-ch1`). |\n",
    "| `variable`           | Meteorological variable of interest (`T_SO` = soil temperature). |\n",
    "| `reference_datetime` | Initialization time of the forecast in **UTC** (e.g., default date of today midnight). |\n",
    "| `perturbed`          | If `True`, retrieves ensemble forecast members; if `False`, returns the deterministic forecast. |\n",
    "| `horizon`            | Forecast lead time, provided as either:<br>– `ISO 8601` duration string (e.g., `P0DT0H`)<br>– `datetime.timedelta` object (e.g., `datetime.timedelta(hours=0)`) |"
   ]
  },
  {
   "cell_type": "markdown",
   "id": "158d808d",
   "metadata": {},
   "source": [
    "### Downloading Data\n",
    "We now send our request to the API and download the resulting dataset using the `download_from_ogd()` function. The function expects a request and a path to a directory, where the data will be stored. In this example the forecast file is stored in the folder \"forecast_files\" within this directory.\n",
    "\n",
    "> 💡 **Tip**: Use temporary caching with earthkit-data to skip repeated downloads — it's auto-cleaned after the session.\n",
    "> *For more details, see the [earthkit-data caching docs](https://earthkit-data.readthedocs.io/en/latest/examples/cache.html)*.\n",
    "\n",
    "> 💡 **Hint**: If you get an error message containing \"HTTPError: 403 Client Error: Forbidden for url\", you may be trying to retrieve data older than 24h hours! Please adjust your requests."
   ]
  },
  {
   "cell_type": "code",
   "execution_count": 4,
   "id": "ac7599a2",
   "metadata": {},
   "outputs": [],
   "source": [
    "from pathlib import Path\n",
    "from earthkit.data import config\n",
    "config.set(\"cache-policy\", \"temporary\")\n",
    "\n",
    "ogd_api.download_from_ogd(req, Path.cwd().joinpath(\"forcast_files\"))"
   ]
  },
  {
   "cell_type": "markdown",
   "id": "255e4276",
   "metadata": {},
   "source": [
    "After executing the code block above, check that the download has been completed. In the folder \"forecast_files\" you should see three GRIB2 files and three SHA256 files:\n",
    "- horizontal_constants_icon-ch1-eps.grib2\n",
    "- horizontal_constants_icon-ch1-eps.sha256\n",
    "- icon-ch1-eps-*today's-date*-0-t_so-ctrl.grib2\n",
    "- icon-ch1-eps-*today's-date*-0-t_so-ctrl.sha256\n",
    "- vertical_constants_icon-ch1-eps.grib2\n",
    "- vertical_constants_icon-ch1-eps.sha256\n",
    "\n",
    "The GRIB2 file icon-ch1-eps-*today's-date*-0-t_so-ctrl.grib2 contains the forecast data. while the other GRIB2 files store information on the heigth, longitude and latitude of the grid points. The SHA256 files are required to verify the integrity of the data."
   ]
  },
  {
   "cell_type": "markdown",
   "id": "453611ee",
   "metadata": {},
   "source": [
    "### Verify Data Integrity\n",
    "\n",
    "To ensure the downloaded file is not corrupted, compute its SHA-256 hash and verify it against the checksum provided in the SHA256 file.\n",
    "\n",
    "Steps:\n",
    "\n",
    "1. Open a terminal and generate the SHA-256 checksum of the downloaded file:\n",
    "\n",
    "```bash\n",
    "sha256sum <downloaded_GRIB_filename>\n",
    "```\n",
    "\n",
    "2. Retrieve the checksum from the SHA256 file using the following command:\n",
    "\n",
    "```bash\n",
    "cat <downloaded_SHA256_filename>\n",
    "```\n",
    "\n",
    "3. Compare the two hash values. If they match, your forecast data file is safe to use."
   ]
  },
  {
   "cell_type": "markdown",
   "id": "9a8c78f0",
   "metadata": {},
   "source": [
    "## 2. Explore GRIB files"
   ]
  }
 ],
 "metadata": {
  "kernelspec": {
   "display_name": "Python (notebooks-nwp-env)",
   "language": "python",
   "name": "notebooks-nwp-env"
  },
  "language_info": {
   "codemirror_mode": {
    "name": "ipython",
    "version": 3
   },
   "file_extension": ".py",
   "mimetype": "text/x-python",
   "name": "python",
   "nbconvert_exporter": "python",
   "pygments_lexer": "ipython3",
   "version": "3.11.8"
  }
 },
 "nbformat": 4,
 "nbformat_minor": 5
}
